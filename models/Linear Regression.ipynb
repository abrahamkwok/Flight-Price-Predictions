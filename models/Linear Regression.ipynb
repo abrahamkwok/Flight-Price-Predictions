{
 "cells": [
  {
   "cell_type": "markdown",
   "metadata": {
    "cell_id": "b5e18a9c48264fc8905ef271a4c1e9aa",
    "deepnote_cell_type": "markdown"
   },
   "source": [
    "# Linear Regression Model"
   ]
  },
  {
   "cell_type": "markdown",
   "metadata": {
    "cell_id": "e1a832ee4d7248b3806fc966034f9ddb",
    "deepnote_cell_type": "markdown"
   },
   "source": [
    "## Dependencies + Loading in Data"
   ]
  },
  {
   "cell_type": "code",
   "execution_count": 1,
   "metadata": {
    "cell_id": "217d2c876b2641b7b497bdbaf3124479",
    "deepnote_cell_type": "code",
    "execution_context_id": "5e196466-4669-4eeb-abfe-723616e59df1",
    "execution_millis": 3792,
    "execution_start": 1733958321832,
    "source_hash": "36887d65"
   },
   "outputs": [],
   "source": [
    "import numpy as np\n",
    "import pandas as pd\n",
    "import matplotlib.pyplot as plt\n",
    "import statsmodels.api as sm\n",
    "import statsmodels.formula.api as smf\n",
    "from statsmodels.stats.outliers_influence import variance_inflation_factor\n",
    "from sklearn.metrics import confusion_matrix\n",
    "from sklearn.metrics import roc_curve, auc\n",
    "from sklearn.model_selection import GridSearchCV\n",
    "from sklearn.tree import DecisionTreeClassifier\n",
    "from sklearn.ensemble import RandomForestClassifier\n",
    "from sklearn.metrics import accuracy_score\n",
    "from sklearn.preprocessing import OneHotEncoder\n",
    "from sklearn.discriminant_analysis import LinearDiscriminantAnalysis\n",
    "from sklearn.model_selection import KFold\n",
    "from sklearn.ensemble import GradientBoostingClassifier\n",
    "from sklearn.model_selection import train_test_split\n",
    "from sklearn.linear_model import LinearRegression\n",
    "from sklearn.metrics import r2_score\n",
    "from sklearn.metrics import mean_squared_error"
   ]
  },
  {
   "cell_type": "code",
   "execution_count": 2,
   "metadata": {
    "cell_id": "23c3501b68b54d879a10ba66be50f499",
    "deepnote_cell_type": "code",
    "deepnote_table_loading": false,
    "deepnote_table_state": {
     "conditionalFilters": [],
     "filters": [],
     "pageIndex": 0,
     "pageSize": 100,
     "sortBy": [
      {
       "id": "flightDate",
       "type": "asc"
      }
     ],
     "wrappedTextColumnIds": []
    },
    "execution_context_id": "5e196466-4669-4eeb-abfe-723616e59df1",
    "execution_millis": 9930,
    "execution_start": 1733958325679,
    "source_hash": "a42bbed8"
   },
   "outputs": [
    {
     "data": {
      "application/vnd.deepnote.dataframe.v3+json": {
       "column_count": 27,
       "columns": [
        {
         "dtype": "object",
         "name": "legId",
         "stats": {
          "categories": [
           {
            "count": 1,
            "name": "510f3a1255b9843a8eae48032b191faf"
           },
           {
            "count": 1,
            "name": "5f7a29384cea410317ca308d2e065059"
           },
           {
            "count": 3,
            "name": "3 others"
           }
          ],
          "nan_count": 0,
          "unique_count": 5
         }
        },
        {
         "dtype": "object",
         "name": "searchDate",
         "stats": {
          "categories": [
           {
            "count": 3,
            "name": "2022-04-17"
           },
           {
            "count": 1,
            "name": "2022-04-18"
           },
           {
            "count": 1,
            "name": "2022-04-16"
           }
          ],
          "nan_count": 0,
          "unique_count": 3
         }
        },
        {
         "dtype": "object",
         "name": "flightDate",
         "stats": {
          "categories": [
           {
            "count": 1,
            "name": "2022-04-22"
           },
           {
            "count": 1,
            "name": "2022-05-06"
           },
           {
            "count": 3,
            "name": "3 others"
           }
          ],
          "nan_count": 0,
          "unique_count": 5
         }
        },
        {
         "dtype": "object",
         "name": "startingAirport",
         "stats": {
          "categories": [
           {
            "count": 2,
            "name": "OAK"
           },
           {
            "count": 2,
            "name": "SFO"
           },
           {
            "count": 1,
            "name": "LAX"
           }
          ],
          "nan_count": 0,
          "unique_count": 3
         }
        },
        {
         "dtype": "object",
         "name": "destinationAirport",
         "stats": {
          "categories": [
           {
            "count": 1,
            "name": "LAX"
           },
           {
            "count": 1,
            "name": "BOS"
           },
           {
            "count": 3,
            "name": "3 others"
           }
          ],
          "nan_count": 0,
          "unique_count": 5
         }
        },
        {
         "dtype": "object",
         "name": "fareBasisCode",
         "stats": {
          "categories": [
           {
            "count": 1,
            "name": "YH0OASMR"
           },
           {
            "count": 1,
            "name": "E0AJZNN1"
           },
           {
            "count": 3,
            "name": "3 others"
           }
          ],
          "nan_count": 0,
          "unique_count": 5
         }
        },
        {
         "dtype": "object",
         "name": "travelDuration",
         "stats": {
          "categories": [
           {
            "count": 1,
            "name": "PT7H11M"
           },
           {
            "count": 1,
            "name": "PT8H29M"
           },
           {
            "count": 3,
            "name": "3 others"
           }
          ],
          "nan_count": 0,
          "unique_count": 5
         }
        },
        {
         "dtype": "int64",
         "name": "elapsedDays",
         "stats": {
          "histogram": [
           {
            "bin_end": 0.1,
            "bin_start": 0,
            "count": 2
           },
           {
            "bin_end": 0.2,
            "bin_start": 0.1,
            "count": 0
           },
           {
            "bin_end": 0.30000000000000004,
            "bin_start": 0.2,
            "count": 0
           },
           {
            "bin_end": 0.4,
            "bin_start": 0.30000000000000004,
            "count": 0
           },
           {
            "bin_end": 0.5,
            "bin_start": 0.4,
            "count": 0
           },
           {
            "bin_end": 0.6000000000000001,
            "bin_start": 0.5,
            "count": 0
           },
           {
            "bin_end": 0.7000000000000001,
            "bin_start": 0.6000000000000001,
            "count": 0
           },
           {
            "bin_end": 0.8,
            "bin_start": 0.7000000000000001,
            "count": 0
           },
           {
            "bin_end": 0.9,
            "bin_start": 0.8,
            "count": 0
           },
           {
            "bin_end": 1,
            "bin_start": 0.9,
            "count": 3
           }
          ],
          "max": "1",
          "min": "0",
          "nan_count": 0,
          "unique_count": 2
         }
        },
        {
         "dtype": "bool",
         "name": "isBasicEconomy",
         "stats": {
          "categories": [
           {
            "count": 5,
            "name": "False"
           }
          ],
          "nan_count": 0,
          "unique_count": 1
         }
        },
        {
         "dtype": "bool",
         "name": "isRefundable",
         "stats": {
          "categories": [
           {
            "count": 5,
            "name": "False"
           }
          ],
          "nan_count": 0,
          "unique_count": 1
         }
        },
        {
         "dtype": "bool",
         "name": "isNonStop",
         "stats": {
          "categories": [
           {
            "count": 4,
            "name": "False"
           },
           {
            "count": 1,
            "name": "True"
           }
          ],
          "nan_count": 0,
          "unique_count": 2
         }
        },
        {
         "dtype": "float64",
         "name": "baseFare",
         "stats": {
          "histogram": [
           {
            "bin_end": 197.62099999999998,
            "bin_start": 147.91,
            "count": 1
           },
           {
            "bin_end": 247.332,
            "bin_start": 197.62099999999998,
            "count": 1
           },
           {
            "bin_end": 297.043,
            "bin_start": 247.332,
            "count": 0
           },
           {
            "bin_end": 346.754,
            "bin_start": 297.043,
            "count": 0
           },
           {
            "bin_end": 396.46500000000003,
            "bin_start": 346.754,
            "count": 0
           },
           {
            "bin_end": 446.17599999999993,
            "bin_start": 396.46500000000003,
            "count": 0
           },
           {
            "bin_end": 495.88699999999994,
            "bin_start": 446.17599999999993,
            "count": 0
           },
           {
            "bin_end": 545.598,
            "bin_start": 495.88699999999994,
            "count": 1
           },
           {
            "bin_end": 595.309,
            "bin_start": 545.598,
            "count": 1
           },
           {
            "bin_end": 645.02,
            "bin_start": 595.309,
            "count": 1
           }
          ],
          "max": "645.02",
          "min": "147.91",
          "nan_count": 0,
          "unique_count": 5
         }
        },
        {
         "dtype": "float64",
         "name": "totalFare",
         "stats": {
          "histogram": [
           {
            "bin_end": 236.04,
            "bin_start": 182.6,
            "count": 1
           },
           {
            "bin_end": 289.48,
            "bin_start": 236.04,
            "count": 1
           },
           {
            "bin_end": 342.91999999999996,
            "bin_start": 289.48,
            "count": 0
           },
           {
            "bin_end": 396.36,
            "bin_start": 342.91999999999996,
            "count": 0
           },
           {
            "bin_end": 449.79999999999995,
            "bin_start": 396.36,
            "count": 0
           },
           {
            "bin_end": 503.24,
            "bin_start": 449.79999999999995,
            "count": 0
           },
           {
            "bin_end": 556.68,
            "bin_start": 503.24,
            "count": 0
           },
           {
            "bin_end": 610.12,
            "bin_start": 556.68,
            "count": 1
           },
           {
            "bin_end": 663.56,
            "bin_start": 610.12,
            "count": 1
           },
           {
            "bin_end": 717,
            "bin_start": 663.56,
            "count": 1
           }
          ],
          "max": "717.0",
          "min": "182.6",
          "nan_count": 0,
          "unique_count": 5
         }
        },
        {
         "dtype": "int64",
         "name": "seatsRemaining",
         "stats": {
          "histogram": [
           {
            "bin_end": 3.6,
            "bin_start": 3,
            "count": 3
           },
           {
            "bin_end": 4.2,
            "bin_start": 3.6,
            "count": 0
           },
           {
            "bin_end": 4.8,
            "bin_start": 4.2,
            "count": 0
           },
           {
            "bin_end": 5.4,
            "bin_start": 4.8,
            "count": 0
           },
           {
            "bin_end": 6,
            "bin_start": 5.4,
            "count": 0
           },
           {
            "bin_end": 6.6,
            "bin_start": 6,
            "count": 0
           },
           {
            "bin_end": 7.2,
            "bin_start": 6.6,
            "count": 1
           },
           {
            "bin_end": 7.8,
            "bin_start": 7.2,
            "count": 0
           },
           {
            "bin_end": 8.399999999999999,
            "bin_start": 7.8,
            "count": 0
           },
           {
            "bin_end": 9,
            "bin_start": 8.399999999999999,
            "count": 1
           }
          ],
          "max": "9",
          "min": "3",
          "nan_count": 0,
          "unique_count": 3
         }
        },
        {
         "dtype": "float64",
         "name": "totalTravelDistance",
         "stats": {
          "histogram": [
           {
            "bin_end": 1832.2,
            "bin_start": 1628,
            "count": 2
           },
           {
            "bin_end": 2036.4,
            "bin_start": 1832.2,
            "count": 0
           },
           {
            "bin_end": 2240.6,
            "bin_start": 2036.4,
            "count": 1
           },
           {
            "bin_end": 2444.8,
            "bin_start": 2240.6,
            "count": 0
           },
           {
            "bin_end": 2649,
            "bin_start": 2444.8,
            "count": 0
           },
           {
            "bin_end": 2853.2,
            "bin_start": 2649,
            "count": 1
           },
           {
            "bin_end": 3057.3999999999996,
            "bin_start": 2853.2,
            "count": 0
           },
           {
            "bin_end": 3261.6,
            "bin_start": 3057.3999999999996,
            "count": 0
           },
           {
            "bin_end": 3465.8,
            "bin_start": 3261.6,
            "count": 0
           },
           {
            "bin_end": 3670,
            "bin_start": 3465.8,
            "count": 1
           }
          ],
          "max": "3670.0",
          "min": "1628.0",
          "nan_count": 0,
          "unique_count": 5
         }
        },
        {
         "dtype": "object",
         "name": "segmentsDepartureTimeEpochSeconds",
         "stats": {
          "categories": [
           {
            "count": 1,
            "name": "1650671280||1650688200"
           },
           {
            "count": 1,
            "name": "1651899120||1651925100"
           },
           {
            "count": 3,
            "name": "3 others"
           }
          ],
          "nan_count": 0,
          "unique_count": 5
         }
        },
        {
         "dtype": "object",
         "name": "segmentsDepartureTimeRaw",
         "stats": {
          "categories": [
           {
            "count": 1,
            "name": "2022-04-22T16:48:00.000-07:00||2022-04-22T21:30:00.000-07:00"
           },
           {
            "count": 1,
            "name": "2022-05-06T21:52:00.000-07:00||2022-05-07T08:05:00.000-04:00"
           },
           {
            "count": 3,
            "name": "3 others"
           }
          ],
          "nan_count": 0,
          "unique_count": 5
         }
        },
        {
         "dtype": "object",
         "name": "segmentsArrivalTimeEpochSeconds",
         "stats": {
          "categories": [
           {
            "count": 1,
            "name": "1650678600||1650697140"
           },
           {
            "count": 1,
            "name": "1651919400||1651929660"
           },
           {
            "count": 3,
            "name": "3 others"
           }
          ],
          "nan_count": 0,
          "unique_count": 5
         }
        },
        {
         "dtype": "object",
         "name": "segmentsArrivalTimeRaw",
         "stats": {
          "categories": [
           {
            "count": 1,
            "name": "2022-04-22T18:50:00.000-07:00||2022-04-22T23:59:00.000-07:00"
           },
           {
            "count": 1,
            "name": "2022-05-07T06:30:00.000-04:00||2022-05-07T09:21:00.000-04:00"
           },
           {
            "count": 3,
            "name": "3 others"
           }
          ],
          "nan_count": 0,
          "unique_count": 5
         }
        },
        {
         "dtype": "object",
         "name": "segmentsArrivalAirportCode",
         "stats": {
          "categories": [
           {
            "count": 1,
            "name": "SEA||ONT"
           },
           {
            "count": 1,
            "name": "JFK||BOS"
           },
           {
            "count": 3,
            "name": "3 others"
           }
          ],
          "nan_count": 0,
          "unique_count": 5
         }
        },
        {
         "dtype": "object",
         "name": "segmentsDepartureAirportCode",
         "stats": {
          "categories": [
           {
            "count": 2,
            "name": "SFO||JFK"
           },
           {
            "count": 1,
            "name": "OAK||SEA"
           },
           {
            "count": 2,
            "name": "2 others"
           }
          ],
          "nan_count": 0,
          "unique_count": 4
         }
        },
        {
         "dtype": "object",
         "name": "segmentsAirlineName",
         "stats": {
          "categories": [
           {
            "count": 2,
            "name": "JetBlue Airways||JetBlue Airways"
           },
           {
            "count": 1,
            "name": "Alaska Airlines||Alaska Airlines"
           },
           {
            "count": 2,
            "name": "2 others"
           }
          ],
          "nan_count": 0,
          "unique_count": 4
         }
        },
        {
         "dtype": "object",
         "name": "segmentsAirlineCode",
         "stats": {
          "categories": [
           {
            "count": 2,
            "name": "B6||B6"
           },
           {
            "count": 1,
            "name": "AS||AS"
           },
           {
            "count": 2,
            "name": "2 others"
           }
          ],
          "nan_count": 0,
          "unique_count": 4
         }
        },
        {
         "dtype": "object",
         "name": "segmentsEquipmentDescription",
         "stats": {
          "categories": [
           {
            "count": 1,
            "name": "Embraer 175||Airbus A320"
           },
           {
            "count": 1,
            "name": "Airbus A319-321||AIRBUS INDUSTRIE A321 SHARKLETS"
           },
           {
            "count": 3,
            "name": "3 others"
           }
          ],
          "nan_count": 0,
          "unique_count": 5
         }
        },
        {
         "dtype": "object",
         "name": "segmentsDurationInSeconds",
         "stats": {
          "categories": [
           {
            "count": 1,
            "name": "7320||8940"
           },
           {
            "count": 1,
            "name": "20280||4560"
           },
           {
            "count": 3,
            "name": "3 others"
           }
          ],
          "nan_count": 0,
          "unique_count": 5
         }
        },
        {
         "dtype": "object",
         "name": "segmentsDistance",
         "stats": {
          "categories": [
           {
            "count": 1,
            "name": "672||956"
           },
           {
            "count": 1,
            "name": "2566||185"
           },
           {
            "count": 3,
            "name": "3 others"
           }
          ],
          "nan_count": 0,
          "unique_count": 5
         }
        },
        {
         "dtype": "object",
         "name": "segmentsCabinCode",
         "stats": {
          "categories": [
           {
            "count": 3,
            "name": "coach||coach"
           },
           {
            "count": 1,
            "name": "coach||coach||coach"
           },
           {
            "count": 1,
            "name": "coach"
           }
          ],
          "nan_count": 0,
          "unique_count": 3
         }
        },
        {
         "dtype": "int64",
         "name": "_deepnote_index_column"
        }
       ],
       "row_count": 5,
       "rows": [
        {
         "_deepnote_index_column": 0,
         "baseFare": 645.02,
         "destinationAirport": "LAX",
         "elapsedDays": 0,
         "fareBasisCode": "YH0OASMR",
         "flightDate": "2022-04-22",
         "isBasicEconomy": "False",
         "isNonStop": "False",
         "isRefundable": "False",
         "legId": "510f3a1255b9843a8eae48032b191faf",
         "searchDate": "2022-04-17",
         "seatsRemaining": 7,
         "segmentsAirlineCode": "AS||AS",
         "segmentsAirlineName": "Alaska Airlines||Alaska Airlines",
         "segmentsArrivalAirportCode": "SEA||ONT",
         "segmentsArrivalTimeEpochSeconds": "1650678600||1650697140",
         "segmentsArrivalTimeRaw": "2022-04-22T18:50:00.000-07:00||2022-04-22T23:59:00.000-07:00",
         "segmentsCabinCode": "coach||coach",
         "segmentsDepartureAirportCode": "OAK||SEA",
         "segmentsDepartureTimeEpochSeconds": "1650671280||1650688200",
         "segmentsDepartureTimeRaw": "2022-04-22T16:48:00.000-07:00||2022-04-22T21:30:00.000-07:00",
         "segmentsDistance": "672||956",
         "segmentsDurationInSeconds": "7320||8940",
         "segmentsEquipmentDescription": "Embraer 175||Airbus A320",
         "startingAirport": "OAK",
         "totalFare": 717,
         "totalTravelDistance": 1628,
         "travelDuration": "PT7H11M"
        },
        {
         "_deepnote_index_column": 1,
         "baseFare": 506.05,
         "destinationAirport": "BOS",
         "elapsedDays": 1,
         "fareBasisCode": "E0AJZNN1",
         "flightDate": "2022-05-06",
         "isBasicEconomy": "False",
         "isNonStop": "False",
         "isRefundable": "False",
         "legId": "5f7a29384cea410317ca308d2e065059",
         "searchDate": "2022-04-17",
         "seatsRemaining": 3,
         "segmentsAirlineCode": "B6||B6",
         "segmentsAirlineName": "JetBlue Airways||JetBlue Airways",
         "segmentsArrivalAirportCode": "JFK||BOS",
         "segmentsArrivalTimeEpochSeconds": "1651919400||1651929660",
         "segmentsArrivalTimeRaw": "2022-05-07T06:30:00.000-04:00||2022-05-07T09:21:00.000-04:00",
         "segmentsCabinCode": "coach||coach",
         "segmentsDepartureAirportCode": "SFO||JFK",
         "segmentsDepartureTimeEpochSeconds": "1651899120||1651925100",
         "segmentsDepartureTimeRaw": "2022-05-06T21:52:00.000-07:00||2022-05-07T08:05:00.000-04:00",
         "segmentsDistance": "2566||185",
         "segmentsDurationInSeconds": "20280||4560",
         "segmentsEquipmentDescription": "Airbus A319-321||AIRBUS INDUSTRIE A321 SHARKLETS",
         "startingAirport": "SFO",
         "totalFare": 567.6,
         "totalTravelDistance": 2751,
         "travelDuration": "PT8H29M"
        },
        {
         "_deepnote_index_column": 2,
         "baseFare": 557.21,
         "destinationAirport": "DTW",
         "elapsedDays": 0,
         "fareBasisCode": "QA3OA0MC",
         "flightDate": "2022-04-30",
         "isBasicEconomy": "False",
         "isNonStop": "False",
         "isRefundable": "False",
         "legId": "a5e9d9b01627d1e1c54d6b6cbf143945",
         "searchDate": "2022-04-18",
         "seatsRemaining": 3,
         "segmentsAirlineCode": "DL||UA||UA",
         "segmentsAirlineName": "Delta||United||United",
         "segmentsArrivalAirportCode": "SLC||ORD||DTW",
         "segmentsArrivalTimeEpochSeconds": "1651345740||1651367940||1651376220",
         "segmentsArrivalTimeRaw": "2022-04-30T13:09:00.000-06:00||2022-04-30T20:19:00.000-05:00||2022-04-30T23:37:00.000-04:00",
         "segmentsCabinCode": "coach||coach||coach",
         "segmentsDepartureAirportCode": "OAK||SLC||ORD",
         "segmentsDepartureTimeEpochSeconds": "1651339500||1651356000||1651371000",
         "segmentsDepartureTimeRaw": "2022-04-30T10:25:00.000-07:00||2022-04-30T16:00:00.000-06:00||2022-04-30T21:10:00.000-05:00",
         "segmentsDistance": "588||1251||240",
         "segmentsDurationInSeconds": "6240||11940||5220",
         "segmentsEquipmentDescription": "Airbus A220-100||Embraer 175 (Enhanced Winglets)||Embraer 175 (Enhanced Winglets)",
         "startingAirport": "OAK",
         "totalFare": 627.1,
         "totalTravelDistance": 2079,
         "travelDuration": "PT10H12M"
        },
        {
         "_deepnote_index_column": 3,
         "baseFare": 147.91,
         "destinationAirport": "MIA",
         "elapsedDays": 1,
         "fareBasisCode": "R7AZZNN3",
         "flightDate": "2022-04-26",
         "isBasicEconomy": "False",
         "isNonStop": "False",
         "isRefundable": "False",
         "legId": "b8714828ff605dfc10a9c511917f1ee8",
         "searchDate": "2022-04-16",
         "seatsRemaining": 3,
         "segmentsAirlineCode": "B6||B6",
         "segmentsAirlineName": "JetBlue Airways||JetBlue Airways",
         "segmentsArrivalAirportCode": "JFK||MIA",
         "segmentsArrivalTimeEpochSeconds": "1651053360||1651072080",
         "segmentsArrivalTimeRaw": "2022-04-27T05:56:00.000-04:00||2022-04-27T11:08:00.000-04:00",
         "segmentsCabinCode": "coach||coach",
         "segmentsDepartureAirportCode": "SFO||JFK",
         "segmentsDepartureTimeEpochSeconds": "1651033200||1651060500",
         "segmentsDepartureTimeRaw": "2022-04-26T21:20:00.000-07:00||2022-04-27T07:55:00.000-04:00",
         "segmentsDistance": "2566||1104",
         "segmentsDurationInSeconds": "20160||11580",
         "segmentsEquipmentDescription": "Airbus A319-321||Boeing 737 MAX 8",
         "startingAirport": "SFO",
         "totalFare": 182.6,
         "totalTravelDistance": 3670,
         "travelDuration": "PT10H48M"
        },
        {
         "_deepnote_index_column": 4,
         "baseFare": 236.28,
         "destinationAirport": "ORD",
         "elapsedDays": 1,
         "fareBasisCode": "WAA7OWEN",
         "flightDate": "2022-05-14",
         "isBasicEconomy": "False",
         "isNonStop": "True",
         "isRefundable": "False",
         "legId": "80e97c74e379451453a1151b70aaf371",
         "searchDate": "2022-04-17",
         "seatsRemaining": 9,
         "segmentsAirlineCode": "UA",
         "segmentsAirlineName": "United",
         "segmentsArrivalAirportCode": "ORD",
         "segmentsArrivalTimeEpochSeconds": "1652612580",
         "segmentsArrivalTimeRaw": "2022-05-15T06:03:00.000-05:00",
         "segmentsCabinCode": "coach",
         "segmentsDepartureAirportCode": "LAX",
         "segmentsDepartureTimeEpochSeconds": "1652597940",
         "segmentsDepartureTimeRaw": "2022-05-14T23:59:00.000-07:00",
         "segmentsDistance": "1745",
         "segmentsDurationInSeconds": "14640",
         "segmentsEquipmentDescription": "Boeing 737-900",
         "startingAirport": "LAX",
         "totalFare": 268.6,
         "totalTravelDistance": 1745,
         "travelDuration": "PT4H4M"
        }
       ]
      },
      "text/html": [
       "<div>\n",
       "<style scoped>\n",
       "    .dataframe tbody tr th:only-of-type {\n",
       "        vertical-align: middle;\n",
       "    }\n",
       "\n",
       "    .dataframe tbody tr th {\n",
       "        vertical-align: top;\n",
       "    }\n",
       "\n",
       "    .dataframe thead th {\n",
       "        text-align: right;\n",
       "    }\n",
       "</style>\n",
       "<table border=\"1\" class=\"dataframe\">\n",
       "  <thead>\n",
       "    <tr style=\"text-align: right;\">\n",
       "      <th></th>\n",
       "      <th>legId</th>\n",
       "      <th>searchDate</th>\n",
       "      <th>flightDate</th>\n",
       "      <th>startingAirport</th>\n",
       "      <th>destinationAirport</th>\n",
       "      <th>fareBasisCode</th>\n",
       "      <th>travelDuration</th>\n",
       "      <th>elapsedDays</th>\n",
       "      <th>isBasicEconomy</th>\n",
       "      <th>isRefundable</th>\n",
       "      <th>...</th>\n",
       "      <th>segmentsArrivalTimeEpochSeconds</th>\n",
       "      <th>segmentsArrivalTimeRaw</th>\n",
       "      <th>segmentsArrivalAirportCode</th>\n",
       "      <th>segmentsDepartureAirportCode</th>\n",
       "      <th>segmentsAirlineName</th>\n",
       "      <th>segmentsAirlineCode</th>\n",
       "      <th>segmentsEquipmentDescription</th>\n",
       "      <th>segmentsDurationInSeconds</th>\n",
       "      <th>segmentsDistance</th>\n",
       "      <th>segmentsCabinCode</th>\n",
       "    </tr>\n",
       "  </thead>\n",
       "  <tbody>\n",
       "    <tr>\n",
       "      <th>0</th>\n",
       "      <td>510f3a1255b9843a8eae48032b191faf</td>\n",
       "      <td>2022-04-17</td>\n",
       "      <td>2022-04-22</td>\n",
       "      <td>OAK</td>\n",
       "      <td>LAX</td>\n",
       "      <td>YH0OASMR</td>\n",
       "      <td>PT7H11M</td>\n",
       "      <td>0</td>\n",
       "      <td>False</td>\n",
       "      <td>False</td>\n",
       "      <td>...</td>\n",
       "      <td>1650678600||1650697140</td>\n",
       "      <td>2022-04-22T18:50:00.000-07:00||2022-04-22T23:5...</td>\n",
       "      <td>SEA||ONT</td>\n",
       "      <td>OAK||SEA</td>\n",
       "      <td>Alaska Airlines||Alaska Airlines</td>\n",
       "      <td>AS||AS</td>\n",
       "      <td>Embraer 175||Airbus A320</td>\n",
       "      <td>7320||8940</td>\n",
       "      <td>672||956</td>\n",
       "      <td>coach||coach</td>\n",
       "    </tr>\n",
       "    <tr>\n",
       "      <th>1</th>\n",
       "      <td>5f7a29384cea410317ca308d2e065059</td>\n",
       "      <td>2022-04-17</td>\n",
       "      <td>2022-05-06</td>\n",
       "      <td>SFO</td>\n",
       "      <td>BOS</td>\n",
       "      <td>E0AJZNN1</td>\n",
       "      <td>PT8H29M</td>\n",
       "      <td>1</td>\n",
       "      <td>False</td>\n",
       "      <td>False</td>\n",
       "      <td>...</td>\n",
       "      <td>1651919400||1651929660</td>\n",
       "      <td>2022-05-07T06:30:00.000-04:00||2022-05-07T09:2...</td>\n",
       "      <td>JFK||BOS</td>\n",
       "      <td>SFO||JFK</td>\n",
       "      <td>JetBlue Airways||JetBlue Airways</td>\n",
       "      <td>B6||B6</td>\n",
       "      <td>Airbus A319-321||AIRBUS INDUSTRIE A321 SHARKLETS</td>\n",
       "      <td>20280||4560</td>\n",
       "      <td>2566||185</td>\n",
       "      <td>coach||coach</td>\n",
       "    </tr>\n",
       "    <tr>\n",
       "      <th>2</th>\n",
       "      <td>a5e9d9b01627d1e1c54d6b6cbf143945</td>\n",
       "      <td>2022-04-18</td>\n",
       "      <td>2022-04-30</td>\n",
       "      <td>OAK</td>\n",
       "      <td>DTW</td>\n",
       "      <td>QA3OA0MC</td>\n",
       "      <td>PT10H12M</td>\n",
       "      <td>0</td>\n",
       "      <td>False</td>\n",
       "      <td>False</td>\n",
       "      <td>...</td>\n",
       "      <td>1651345740||1651367940||1651376220</td>\n",
       "      <td>2022-04-30T13:09:00.000-06:00||2022-04-30T20:1...</td>\n",
       "      <td>SLC||ORD||DTW</td>\n",
       "      <td>OAK||SLC||ORD</td>\n",
       "      <td>Delta||United||United</td>\n",
       "      <td>DL||UA||UA</td>\n",
       "      <td>Airbus A220-100||Embraer 175 (Enhanced Winglet...</td>\n",
       "      <td>6240||11940||5220</td>\n",
       "      <td>588||1251||240</td>\n",
       "      <td>coach||coach||coach</td>\n",
       "    </tr>\n",
       "    <tr>\n",
       "      <th>3</th>\n",
       "      <td>b8714828ff605dfc10a9c511917f1ee8</td>\n",
       "      <td>2022-04-16</td>\n",
       "      <td>2022-04-26</td>\n",
       "      <td>SFO</td>\n",
       "      <td>MIA</td>\n",
       "      <td>R7AZZNN3</td>\n",
       "      <td>PT10H48M</td>\n",
       "      <td>1</td>\n",
       "      <td>False</td>\n",
       "      <td>False</td>\n",
       "      <td>...</td>\n",
       "      <td>1651053360||1651072080</td>\n",
       "      <td>2022-04-27T05:56:00.000-04:00||2022-04-27T11:0...</td>\n",
       "      <td>JFK||MIA</td>\n",
       "      <td>SFO||JFK</td>\n",
       "      <td>JetBlue Airways||JetBlue Airways</td>\n",
       "      <td>B6||B6</td>\n",
       "      <td>Airbus A319-321||Boeing 737 MAX 8</td>\n",
       "      <td>20160||11580</td>\n",
       "      <td>2566||1104</td>\n",
       "      <td>coach||coach</td>\n",
       "    </tr>\n",
       "    <tr>\n",
       "      <th>4</th>\n",
       "      <td>80e97c74e379451453a1151b70aaf371</td>\n",
       "      <td>2022-04-17</td>\n",
       "      <td>2022-05-14</td>\n",
       "      <td>LAX</td>\n",
       "      <td>ORD</td>\n",
       "      <td>WAA7OWEN</td>\n",
       "      <td>PT4H4M</td>\n",
       "      <td>1</td>\n",
       "      <td>False</td>\n",
       "      <td>False</td>\n",
       "      <td>...</td>\n",
       "      <td>1652612580</td>\n",
       "      <td>2022-05-15T06:03:00.000-05:00</td>\n",
       "      <td>ORD</td>\n",
       "      <td>LAX</td>\n",
       "      <td>United</td>\n",
       "      <td>UA</td>\n",
       "      <td>Boeing 737-900</td>\n",
       "      <td>14640</td>\n",
       "      <td>1745</td>\n",
       "      <td>coach</td>\n",
       "    </tr>\n",
       "  </tbody>\n",
       "</table>\n",
       "<p>5 rows × 27 columns</p>\n",
       "</div>"
      ],
      "text/plain": [
       "                              legId  searchDate  flightDate startingAirport  \\\n",
       "0  510f3a1255b9843a8eae48032b191faf  2022-04-17  2022-04-22             OAK   \n",
       "1  5f7a29384cea410317ca308d2e065059  2022-04-17  2022-05-06             SFO   \n",
       "2  a5e9d9b01627d1e1c54d6b6cbf143945  2022-04-18  2022-04-30             OAK   \n",
       "3  b8714828ff605dfc10a9c511917f1ee8  2022-04-16  2022-04-26             SFO   \n",
       "4  80e97c74e379451453a1151b70aaf371  2022-04-17  2022-05-14             LAX   \n",
       "\n",
       "  destinationAirport fareBasisCode travelDuration  elapsedDays  \\\n",
       "0                LAX      YH0OASMR        PT7H11M            0   \n",
       "1                BOS      E0AJZNN1        PT8H29M            1   \n",
       "2                DTW      QA3OA0MC       PT10H12M            0   \n",
       "3                MIA      R7AZZNN3       PT10H48M            1   \n",
       "4                ORD      WAA7OWEN         PT4H4M            1   \n",
       "\n",
       "   isBasicEconomy  isRefundable  ...     segmentsArrivalTimeEpochSeconds  \\\n",
       "0           False         False  ...              1650678600||1650697140   \n",
       "1           False         False  ...              1651919400||1651929660   \n",
       "2           False         False  ...  1651345740||1651367940||1651376220   \n",
       "3           False         False  ...              1651053360||1651072080   \n",
       "4           False         False  ...                          1652612580   \n",
       "\n",
       "                              segmentsArrivalTimeRaw  \\\n",
       "0  2022-04-22T18:50:00.000-07:00||2022-04-22T23:5...   \n",
       "1  2022-05-07T06:30:00.000-04:00||2022-05-07T09:2...   \n",
       "2  2022-04-30T13:09:00.000-06:00||2022-04-30T20:1...   \n",
       "3  2022-04-27T05:56:00.000-04:00||2022-04-27T11:0...   \n",
       "4                      2022-05-15T06:03:00.000-05:00   \n",
       "\n",
       "   segmentsArrivalAirportCode  segmentsDepartureAirportCode  \\\n",
       "0                    SEA||ONT                      OAK||SEA   \n",
       "1                    JFK||BOS                      SFO||JFK   \n",
       "2               SLC||ORD||DTW                 OAK||SLC||ORD   \n",
       "3                    JFK||MIA                      SFO||JFK   \n",
       "4                         ORD                           LAX   \n",
       "\n",
       "                segmentsAirlineName segmentsAirlineCode  \\\n",
       "0  Alaska Airlines||Alaska Airlines              AS||AS   \n",
       "1  JetBlue Airways||JetBlue Airways              B6||B6   \n",
       "2             Delta||United||United          DL||UA||UA   \n",
       "3  JetBlue Airways||JetBlue Airways              B6||B6   \n",
       "4                            United                  UA   \n",
       "\n",
       "                        segmentsEquipmentDescription  \\\n",
       "0                           Embraer 175||Airbus A320   \n",
       "1   Airbus A319-321||AIRBUS INDUSTRIE A321 SHARKLETS   \n",
       "2  Airbus A220-100||Embraer 175 (Enhanced Winglet...   \n",
       "3                  Airbus A319-321||Boeing 737 MAX 8   \n",
       "4                                     Boeing 737-900   \n",
       "\n",
       "  segmentsDurationInSeconds segmentsDistance    segmentsCabinCode  \n",
       "0                7320||8940         672||956         coach||coach  \n",
       "1               20280||4560        2566||185         coach||coach  \n",
       "2         6240||11940||5220   588||1251||240  coach||coach||coach  \n",
       "3              20160||11580       2566||1104         coach||coach  \n",
       "4                     14640             1745                coach  \n",
       "\n",
       "[5 rows x 27 columns]"
      ]
     },
     "execution_count": 2,
     "metadata": {},
     "output_type": "execute_result"
    }
   ],
   "source": [
    "\"\"\"\n",
    "Variable Descriptions\n",
    "\n",
    "legId: An identifier for the flight.\n",
    "searchDate: The date (YYYY-MM-DD) on which this entry was taken from Expedia.\n",
    "flightDate: The date (YYYY-MM-DD) of the flight.\n",
    "startingAirport: Three-character IATA airport code for the initial location.\n",
    "destinationAirport: Three-character IATA airport code for the arrival location.\n",
    "fareBasisCode: The fare basis code.\n",
    "travelDuration: The travel duration in hours and minutes.\n",
    "elapsedDays: The number of elapsed days (usually 0).\n",
    "isBasicEconomy: Boolean for whether the ticket is for basic economy.\n",
    "isRefundable: Boolean for whether the ticket is refundable.\n",
    "isNonStop: Boolean for whether the flight is non-stop.\n",
    "baseFare: The price of the ticket (in USD).\n",
    "totalFare: The price of the ticket (in USD) including taxes and other fees.\n",
    "seatsRemaining: Integer for the number of seats remaining.\n",
    "totalTravelDistance: The total travel distance in miles. This data is sometimes missing.\n",
    "segmentsDepartureTimeEpochSeconds: String containing the departure time (Unix time) for each leg of the trip. The entries for each of the legs are separated by '||'.\n",
    "segmentsDepartureTimeRaw: String containing the departure time (ISO 8601 format: YYYY-MM-DDThh:mm:ss.000±[hh]:00) for each leg of the trip. The entries for each of the legs are separated by '||'.\n",
    "segmentsArrivalTimeEpochSeconds: String containing the arrival time (Unix time) for each leg of the trip. The entries for each of the legs are separated by '||'.\n",
    "segmentsArrivalTimeRaw: String containing the arrival time (ISO 8601 format: YYYY-MM-DDThh:mm:ss.000±[hh]:00) for each leg of the trip. The entries for each of the legs are separated by '||'.\n",
    "segmentsArrivalAirportCode: String containing the IATA airport code for the arrival location for each leg of the trip. The entries for each of the legs are separated by '||'.\n",
    "segmentsDepartureAirportCode: String containing the IATA airport code for the departure location for each leg of the trip. The entries for each of the legs are separated by '||'.\n",
    "segmentsAirlineName: String containing the name of the airline that services each leg of the trip. The entries for each of the legs are separated by '||'.\n",
    "segmentsAirlineCode: String containing the two-letter airline code that services each leg of the trip. The entries for each of the legs are separated by '||'.\n",
    "segmentsEquipmentDescription: String containing the type of airplane used for each leg of the trip (e.g. \"Airbus A321\" or \"Boeing 737-800\"). The entries for each of the legs are separated by '||'.\n",
    "segmentsDurationInSeconds: String containing the duration of the flight (in seconds) for each leg of the trip. The entries for each of the legs are separated by '||'.\n",
    "segmentsDistance: String containing the distance traveled (in miles) for each leg of the trip. The entries for each of the legs are separated by '||'.\n",
    "segmentsCabinCode: String containing the cabin for each leg of the trip (e.g. \"coach\"). The entries for each of the legs are separated by '||'.\n",
    "\"\"\"\n",
    "data = pd.read_csv(\"/work/kaggle_flight_prices/ca_sample_data.csv\")\n",
    "data.head()"
   ]
  },
  {
   "cell_type": "markdown",
   "metadata": {
    "cell_id": "d3394975de6c43a4b04dd6957d8df080",
    "deepnote_cell_type": "markdown"
   },
   "source": [
    "## Data Cleaning\n",
    "*Repeated from the `Data Cleaning` notebook*"
   ]
  },
  {
   "cell_type": "code",
   "execution_count": 3,
   "metadata": {
    "cell_id": "8552b986d7b6471aa19e41e76c7151c3",
    "deepnote_cell_type": "code",
    "deepnote_table_loading": false,
    "deepnote_table_state": {
     "cellFormattingRules": [],
     "conditionalFilters": [],
     "filters": [],
     "pageIndex": 0,
     "pageSize": 100,
     "sortBy": [],
     "wrappedTextColumnIds": []
    },
    "execution_context_id": "5e196466-4669-4eeb-abfe-723616e59df1",
    "execution_millis": 611,
    "execution_start": 1733958335664,
    "source_hash": "59e71cfd"
   },
   "outputs": [
    {
     "name": "stderr",
     "output_type": "stream",
     "text": [
      "/tmp/ipykernel_255/3274339856.py:4: SettingWithCopyWarning: \n",
      "A value is trying to be set on a copy of a slice from a DataFrame.\n",
      "Try using .loc[row_indexer,col_indexer] = value instead\n",
      "\n",
      "See the caveats in the documentation: https://pandas.pydata.org/pandas-docs/stable/user_guide/indexing.html#returning-a-view-versus-a-copy\n",
      "  filtered_data['bookingClassCode'] = filtered_data['fareBasisCode'].str[0]\n",
      "/tmp/ipykernel_255/3274339856.py:5: SettingWithCopyWarning: \n",
      "A value is trying to be set on a copy of a slice from a DataFrame.\n",
      "Try using .loc[row_indexer,col_indexer] = value instead\n",
      "\n",
      "See the caveats in the documentation: https://pandas.pydata.org/pandas-docs/stable/user_guide/indexing.html#returning-a-view-versus-a-copy\n",
      "  filtered_data[\"searchDate\"] = pd.to_datetime(filtered_data[\"searchDate\"])\n",
      "/tmp/ipykernel_255/3274339856.py:6: SettingWithCopyWarning: \n",
      "A value is trying to be set on a copy of a slice from a DataFrame.\n",
      "Try using .loc[row_indexer,col_indexer] = value instead\n",
      "\n",
      "See the caveats in the documentation: https://pandas.pydata.org/pandas-docs/stable/user_guide/indexing.html#returning-a-view-versus-a-copy\n",
      "  filtered_data['flightDate'] = pd.to_datetime(filtered_data['flightDate'])\n",
      "/tmp/ipykernel_255/3274339856.py:7: SettingWithCopyWarning: \n",
      "A value is trying to be set on a copy of a slice from a DataFrame.\n",
      "Try using .loc[row_indexer,col_indexer] = value instead\n",
      "\n",
      "See the caveats in the documentation: https://pandas.pydata.org/pandas-docs/stable/user_guide/indexing.html#returning-a-view-versus-a-copy\n",
      "  filtered_data[\"daysTillFlight\"] = (filtered_data[\"flightDate\"] - filtered_data[\"searchDate\"]).dt.days\n"
     ]
    }
   ],
   "source": [
    "# Preprocessing data (part 1)\n",
    "filtered_data = data[data['segmentsDepartureTimeEpochSeconds'].str.count('\\|\\|') == 0]\n",
    "filtered_data['bookingClassCode'] = filtered_data['fareBasisCode'].str[0]\n",
    "filtered_data[\"searchDate\"] = pd.to_datetime(filtered_data[\"searchDate\"])\n",
    "filtered_data['flightDate'] = pd.to_datetime(filtered_data['flightDate'])\n",
    "filtered_data[\"daysTillFlight\"] = (filtered_data[\"flightDate\"] - filtered_data[\"searchDate\"]).dt.days"
   ]
  },
  {
   "cell_type": "code",
   "execution_count": 4,
   "metadata": {
    "cell_id": "dc9b8f0742a74e6ab3c8da82613e9dbd",
    "deepnote_cell_type": "code",
    "execution_context_id": "5e196466-4669-4eeb-abfe-723616e59df1",
    "execution_millis": 3655,
    "execution_start": 1733958336320,
    "source_hash": "a6c872dc"
   },
   "outputs": [
    {
     "name": "stderr",
     "output_type": "stream",
     "text": [
      "/tmp/ipykernel_255/2557190885.py:4: FutureWarning: In a future version of pandas, parsing datetimes with mixed time zones will raise an error unless `utc=True`. Please specify `utc=True` to opt in to the new behaviour and silence this warning. To create a `Series` with mixed offsets and `object` dtype, please use `apply` and `datetime.datetime.strptime`\n",
      "  filtered_data[\"segmentsDepartureTimeRaw\"] = pd.to_datetime(filtered_data[\"segmentsDepartureTimeRaw\"], errors='coerce')\n",
      "/tmp/ipykernel_255/2557190885.py:11: FutureWarning: In a future version of pandas, parsing datetimes with mixed time zones will raise an error unless `utc=True`. Please specify `utc=True` to opt in to the new behaviour and silence this warning. To create a `Series` with mixed offsets and `object` dtype, please use `apply` and `datetime.datetime.strptime`\n",
      "  filtered_data[\"segmentsArrivalTimeRaw\"] = pd.to_datetime(filtered_data[\"segmentsArrivalTimeRaw\"], errors='coerce')\n"
     ]
    }
   ],
   "source": [
    "# Preprocessing data (part 2)\n",
    "filtered_data = filtered_data.copy()\n",
    "\n",
    "filtered_data[\"segmentsDepartureTimeRaw\"] = pd.to_datetime(filtered_data[\"segmentsDepartureTimeRaw\"], errors='coerce')\n",
    "filtered_data.dropna(subset=[\"segmentsDepartureTimeRaw\"], inplace=True)\n",
    "filtered_data[\"segmentsDepartureTimeRaw\"] = pd.to_datetime(filtered_data[\"segmentsDepartureTimeRaw\"], errors='coerce')\n",
    "filtered_data.dropna(subset=[\"segmentsDepartureTimeRaw\"], inplace=True)\n",
    "filtered_data[\"departureDayOfWeek\"] = filtered_data[\"segmentsDepartureTimeRaw\"].dt.dayofweek\n",
    "filtered_data[\"departureHour\"] = filtered_data[\"segmentsDepartureTimeRaw\"].dt.hour\n",
    "\n",
    "filtered_data[\"segmentsArrivalTimeRaw\"] = pd.to_datetime(filtered_data[\"segmentsArrivalTimeRaw\"], errors='coerce')\n",
    "filtered_data.dropna(subset=[\"segmentsArrivalTimeRaw\"], inplace=True)\n",
    "filtered_data[\"segmentsArrivalTimeRaw\"] = pd.to_datetime(filtered_data[\"segmentsArrivalTimeRaw\"], errors='coerce')\n",
    "filtered_data.dropna(subset=[\"segmentsArrivalTimeRaw\"], inplace=True)\n",
    "filtered_data[\"arrivalDayOfWeek\"] = filtered_data[\"segmentsArrivalTimeRaw\"].dt.dayofweek\n",
    "filtered_data[\"arrivalHour\"] = filtered_data[\"segmentsArrivalTimeRaw\"].dt.hour"
   ]
  },
  {
   "cell_type": "code",
   "execution_count": 5,
   "metadata": {
    "cell_id": "0fca1c62212d40539496c79bbe025abc",
    "deepnote_cell_type": "code",
    "execution_context_id": "7a0912f9-8bfe-49d7-b1c3-cf65e22e95d0",
    "execution_millis": 0,
    "execution_start": 1733958340028,
    "source_hash": "6062b725"
   },
   "outputs": [],
   "source": [
    "# Preprocessing data (part 3)\n",
    "filtered_data['segmentsDurationInSeconds'] = filtered_data['segmentsDurationInSeconds'].astype(int)\n",
    "filtered_data.dropna(subset=[\"segmentsDistance\"], inplace=True)\n",
    "filtered_data['segmentsDistance'] = filtered_data['segmentsDistance'].astype(int)\n",
    "filtered_data = filtered_data.drop(columns=['legId', 'totalFare', 'fareBasisCode', 'travelDuration', 'segmentsDepartureTimeRaw', 'segmentsArrivalTimeRaw', 'segmentsDepartureTimeEpochSeconds', 'segmentsArrivalTimeEpochSeconds', 'segmentsAirlineName'])"
   ]
  },
  {
   "cell_type": "code",
   "execution_count": 6,
   "metadata": {
    "cell_id": "0c136201295c4828892dcf8fdfe6a47e",
    "deepnote_cell_type": "code",
    "execution_context_id": "5e196466-4669-4eeb-abfe-723616e59df1",
    "execution_millis": 15,
    "execution_start": 1733958340075,
    "source_hash": "5c7747cb"
   },
   "outputs": [
    {
     "data": {
      "application/vnd.deepnote.dataframe.v3+json": {
       "column_count": 24,
       "columns": [
        {
         "dtype": "datetime64[ns]",
         "name": "searchDate",
         "stats": {
          "histogram": [
           {
            "bin_end": 1650084480000000000,
            "bin_start": 1650067200000000000,
            "count": 1
           },
           {
            "bin_end": 1650101760000000000,
            "bin_start": 1650084480000000000,
            "count": 0
           },
           {
            "bin_end": 1650119040000000000,
            "bin_start": 1650101760000000000,
            "count": 0
           },
           {
            "bin_end": 1650136320000000000,
            "bin_start": 1650119040000000000,
            "count": 0
           },
           {
            "bin_end": 1650153600000000000,
            "bin_start": 1650136320000000000,
            "count": 0
           },
           {
            "bin_end": 1650170880000000000,
            "bin_start": 1650153600000000000,
            "count": 2
           },
           {
            "bin_end": 1650188160000000000,
            "bin_start": 1650170880000000000,
            "count": 0
           },
           {
            "bin_end": 1650205440000000000,
            "bin_start": 1650188160000000000,
            "count": 0
           },
           {
            "bin_end": 1650222720000000000,
            "bin_start": 1650205440000000000,
            "count": 0
           },
           {
            "bin_end": 1650240000000000000,
            "bin_start": 1650222720000000000,
            "count": 2
           }
          ],
          "max": "2022-04-18 00:00:00",
          "min": "2022-04-16 00:00:00",
          "nan_count": 0,
          "unique_count": 3
         }
        },
        {
         "dtype": "datetime64[ns]",
         "name": "flightDate",
         "stats": {
          "histogram": [
           {
            "bin_end": 1650542400000000000,
            "bin_start": 1650326400000000000,
            "count": 2
           },
           {
            "bin_end": 1650758400000000000,
            "bin_start": 1650542400000000000,
            "count": 1
           },
           {
            "bin_end": 1650974400000000000,
            "bin_start": 1650758400000000000,
            "count": 1
           },
           {
            "bin_end": 1651190400000000000,
            "bin_start": 1650974400000000000,
            "count": 0
           },
           {
            "bin_end": 1651406400000000000,
            "bin_start": 1651190400000000000,
            "count": 0
           },
           {
            "bin_end": 1651622400000000000,
            "bin_start": 1651406400000000000,
            "count": 0
           },
           {
            "bin_end": 1651838400000000000,
            "bin_start": 1651622400000000000,
            "count": 0
           },
           {
            "bin_end": 1652054400000000000,
            "bin_start": 1651838400000000000,
            "count": 0
           },
           {
            "bin_end": 1652270400000000000,
            "bin_start": 1652054400000000000,
            "count": 0
           },
           {
            "bin_end": 1652486400000000000,
            "bin_start": 1652270400000000000,
            "count": 1
           }
          ],
          "max": "2022-05-14 00:00:00",
          "min": "2022-04-19 00:00:00",
          "nan_count": 0,
          "unique_count": 4
         }
        },
        {
         "dtype": "object",
         "name": "startingAirport",
         "stats": {
          "categories": [
           {
            "count": 5,
            "name": "LAX"
           }
          ],
          "nan_count": 0,
          "unique_count": 1
         }
        },
        {
         "dtype": "object",
         "name": "destinationAirport",
         "stats": {
          "categories": [
           {
            "count": 4,
            "name": "ORD"
           },
           {
            "count": 1,
            "name": "DFW"
           }
          ],
          "nan_count": 0,
          "unique_count": 2
         }
        },
        {
         "dtype": "int64",
         "name": "elapsedDays",
         "stats": {
          "histogram": [
           {
            "bin_end": 0.1,
            "bin_start": 0,
            "count": 4
           },
           {
            "bin_end": 0.2,
            "bin_start": 0.1,
            "count": 0
           },
           {
            "bin_end": 0.30000000000000004,
            "bin_start": 0.2,
            "count": 0
           },
           {
            "bin_end": 0.4,
            "bin_start": 0.30000000000000004,
            "count": 0
           },
           {
            "bin_end": 0.5,
            "bin_start": 0.4,
            "count": 0
           },
           {
            "bin_end": 0.6000000000000001,
            "bin_start": 0.5,
            "count": 0
           },
           {
            "bin_end": 0.7000000000000001,
            "bin_start": 0.6000000000000001,
            "count": 0
           },
           {
            "bin_end": 0.8,
            "bin_start": 0.7000000000000001,
            "count": 0
           },
           {
            "bin_end": 0.9,
            "bin_start": 0.8,
            "count": 0
           },
           {
            "bin_end": 1,
            "bin_start": 0.9,
            "count": 1
           }
          ],
          "max": "1",
          "min": "0",
          "nan_count": 0,
          "unique_count": 2
         }
        },
        {
         "dtype": "bool",
         "name": "isBasicEconomy",
         "stats": {
          "categories": [
           {
            "count": 5,
            "name": "False"
           }
          ],
          "nan_count": 0,
          "unique_count": 1
         }
        },
        {
         "dtype": "bool",
         "name": "isRefundable",
         "stats": {
          "categories": [
           {
            "count": 5,
            "name": "False"
           }
          ],
          "nan_count": 0,
          "unique_count": 1
         }
        },
        {
         "dtype": "bool",
         "name": "isNonStop",
         "stats": {
          "categories": [
           {
            "count": 5,
            "name": "True"
           }
          ],
          "nan_count": 0,
          "unique_count": 1
         }
        },
        {
         "dtype": "float64",
         "name": "baseFare",
         "stats": {
          "histogram": [
           {
            "bin_end": 258.605,
            "bin_start": 236.28,
            "count": 2
           },
           {
            "bin_end": 280.93,
            "bin_start": 258.605,
            "count": 0
           },
           {
            "bin_end": 303.255,
            "bin_start": 280.93,
            "count": 0
           },
           {
            "bin_end": 325.58,
            "bin_start": 303.255,
            "count": 2
           },
           {
            "bin_end": 347.905,
            "bin_start": 325.58,
            "count": 0
           },
           {
            "bin_end": 370.23,
            "bin_start": 347.905,
            "count": 0
           },
           {
            "bin_end": 392.55499999999995,
            "bin_start": 370.23,
            "count": 0
           },
           {
            "bin_end": 414.88,
            "bin_start": 392.55499999999995,
            "count": 0
           },
           {
            "bin_end": 437.2049999999999,
            "bin_start": 414.88,
            "count": 0
           },
           {
            "bin_end": 459.53,
            "bin_start": 437.2049999999999,
            "count": 1
           }
          ],
          "max": "459.53",
          "min": "236.28",
          "nan_count": 0,
          "unique_count": 5
         }
        },
        {
         "dtype": "int64",
         "name": "seatsRemaining",
         "stats": {
          "histogram": [
           {
            "bin_end": 5.4,
            "bin_start": 5,
            "count": 1
           },
           {
            "bin_end": 5.8,
            "bin_start": 5.4,
            "count": 0
           },
           {
            "bin_end": 6.2,
            "bin_start": 5.8,
            "count": 1
           },
           {
            "bin_end": 6.6,
            "bin_start": 6.2,
            "count": 0
           },
           {
            "bin_end": 7,
            "bin_start": 6.6,
            "count": 0
           },
           {
            "bin_end": 7.4,
            "bin_start": 7,
            "count": 2
           },
           {
            "bin_end": 7.800000000000001,
            "bin_start": 7.4,
            "count": 0
           },
           {
            "bin_end": 8.2,
            "bin_start": 7.800000000000001,
            "count": 0
           },
           {
            "bin_end": 8.6,
            "bin_start": 8.2,
            "count": 0
           },
           {
            "bin_end": 9,
            "bin_start": 8.6,
            "count": 1
           }
          ],
          "max": "9",
          "min": "5",
          "nan_count": 0,
          "unique_count": 4
         }
        },
        {
         "dtype": "float64",
         "name": "totalTravelDistance",
         "stats": {
          "histogram": [
           {
            "bin_end": 1288.7,
            "bin_start": 1238,
            "count": 1
           },
           {
            "bin_end": 1339.4,
            "bin_start": 1288.7,
            "count": 0
           },
           {
            "bin_end": 1390.1,
            "bin_start": 1339.4,
            "count": 0
           },
           {
            "bin_end": 1440.8,
            "bin_start": 1390.1,
            "count": 0
           },
           {
            "bin_end": 1491.5,
            "bin_start": 1440.8,
            "count": 0
           },
           {
            "bin_end": 1542.2,
            "bin_start": 1491.5,
            "count": 0
           },
           {
            "bin_end": 1592.9,
            "bin_start": 1542.2,
            "count": 0
           },
           {
            "bin_end": 1643.6,
            "bin_start": 1592.9,
            "count": 0
           },
           {
            "bin_end": 1694.3,
            "bin_start": 1643.6,
            "count": 0
           },
           {
            "bin_end": 1745,
            "bin_start": 1694.3,
            "count": 4
           }
          ],
          "max": "1745.0",
          "min": "1238.0",
          "nan_count": 0,
          "unique_count": 2
         }
        },
        {
         "dtype": "object",
         "name": "segmentsArrivalAirportCode",
         "stats": {
          "categories": [
           {
            "count": 4,
            "name": "ORD"
           },
           {
            "count": 1,
            "name": "DFW"
           }
          ],
          "nan_count": 0,
          "unique_count": 2
         }
        },
        {
         "dtype": "object",
         "name": "segmentsDepartureAirportCode",
         "stats": {
          "categories": [
           {
            "count": 5,
            "name": "LAX"
           }
          ],
          "nan_count": 0,
          "unique_count": 1
         }
        },
        {
         "dtype": "object",
         "name": "segmentsAirlineCode",
         "stats": {
          "categories": [
           {
            "count": 3,
            "name": "AA"
           },
           {
            "count": 2,
            "name": "UA"
           }
          ],
          "nan_count": 0,
          "unique_count": 2
         }
        },
        {
         "dtype": "object",
         "name": "segmentsEquipmentDescription",
         "stats": {
          "categories": [
           {
            "count": 2,
            "name": "Boeing 737-800"
           },
           {
            "count": 1,
            "name": "Boeing 737-900"
           },
           {
            "count": 2,
            "name": "2 others"
           }
          ],
          "nan_count": 0,
          "unique_count": 4
         }
        },
        {
         "dtype": "int64",
         "name": "segmentsDurationInSeconds",
         "stats": {
          "histogram": [
           {
            "bin_end": 11262,
            "bin_start": 10860,
            "count": 1
           },
           {
            "bin_end": 11664,
            "bin_start": 11262,
            "count": 0
           },
           {
            "bin_end": 12066,
            "bin_start": 11664,
            "count": 0
           },
           {
            "bin_end": 12468,
            "bin_start": 12066,
            "count": 0
           },
           {
            "bin_end": 12870,
            "bin_start": 12468,
            "count": 0
           },
           {
            "bin_end": 13272,
            "bin_start": 12870,
            "count": 0
           },
           {
            "bin_end": 13674,
            "bin_start": 13272,
            "count": 0
           },
           {
            "bin_end": 14076,
            "bin_start": 13674,
            "count": 0
           },
           {
            "bin_end": 14478,
            "bin_start": 14076,
            "count": 0
           },
           {
            "bin_end": 14880,
            "bin_start": 14478,
            "count": 4
           }
          ],
          "max": "14880",
          "min": "10860",
          "nan_count": 0,
          "unique_count": 4
         }
        },
        {
         "dtype": "int64",
         "name": "segmentsDistance",
         "stats": {
          "histogram": [
           {
            "bin_end": 1288.7,
            "bin_start": 1238,
            "count": 1
           },
           {
            "bin_end": 1339.4,
            "bin_start": 1288.7,
            "count": 0
           },
           {
            "bin_end": 1390.1,
            "bin_start": 1339.4,
            "count": 0
           },
           {
            "bin_end": 1440.8,
            "bin_start": 1390.1,
            "count": 0
           },
           {
            "bin_end": 1491.5,
            "bin_start": 1440.8,
            "count": 0
           },
           {
            "bin_end": 1542.2,
            "bin_start": 1491.5,
            "count": 0
           },
           {
            "bin_end": 1592.9,
            "bin_start": 1542.2,
            "count": 0
           },
           {
            "bin_end": 1643.6,
            "bin_start": 1592.9,
            "count": 0
           },
           {
            "bin_end": 1694.3,
            "bin_start": 1643.6,
            "count": 0
           },
           {
            "bin_end": 1745,
            "bin_start": 1694.3,
            "count": 4
           }
          ],
          "max": "1745",
          "min": "1238",
          "nan_count": 0,
          "unique_count": 2
         }
        },
        {
         "dtype": "object",
         "name": "segmentsCabinCode",
         "stats": {
          "categories": [
           {
            "count": 5,
            "name": "coach"
           }
          ],
          "nan_count": 0,
          "unique_count": 1
         }
        },
        {
         "dtype": "object",
         "name": "bookingClassCode",
         "stats": {
          "categories": [
           {
            "count": 1,
            "name": "W"
           },
           {
            "count": 1,
            "name": "Q"
           },
           {
            "count": 3,
            "name": "3 others"
           }
          ],
          "nan_count": 0,
          "unique_count": 5
         }
        },
        {
         "dtype": "int64",
         "name": "daysTillFlight",
         "stats": {
          "histogram": [
           {
            "bin_end": 3.6,
            "bin_start": 1,
            "count": 2
           },
           {
            "bin_end": 6.2,
            "bin_start": 3.6,
            "count": 1
           },
           {
            "bin_end": 8.8,
            "bin_start": 6.2,
            "count": 1
           },
           {
            "bin_end": 11.4,
            "bin_start": 8.8,
            "count": 0
           },
           {
            "bin_end": 14,
            "bin_start": 11.4,
            "count": 0
           },
           {
            "bin_end": 16.6,
            "bin_start": 14,
            "count": 0
           },
           {
            "bin_end": 19.2,
            "bin_start": 16.6,
            "count": 0
           },
           {
            "bin_end": 21.8,
            "bin_start": 19.2,
            "count": 0
           },
           {
            "bin_end": 24.400000000000002,
            "bin_start": 21.8,
            "count": 0
           },
           {
            "bin_end": 27,
            "bin_start": 24.400000000000002,
            "count": 1
           }
          ],
          "max": "27",
          "min": "1",
          "nan_count": 0,
          "unique_count": 5
         }
        },
        {
         "dtype": "int32",
         "name": "departureDayOfWeek",
         "stats": {
          "histogram": [
           {
            "bin_end": 0.5,
            "bin_start": 0,
            "count": 1
           },
           {
            "bin_end": 1,
            "bin_start": 0.5,
            "count": 0
           },
           {
            "bin_end": 1.5,
            "bin_start": 1,
            "count": 2
           },
           {
            "bin_end": 2,
            "bin_start": 1.5,
            "count": 0
           },
           {
            "bin_end": 2.5,
            "bin_start": 2,
            "count": 0
           },
           {
            "bin_end": 3,
            "bin_start": 2.5,
            "count": 0
           },
           {
            "bin_end": 3.5,
            "bin_start": 3,
            "count": 0
           },
           {
            "bin_end": 4,
            "bin_start": 3.5,
            "count": 0
           },
           {
            "bin_end": 4.5,
            "bin_start": 4,
            "count": 0
           },
           {
            "bin_end": 5,
            "bin_start": 4.5,
            "count": 2
           }
          ],
          "max": "5",
          "min": "0",
          "nan_count": 0,
          "unique_count": 3
         }
        },
        {
         "dtype": "int32",
         "name": "departureHour",
         "stats": {
          "histogram": [
           {
            "bin_end": 8.6,
            "bin_start": 7,
            "count": 1
           },
           {
            "bin_end": 10.2,
            "bin_start": 8.6,
            "count": 1
           },
           {
            "bin_end": 11.8,
            "bin_start": 10.2,
            "count": 0
           },
           {
            "bin_end": 13.4,
            "bin_start": 11.8,
            "count": 1
           },
           {
            "bin_end": 15,
            "bin_start": 13.4,
            "count": 0
           },
           {
            "bin_end": 16.6,
            "bin_start": 15,
            "count": 0
           },
           {
            "bin_end": 18.200000000000003,
            "bin_start": 16.6,
            "count": 1
           },
           {
            "bin_end": 19.8,
            "bin_start": 18.200000000000003,
            "count": 0
           },
           {
            "bin_end": 21.4,
            "bin_start": 19.8,
            "count": 0
           },
           {
            "bin_end": 23,
            "bin_start": 21.4,
            "count": 1
           }
          ],
          "max": "23",
          "min": "7",
          "nan_count": 0,
          "unique_count": 5
         }
        },
        {
         "dtype": "int32",
         "name": "arrivalDayOfWeek",
         "stats": {
          "histogram": [
           {
            "bin_end": 0.6,
            "bin_start": 0,
            "count": 1
           },
           {
            "bin_end": 1.2,
            "bin_start": 0.6,
            "count": 2
           },
           {
            "bin_end": 1.7999999999999998,
            "bin_start": 1.2,
            "count": 0
           },
           {
            "bin_end": 2.4,
            "bin_start": 1.7999999999999998,
            "count": 0
           },
           {
            "bin_end": 3,
            "bin_start": 2.4,
            "count": 0
           },
           {
            "bin_end": 3.5999999999999996,
            "bin_start": 3,
            "count": 0
           },
           {
            "bin_end": 4.2,
            "bin_start": 3.5999999999999996,
            "count": 0
           },
           {
            "bin_end": 4.8,
            "bin_start": 4.2,
            "count": 0
           },
           {
            "bin_end": 5.3999999999999995,
            "bin_start": 4.8,
            "count": 1
           },
           {
            "bin_end": 6,
            "bin_start": 5.3999999999999995,
            "count": 1
           }
          ],
          "max": "6",
          "min": "0",
          "nan_count": 0,
          "unique_count": 4
         }
        },
        {
         "dtype": "int32",
         "name": "arrivalHour",
         "stats": {
          "histogram": [
           {
            "bin_end": 7.7,
            "bin_start": 6,
            "count": 1
           },
           {
            "bin_end": 9.4,
            "bin_start": 7.7,
            "count": 0
           },
           {
            "bin_end": 11.1,
            "bin_start": 9.4,
            "count": 0
           },
           {
            "bin_end": 12.8,
            "bin_start": 11.1,
            "count": 0
           },
           {
            "bin_end": 14.5,
            "bin_start": 12.8,
            "count": 1
           },
           {
            "bin_end": 16.2,
            "bin_start": 14.5,
            "count": 1
           },
           {
            "bin_end": 17.9,
            "bin_start": 16.2,
            "count": 0
           },
           {
            "bin_end": 19.6,
            "bin_start": 17.9,
            "count": 1
           },
           {
            "bin_end": 21.299999999999997,
            "bin_start": 19.6,
            "count": 0
           },
           {
            "bin_end": 23,
            "bin_start": 21.299999999999997,
            "count": 1
           }
          ],
          "max": "23",
          "min": "6",
          "nan_count": 0,
          "unique_count": 5
         }
        },
        {
         "dtype": "int64",
         "name": "_deepnote_index_column"
        }
       ],
       "row_count": 5,
       "rows": [
        {
         "_deepnote_index_column": 4,
         "arrivalDayOfWeek": 6,
         "arrivalHour": 6,
         "baseFare": 236.28,
         "bookingClassCode": "W",
         "daysTillFlight": 27,
         "departureDayOfWeek": 5,
         "departureHour": 23,
         "destinationAirport": "ORD",
         "elapsedDays": 1,
         "flightDate": "2022-05-14 00:00:00",
         "isBasicEconomy": "False",
         "isNonStop": "True",
         "isRefundable": "False",
         "searchDate": "2022-04-17 00:00:00",
         "seatsRemaining": 9,
         "segmentsAirlineCode": "UA",
         "segmentsArrivalAirportCode": "ORD",
         "segmentsCabinCode": "coach",
         "segmentsDepartureAirportCode": "LAX",
         "segmentsDistance": 1745,
         "segmentsDurationInSeconds": 14640,
         "segmentsEquipmentDescription": "Boeing 737-900",
         "startingAirport": "LAX",
         "totalTravelDistance": 1745
        },
        {
         "_deepnote_index_column": 70,
         "arrivalDayOfWeek": 1,
         "arrivalHour": 16,
         "baseFare": 305.12,
         "bookingClassCode": "Q",
         "daysTillFlight": 3,
         "departureDayOfWeek": 1,
         "departureHour": 10,
         "destinationAirport": "ORD",
         "elapsedDays": 0,
         "flightDate": "2022-04-19 00:00:00",
         "isBasicEconomy": "False",
         "isNonStop": "True",
         "isRefundable": "False",
         "searchDate": "2022-04-16 00:00:00",
         "seatsRemaining": 6,
         "segmentsAirlineCode": "UA",
         "segmentsArrivalAirportCode": "ORD",
         "segmentsCabinCode": "coach",
         "segmentsDepartureAirportCode": "LAX",
         "segmentsDistance": 1745,
         "segmentsDurationInSeconds": 14880,
         "segmentsEquipmentDescription": "Boeing 757-300",
         "startingAirport": "LAX",
         "totalTravelDistance": 1745
        },
        {
         "_deepnote_index_column": 109,
         "arrivalDayOfWeek": 1,
         "arrivalHour": 19,
         "baseFare": 322.79,
         "bookingClassCode": "M",
         "daysTillFlight": 1,
         "departureDayOfWeek": 1,
         "departureHour": 13,
         "destinationAirport": "ORD",
         "elapsedDays": 0,
         "flightDate": "2022-04-19 00:00:00",
         "isBasicEconomy": "False",
         "isNonStop": "True",
         "isRefundable": "False",
         "searchDate": "2022-04-18 00:00:00",
         "seatsRemaining": 5,
         "segmentsAirlineCode": "AA",
         "segmentsArrivalAirportCode": "ORD",
         "segmentsCabinCode": "coach",
         "segmentsDepartureAirportCode": "LAX",
         "segmentsDistance": 1745,
         "segmentsDurationInSeconds": 14700,
         "segmentsEquipmentDescription": "Boeing 737-800",
         "startingAirport": "LAX",
         "totalTravelDistance": 1745
        },
        {
         "_deepnote_index_column": 170,
         "arrivalDayOfWeek": 0,
         "arrivalHour": 13,
         "baseFare": 459.53,
         "bookingClassCode": "H",
         "daysTillFlight": 8,
         "departureDayOfWeek": 0,
         "departureHour": 7,
         "destinationAirport": "ORD",
         "elapsedDays": 0,
         "flightDate": "2022-04-25 00:00:00",
         "isBasicEconomy": "False",
         "isNonStop": "True",
         "isRefundable": "False",
         "searchDate": "2022-04-17 00:00:00",
         "seatsRemaining": 7,
         "segmentsAirlineCode": "AA",
         "segmentsArrivalAirportCode": "ORD",
         "segmentsCabinCode": "coach",
         "segmentsDepartureAirportCode": "LAX",
         "segmentsDistance": 1745,
         "segmentsDurationInSeconds": 14640,
         "segmentsEquipmentDescription": "Boeing 737-800",
         "startingAirport": "LAX",
         "totalTravelDistance": 1745
        },
        {
         "_deepnote_index_column": 239,
         "arrivalDayOfWeek": 5,
         "arrivalHour": 23,
         "baseFare": 252.09,
         "bookingClassCode": "L",
         "daysTillFlight": 5,
         "departureDayOfWeek": 5,
         "departureHour": 18,
         "destinationAirport": "DFW",
         "elapsedDays": 0,
         "flightDate": "2022-04-23 00:00:00",
         "isBasicEconomy": "False",
         "isNonStop": "True",
         "isRefundable": "False",
         "searchDate": "2022-04-18 00:00:00",
         "seatsRemaining": 7,
         "segmentsAirlineCode": "AA",
         "segmentsArrivalAirportCode": "DFW",
         "segmentsCabinCode": "coach",
         "segmentsDepartureAirportCode": "LAX",
         "segmentsDistance": 1238,
         "segmentsDurationInSeconds": 10860,
         "segmentsEquipmentDescription": "Airbus A321",
         "startingAirport": "LAX",
         "totalTravelDistance": 1238
        }
       ]
      },
      "text/html": [
       "<div>\n",
       "<style scoped>\n",
       "    .dataframe tbody tr th:only-of-type {\n",
       "        vertical-align: middle;\n",
       "    }\n",
       "\n",
       "    .dataframe tbody tr th {\n",
       "        vertical-align: top;\n",
       "    }\n",
       "\n",
       "    .dataframe thead th {\n",
       "        text-align: right;\n",
       "    }\n",
       "</style>\n",
       "<table border=\"1\" class=\"dataframe\">\n",
       "  <thead>\n",
       "    <tr style=\"text-align: right;\">\n",
       "      <th></th>\n",
       "      <th>searchDate</th>\n",
       "      <th>flightDate</th>\n",
       "      <th>startingAirport</th>\n",
       "      <th>destinationAirport</th>\n",
       "      <th>elapsedDays</th>\n",
       "      <th>isBasicEconomy</th>\n",
       "      <th>isRefundable</th>\n",
       "      <th>isNonStop</th>\n",
       "      <th>baseFare</th>\n",
       "      <th>seatsRemaining</th>\n",
       "      <th>...</th>\n",
       "      <th>segmentsEquipmentDescription</th>\n",
       "      <th>segmentsDurationInSeconds</th>\n",
       "      <th>segmentsDistance</th>\n",
       "      <th>segmentsCabinCode</th>\n",
       "      <th>bookingClassCode</th>\n",
       "      <th>daysTillFlight</th>\n",
       "      <th>departureDayOfWeek</th>\n",
       "      <th>departureHour</th>\n",
       "      <th>arrivalDayOfWeek</th>\n",
       "      <th>arrivalHour</th>\n",
       "    </tr>\n",
       "  </thead>\n",
       "  <tbody>\n",
       "    <tr>\n",
       "      <th>4</th>\n",
       "      <td>2022-04-17</td>\n",
       "      <td>2022-05-14</td>\n",
       "      <td>LAX</td>\n",
       "      <td>ORD</td>\n",
       "      <td>1</td>\n",
       "      <td>False</td>\n",
       "      <td>False</td>\n",
       "      <td>True</td>\n",
       "      <td>236.28</td>\n",
       "      <td>9</td>\n",
       "      <td>...</td>\n",
       "      <td>Boeing 737-900</td>\n",
       "      <td>14640</td>\n",
       "      <td>1745</td>\n",
       "      <td>coach</td>\n",
       "      <td>W</td>\n",
       "      <td>27</td>\n",
       "      <td>5</td>\n",
       "      <td>23</td>\n",
       "      <td>6</td>\n",
       "      <td>6</td>\n",
       "    </tr>\n",
       "    <tr>\n",
       "      <th>70</th>\n",
       "      <td>2022-04-16</td>\n",
       "      <td>2022-04-19</td>\n",
       "      <td>LAX</td>\n",
       "      <td>ORD</td>\n",
       "      <td>0</td>\n",
       "      <td>False</td>\n",
       "      <td>False</td>\n",
       "      <td>True</td>\n",
       "      <td>305.12</td>\n",
       "      <td>6</td>\n",
       "      <td>...</td>\n",
       "      <td>Boeing 757-300</td>\n",
       "      <td>14880</td>\n",
       "      <td>1745</td>\n",
       "      <td>coach</td>\n",
       "      <td>Q</td>\n",
       "      <td>3</td>\n",
       "      <td>1</td>\n",
       "      <td>10</td>\n",
       "      <td>1</td>\n",
       "      <td>16</td>\n",
       "    </tr>\n",
       "    <tr>\n",
       "      <th>109</th>\n",
       "      <td>2022-04-18</td>\n",
       "      <td>2022-04-19</td>\n",
       "      <td>LAX</td>\n",
       "      <td>ORD</td>\n",
       "      <td>0</td>\n",
       "      <td>False</td>\n",
       "      <td>False</td>\n",
       "      <td>True</td>\n",
       "      <td>322.79</td>\n",
       "      <td>5</td>\n",
       "      <td>...</td>\n",
       "      <td>Boeing 737-800</td>\n",
       "      <td>14700</td>\n",
       "      <td>1745</td>\n",
       "      <td>coach</td>\n",
       "      <td>M</td>\n",
       "      <td>1</td>\n",
       "      <td>1</td>\n",
       "      <td>13</td>\n",
       "      <td>1</td>\n",
       "      <td>19</td>\n",
       "    </tr>\n",
       "    <tr>\n",
       "      <th>170</th>\n",
       "      <td>2022-04-17</td>\n",
       "      <td>2022-04-25</td>\n",
       "      <td>LAX</td>\n",
       "      <td>ORD</td>\n",
       "      <td>0</td>\n",
       "      <td>False</td>\n",
       "      <td>False</td>\n",
       "      <td>True</td>\n",
       "      <td>459.53</td>\n",
       "      <td>7</td>\n",
       "      <td>...</td>\n",
       "      <td>Boeing 737-800</td>\n",
       "      <td>14640</td>\n",
       "      <td>1745</td>\n",
       "      <td>coach</td>\n",
       "      <td>H</td>\n",
       "      <td>8</td>\n",
       "      <td>0</td>\n",
       "      <td>7</td>\n",
       "      <td>0</td>\n",
       "      <td>13</td>\n",
       "    </tr>\n",
       "    <tr>\n",
       "      <th>239</th>\n",
       "      <td>2022-04-18</td>\n",
       "      <td>2022-04-23</td>\n",
       "      <td>LAX</td>\n",
       "      <td>DFW</td>\n",
       "      <td>0</td>\n",
       "      <td>False</td>\n",
       "      <td>False</td>\n",
       "      <td>True</td>\n",
       "      <td>252.09</td>\n",
       "      <td>7</td>\n",
       "      <td>...</td>\n",
       "      <td>Airbus A321</td>\n",
       "      <td>10860</td>\n",
       "      <td>1238</td>\n",
       "      <td>coach</td>\n",
       "      <td>L</td>\n",
       "      <td>5</td>\n",
       "      <td>5</td>\n",
       "      <td>18</td>\n",
       "      <td>5</td>\n",
       "      <td>23</td>\n",
       "    </tr>\n",
       "  </tbody>\n",
       "</table>\n",
       "<p>5 rows × 24 columns</p>\n",
       "</div>"
      ],
      "text/plain": [
       "    searchDate flightDate startingAirport destinationAirport  elapsedDays  \\\n",
       "4   2022-04-17 2022-05-14             LAX                ORD            1   \n",
       "70  2022-04-16 2022-04-19             LAX                ORD            0   \n",
       "109 2022-04-18 2022-04-19             LAX                ORD            0   \n",
       "170 2022-04-17 2022-04-25             LAX                ORD            0   \n",
       "239 2022-04-18 2022-04-23             LAX                DFW            0   \n",
       "\n",
       "     isBasicEconomy  isRefundable  isNonStop  baseFare  seatsRemaining  ...  \\\n",
       "4             False         False       True    236.28               9  ...   \n",
       "70            False         False       True    305.12               6  ...   \n",
       "109           False         False       True    322.79               5  ...   \n",
       "170           False         False       True    459.53               7  ...   \n",
       "239           False         False       True    252.09               7  ...   \n",
       "\n",
       "     segmentsEquipmentDescription segmentsDurationInSeconds segmentsDistance  \\\n",
       "4                  Boeing 737-900                     14640             1745   \n",
       "70                 Boeing 757-300                     14880             1745   \n",
       "109                Boeing 737-800                     14700             1745   \n",
       "170                Boeing 737-800                     14640             1745   \n",
       "239                   Airbus A321                     10860             1238   \n",
       "\n",
       "    segmentsCabinCode bookingClassCode  daysTillFlight  departureDayOfWeek  \\\n",
       "4               coach                W              27                   5   \n",
       "70              coach                Q               3                   1   \n",
       "109             coach                M               1                   1   \n",
       "170             coach                H               8                   0   \n",
       "239             coach                L               5                   5   \n",
       "\n",
       "    departureHour arrivalDayOfWeek  arrivalHour  \n",
       "4              23                6            6  \n",
       "70             10                1           16  \n",
       "109            13                1           19  \n",
       "170             7                0           13  \n",
       "239            18                5           23  \n",
       "\n",
       "[5 rows x 24 columns]"
      ]
     },
     "execution_count": 6,
     "metadata": {},
     "output_type": "execute_result"
    }
   ],
   "source": [
    "# Displaying the final filtered dataframe\n",
    "\n",
    "filtered_data.head()"
   ]
  },
  {
   "cell_type": "markdown",
   "metadata": {
    "cell_id": "731e23948dbe4762bf99f5dec98f3e29",
    "deepnote_cell_type": "markdown"
   },
   "source": [
    "## Dummy Encoding Data + Train/Test Split"
   ]
  },
  {
   "cell_type": "code",
   "execution_count": 7,
   "metadata": {
    "cell_id": "169560bd28494989a454d4a84ddb60bc",
    "deepnote_cell_type": "code",
    "execution_context_id": "5e196466-4669-4eeb-abfe-723616e59df1",
    "execution_millis": 0,
    "execution_start": 1733958340132,
    "source_hash": "dce634d3"
   },
   "outputs": [],
   "source": [
    "# Dummy encoding the data (and getting rid of time series columns)\n",
    "encoded_data = pd.get_dummies(filtered_data.drop(columns=['searchDate', 'flightDate']))\n",
    "encoded_data = encoded_data.astype('float64')"
   ]
  },
  {
   "cell_type": "code",
   "execution_count": 8,
   "metadata": {
    "cell_id": "887c69fad10748c5902e7fbb3597722b",
    "deepnote_cell_type": "code",
    "execution_context_id": "5e196466-4669-4eeb-abfe-723616e59df1",
    "execution_millis": 0,
    "execution_start": 1733958340184,
    "source_hash": "19cdea01"
   },
   "outputs": [],
   "source": [
    "# Train test split\n",
    "y = encoded_data[\"baseFare\"]\n",
    "X = encoded_data.copy().drop(columns=[\"baseFare\"])\n",
    "X_train, X_test, y_train, y_test = train_test_split(X, y, test_size=0.3, random_state=42)"
   ]
  },
  {
   "cell_type": "code",
   "execution_count": 9,
   "metadata": {
    "cell_id": "b947896daa7143a88f1bfa1cef72db57",
    "deepnote_cell_type": "code",
    "execution_context_id": "5e196466-4669-4eeb-abfe-723616e59df1",
    "execution_millis": 0,
    "execution_start": 1733958340232,
    "source_hash": "a0f82b3f"
   },
   "outputs": [],
   "source": [
    "# Adding intercept\n",
    "X_train = sm.add_constant(X_train)\n",
    "X_test = sm.add_constant(X_test)"
   ]
  },
  {
   "cell_type": "markdown",
   "metadata": {
    "cell_id": "c2301068a3a64179b93fc401f5a25aa0",
    "deepnote_cell_type": "markdown"
   },
   "source": [
    "## Basic LinReg Model"
   ]
  },
  {
   "cell_type": "code",
   "execution_count": 10,
   "metadata": {
    "cell_id": "25ad26beee6549bc9f32c7596dcbeb83",
    "deepnote_cell_type": "code",
    "execution_context_id": "5e196466-4669-4eeb-abfe-723616e59df1",
    "execution_millis": 1204,
    "execution_start": 1733958340284,
    "source_hash": "32bd81bf"
   },
   "outputs": [
    {
     "data": {
      "text/html": [
       "<table class=\"simpletable\">\n",
       "<caption>OLS Regression Results</caption>\n",
       "<tr>\n",
       "  <th>Dep. Variable:</th>        <td>baseFare</td>     <th>  R-squared:         </th> <td>   0.814</td> \n",
       "</tr>\n",
       "<tr>\n",
       "  <th>Model:</th>                   <td>OLS</td>       <th>  Adj. R-squared:    </th> <td>   0.814</td> \n",
       "</tr>\n",
       "<tr>\n",
       "  <th>Method:</th>             <td>Least Squares</td>  <th>  F-statistic:       </th> <td>   1090.</td> \n",
       "</tr>\n",
       "<tr>\n",
       "  <th>Date:</th>             <td>Wed, 11 Dec 2024</td> <th>  Prob (F-statistic):</th>  <td>  0.00</td>  \n",
       "</tr>\n",
       "<tr>\n",
       "  <th>Time:</th>                 <td>23:05:41</td>     <th>  Log-Likelihood:    </th> <td> -99306.</td> \n",
       "</tr>\n",
       "<tr>\n",
       "  <th>No. Observations:</th>      <td> 17940</td>      <th>  AIC:               </th> <td>1.988e+05</td>\n",
       "</tr>\n",
       "<tr>\n",
       "  <th>Df Residuals:</th>          <td> 17867</td>      <th>  BIC:               </th> <td>1.993e+05</td>\n",
       "</tr>\n",
       "<tr>\n",
       "  <th>Df Model:</th>              <td>    72</td>      <th>                     </th>     <td> </td>    \n",
       "</tr>\n",
       "<tr>\n",
       "  <th>Covariance Type:</th>      <td>nonrobust</td>    <th>                     </th>     <td> </td>    \n",
       "</tr>\n",
       "</table>\n",
       "<table class=\"simpletable\">\n",
       "<tr>\n",
       "                                <td></td>                                  <th>coef</th>     <th>std err</th>      <th>t</th>      <th>P>|t|</th>  <th>[0.025</th>    <th>0.975]</th>  \n",
       "</tr>\n",
       "<tr>\n",
       "  <th>elapsedDays</th>                                                  <td>    0.0103</td> <td>   33.094</td> <td>    0.000</td> <td> 1.000</td> <td>  -64.857</td> <td>   64.877</td>\n",
       "</tr>\n",
       "<tr>\n",
       "  <th>isBasicEconomy</th>                                               <td>  -61.2780</td> <td>    1.570</td> <td>  -39.022</td> <td> 0.000</td> <td>  -64.356</td> <td>  -58.200</td>\n",
       "</tr>\n",
       "<tr>\n",
       "  <th>isRefundable</th>                                                 <td>-1.114e-10</td> <td> 8.15e-12</td> <td>  -13.658</td> <td> 0.000</td> <td>-1.27e-10</td> <td>-9.54e-11</td>\n",
       "</tr>\n",
       "<tr>\n",
       "  <th>isNonStop</th>                                                    <td>  228.3056</td> <td>   17.232</td> <td>   13.249</td> <td> 0.000</td> <td>  194.529</td> <td>  262.082</td>\n",
       "</tr>\n",
       "<tr>\n",
       "  <th>seatsRemaining</th>                                               <td>    0.3563</td> <td>    0.245</td> <td>    1.452</td> <td> 0.147</td> <td>   -0.125</td> <td>    0.837</td>\n",
       "</tr>\n",
       "<tr>\n",
       "  <th>totalTravelDistance</th>                                          <td>   -0.1664</td> <td>    0.011</td> <td>  -15.034</td> <td> 0.000</td> <td>   -0.188</td> <td>   -0.145</td>\n",
       "</tr>\n",
       "<tr>\n",
       "  <th>segmentsDurationInSeconds</th>                                    <td>    0.0517</td> <td>    0.002</td> <td>   29.564</td> <td> 0.000</td> <td>    0.048</td> <td>    0.055</td>\n",
       "</tr>\n",
       "<tr>\n",
       "  <th>segmentsDistance</th>                                             <td>   -0.1664</td> <td>    0.011</td> <td>  -15.034</td> <td> 0.000</td> <td>   -0.188</td> <td>   -0.145</td>\n",
       "</tr>\n",
       "<tr>\n",
       "  <th>daysTillFlight</th>                                               <td>   -0.3216</td> <td>    0.029</td> <td>  -10.953</td> <td> 0.000</td> <td>   -0.379</td> <td>   -0.264</td>\n",
       "</tr>\n",
       "<tr>\n",
       "  <th>departureDayOfWeek</th>                                           <td>    1.8902</td> <td>    0.489</td> <td>    3.866</td> <td> 0.000</td> <td>    0.932</td> <td>    2.848</td>\n",
       "</tr>\n",
       "<tr>\n",
       "  <th>departureHour</th>                                                <td>   -0.4684</td> <td>    1.414</td> <td>   -0.331</td> <td> 0.740</td> <td>   -3.240</td> <td>    2.303</td>\n",
       "</tr>\n",
       "<tr>\n",
       "  <th>arrivalDayOfWeek</th>                                             <td>    0.2406</td> <td>    0.489</td> <td>    0.492</td> <td> 0.623</td> <td>   -0.717</td> <td>    1.199</td>\n",
       "</tr>\n",
       "<tr>\n",
       "  <th>arrivalHour</th>                                                  <td>    0.7791</td> <td>    1.408</td> <td>    0.553</td> <td> 0.580</td> <td>   -1.980</td> <td>    3.538</td>\n",
       "</tr>\n",
       "<tr>\n",
       "  <th>startingAirport_LAX</th>                                          <td>  124.3218</td> <td>    8.945</td> <td>   13.899</td> <td> 0.000</td> <td>  106.789</td> <td>  141.855</td>\n",
       "</tr>\n",
       "<tr>\n",
       "  <th>startingAirport_SFO</th>                                          <td>  103.9838</td> <td>    8.330</td> <td>   12.483</td> <td> 0.000</td> <td>   87.656</td> <td>  120.311</td>\n",
       "</tr>\n",
       "<tr>\n",
       "  <th>destinationAirport_ATL</th>                                       <td>   -1.7037</td> <td>   28.811</td> <td>   -0.059</td> <td> 0.953</td> <td>  -58.177</td> <td>   54.769</td>\n",
       "</tr>\n",
       "<tr>\n",
       "  <th>destinationAirport_BOS</th>                                       <td>   25.4389</td> <td>   14.513</td> <td>    1.753</td> <td> 0.080</td> <td>   -3.008</td> <td>   53.886</td>\n",
       "</tr>\n",
       "<tr>\n",
       "  <th>destinationAirport_CLT</th>                                       <td>   56.0466</td> <td>   11.995</td> <td>    4.672</td> <td> 0.000</td> <td>   32.535</td> <td>   79.558</td>\n",
       "</tr>\n",
       "<tr>\n",
       "  <th>destinationAirport_DEN</th>                                       <td>  -13.0280</td> <td>   44.369</td> <td>   -0.294</td> <td> 0.769</td> <td>  -99.995</td> <td>   73.939</td>\n",
       "</tr>\n",
       "<tr>\n",
       "  <th>destinationAirport_DFW</th>                                       <td>    2.6820</td> <td>   19.362</td> <td>    0.139</td> <td> 0.890</td> <td>  -35.270</td> <td>   40.634</td>\n",
       "</tr>\n",
       "<tr>\n",
       "  <th>destinationAirport_DTW</th>                                       <td>   61.0921</td> <td>   17.442</td> <td>    3.503</td> <td> 0.000</td> <td>   26.904</td> <td>   95.280</td>\n",
       "</tr>\n",
       "<tr>\n",
       "  <th>destinationAirport_EWR</th>                                       <td>   -1.2709</td> <td>   15.882</td> <td>   -0.080</td> <td> 0.936</td> <td>  -32.401</td> <td>   29.859</td>\n",
       "</tr>\n",
       "<tr>\n",
       "  <th>destinationAirport_IAD</th>                                       <td>   29.5057</td> <td>   17.647</td> <td>    1.672</td> <td> 0.095</td> <td>   -5.085</td> <td>   64.096</td>\n",
       "</tr>\n",
       "<tr>\n",
       "  <th>destinationAirport_JFK</th>                                       <td>   22.2714</td> <td>   10.167</td> <td>    2.191</td> <td> 0.028</td> <td>    2.344</td> <td>   42.199</td>\n",
       "</tr>\n",
       "<tr>\n",
       "  <th>destinationAirport_MIA</th>                                       <td>   -0.3345</td> <td>   21.957</td> <td>   -0.015</td> <td> 0.988</td> <td>  -43.373</td> <td>   42.704</td>\n",
       "</tr>\n",
       "<tr>\n",
       "  <th>destinationAirport_ORD</th>                                       <td>   16.4880</td> <td>    5.604</td> <td>    2.942</td> <td> 0.003</td> <td>    5.503</td> <td>   27.473</td>\n",
       "</tr>\n",
       "<tr>\n",
       "  <th>destinationAirport_PHL</th>                                       <td>   31.1181</td> <td>   17.564</td> <td>    1.772</td> <td> 0.076</td> <td>   -3.310</td> <td>   65.546</td>\n",
       "</tr>\n",
       "<tr>\n",
       "  <th>segmentsArrivalAirportCode_ATL</th>                               <td>   -1.7037</td> <td>   28.811</td> <td>   -0.059</td> <td> 0.953</td> <td>  -58.177</td> <td>   54.769</td>\n",
       "</tr>\n",
       "<tr>\n",
       "  <th>segmentsArrivalAirportCode_BOS</th>                               <td>   25.4389</td> <td>   14.513</td> <td>    1.753</td> <td> 0.080</td> <td>   -3.008</td> <td>   53.886</td>\n",
       "</tr>\n",
       "<tr>\n",
       "  <th>segmentsArrivalAirportCode_CLT</th>                               <td>   56.0466</td> <td>   11.995</td> <td>    4.672</td> <td> 0.000</td> <td>   32.535</td> <td>   79.558</td>\n",
       "</tr>\n",
       "<tr>\n",
       "  <th>segmentsArrivalAirportCode_DAL</th>                               <td>   -6.8186</td> <td>   15.303</td> <td>   -0.446</td> <td> 0.656</td> <td>  -36.813</td> <td>   23.176</td>\n",
       "</tr>\n",
       "<tr>\n",
       "  <th>segmentsArrivalAirportCode_DFW</th>                               <td>   -3.5274</td> <td>   15.326</td> <td>   -0.230</td> <td> 0.818</td> <td>  -33.567</td> <td>   26.512</td>\n",
       "</tr>\n",
       "<tr>\n",
       "  <th>segmentsArrivalAirportCode_DTW</th>                               <td>   61.0921</td> <td>   17.442</td> <td>    3.503</td> <td> 0.000</td> <td>   26.904</td> <td>   95.280</td>\n",
       "</tr>\n",
       "<tr>\n",
       "  <th>segmentsArrivalAirportCode_EWR</th>                               <td>   -1.2709</td> <td>   15.882</td> <td>   -0.080</td> <td> 0.936</td> <td>  -32.401</td> <td>   29.859</td>\n",
       "</tr>\n",
       "<tr>\n",
       "  <th>segmentsArrivalAirportCode_IAD</th>                               <td>   29.5057</td> <td>   17.647</td> <td>    1.672</td> <td> 0.095</td> <td>   -5.085</td> <td>   64.096</td>\n",
       "</tr>\n",
       "<tr>\n",
       "  <th>segmentsArrivalAirportCode_JFK</th>                               <td>   22.2714</td> <td>   10.167</td> <td>    2.191</td> <td> 0.028</td> <td>    2.344</td> <td>   42.199</td>\n",
       "</tr>\n",
       "<tr>\n",
       "  <th>segmentsArrivalAirportCode_MIA</th>                               <td>   -0.3345</td> <td>   21.957</td> <td>   -0.015</td> <td> 0.988</td> <td>  -43.373</td> <td>   42.704</td>\n",
       "</tr>\n",
       "<tr>\n",
       "  <th>segmentsArrivalAirportCode_ORD</th>                               <td>   16.4880</td> <td>    5.604</td> <td>    2.942</td> <td> 0.003</td> <td>    5.503</td> <td>   27.473</td>\n",
       "</tr>\n",
       "<tr>\n",
       "  <th>segmentsArrivalAirportCode_PHL</th>                               <td>   31.1181</td> <td>   17.564</td> <td>    1.772</td> <td> 0.076</td> <td>   -3.310</td> <td>   65.546</td>\n",
       "</tr>\n",
       "<tr>\n",
       "  <th>segmentsDepartureAirportCode_LAX</th>                             <td>   38.6236</td> <td>    5.186</td> <td>    7.447</td> <td> 0.000</td> <td>   28.458</td> <td>   48.790</td>\n",
       "</tr>\n",
       "<tr>\n",
       "  <th>segmentsDepartureAirportCode_ONT</th>                             <td>   85.6982</td> <td>    3.995</td> <td>   21.454</td> <td> 0.000</td> <td>   77.868</td> <td>   93.528</td>\n",
       "</tr>\n",
       "<tr>\n",
       "  <th>segmentsDepartureAirportCode_SFO</th>                             <td>  103.9838</td> <td>    8.330</td> <td>   12.483</td> <td> 0.000</td> <td>   87.656</td> <td>  120.311</td>\n",
       "</tr>\n",
       "<tr>\n",
       "  <th>segmentsAirlineCode_AA</th>                                       <td>  123.5655</td> <td>    9.393</td> <td>   13.155</td> <td> 0.000</td> <td>  105.154</td> <td>  141.977</td>\n",
       "</tr>\n",
       "<tr>\n",
       "  <th>segmentsAirlineCode_AS</th>                                       <td>   65.7050</td> <td>    9.924</td> <td>    6.621</td> <td> 0.000</td> <td>   46.252</td> <td>   85.158</td>\n",
       "</tr>\n",
       "<tr>\n",
       "  <th>segmentsAirlineCode_B6</th>                                       <td>  -44.9587</td> <td>   46.966</td> <td>   -0.957</td> <td> 0.338</td> <td> -137.017</td> <td>   47.099</td>\n",
       "</tr>\n",
       "<tr>\n",
       "  <th>segmentsAirlineCode_DL</th>                                       <td>   75.7420</td> <td>    9.880</td> <td>    7.666</td> <td> 0.000</td> <td>   56.376</td> <td>   95.108</td>\n",
       "</tr>\n",
       "<tr>\n",
       "  <th>segmentsAirlineCode_F9</th>                                       <td>  -97.2294</td> <td>    9.974</td> <td>   -9.749</td> <td> 0.000</td> <td> -116.778</td> <td>  -77.680</td>\n",
       "</tr>\n",
       "<tr>\n",
       "  <th>segmentsAirlineCode_UA</th>                                       <td>  105.4812</td> <td>    9.546</td> <td>   11.050</td> <td> 0.000</td> <td>   86.770</td> <td>  124.192</td>\n",
       "</tr>\n",
       "<tr>\n",
       "  <th>segmentsEquipmentDescription_AIRBUS INDUSTRIE A321 SHARKLETS</th> <td>   11.3092</td> <td>   10.728</td> <td>    1.054</td> <td> 0.292</td> <td>   -9.718</td> <td>   32.336</td>\n",
       "</tr>\n",
       "<tr>\n",
       "  <th>segmentsEquipmentDescription_Airbus A319</th>                     <td>  -38.9324</td> <td>    4.362</td> <td>   -8.926</td> <td> 0.000</td> <td>  -47.482</td> <td>  -30.383</td>\n",
       "</tr>\n",
       "<tr>\n",
       "  <th>segmentsEquipmentDescription_Airbus A319-321</th>                 <td>  -12.9371</td> <td>   56.524</td> <td>   -0.229</td> <td> 0.819</td> <td> -123.730</td> <td>   97.856</td>\n",
       "</tr>\n",
       "<tr>\n",
       "  <th>segmentsEquipmentDescription_Airbus A320</th>                     <td>   -4.0101</td> <td>    4.120</td> <td>   -0.973</td> <td> 0.330</td> <td>  -12.086</td> <td>    4.065</td>\n",
       "</tr>\n",
       "<tr>\n",
       "  <th>segmentsEquipmentDescription_Airbus A321</th>                     <td>   -1.6295</td> <td>    2.149</td> <td>   -0.758</td> <td> 0.448</td> <td>   -5.843</td> <td>    2.584</td>\n",
       "</tr>\n",
       "<tr>\n",
       "  <th>segmentsEquipmentDescription_BOEING 777-300ER</th>                <td>   -4.8372</td> <td>   10.364</td> <td>   -0.467</td> <td> 0.641</td> <td>  -25.152</td> <td>   15.478</td>\n",
       "</tr>\n",
       "<tr>\n",
       "  <th>segmentsEquipmentDescription_BOEING 787-9</th>                    <td>   48.1777</td> <td>    6.123</td> <td>    7.868</td> <td> 0.000</td> <td>   36.175</td> <td>   60.180</td>\n",
       "</tr>\n",
       "<tr>\n",
       "  <th>segmentsEquipmentDescription_Boeing 737 MAX 8</th>                <td>   20.0507</td> <td>   76.973</td> <td>    0.260</td> <td> 0.794</td> <td> -130.824</td> <td>  170.925</td>\n",
       "</tr>\n",
       "<tr>\n",
       "  <th>segmentsEquipmentDescription_Boeing 737 MAX 9</th>                <td>  -22.9074</td> <td>    3.861</td> <td>   -5.933</td> <td> 0.000</td> <td>  -30.476</td> <td>  -15.339</td>\n",
       "</tr>\n",
       "<tr>\n",
       "  <th>segmentsEquipmentDescription_Boeing 737-800</th>                  <td>   -2.4040</td> <td>    2.419</td> <td>   -0.994</td> <td> 0.320</td> <td>   -7.145</td> <td>    2.337</td>\n",
       "</tr>\n",
       "<tr>\n",
       "  <th>segmentsEquipmentDescription_Boeing 737-900</th>                  <td>   -8.4250</td> <td>    3.199</td> <td>   -2.633</td> <td> 0.008</td> <td>  -14.696</td> <td>   -2.154</td>\n",
       "</tr>\n",
       "<tr>\n",
       "  <th>segmentsEquipmentDescription_Boeing 757-200</th>                  <td>   73.0640</td> <td>   22.453</td> <td>    3.254</td> <td> 0.001</td> <td>   29.053</td> <td>  117.075</td>\n",
       "</tr>\n",
       "<tr>\n",
       "  <th>segmentsEquipmentDescription_Boeing 757-300</th>                  <td>   -2.7345</td> <td>    3.356</td> <td>   -0.815</td> <td> 0.415</td> <td>   -9.312</td> <td>    3.843</td>\n",
       "</tr>\n",
       "<tr>\n",
       "  <th>segmentsEquipmentDescription_Boeing 767</th>                      <td>   13.9754</td> <td>   61.562</td> <td>    0.227</td> <td> 0.820</td> <td> -106.693</td> <td>  134.643</td>\n",
       "</tr>\n",
       "<tr>\n",
       "  <th>segmentsEquipmentDescription_Boeing 767-300</th>                  <td>   23.2819</td> <td>   44.046</td> <td>    0.529</td> <td> 0.597</td> <td>  -63.053</td> <td>  109.617</td>\n",
       "</tr>\n",
       "<tr>\n",
       "  <th>segmentsEquipmentDescription_Boeing 777</th>                      <td>  -27.8623</td> <td>    4.224</td> <td>   -6.597</td> <td> 0.000</td> <td>  -36.141</td> <td>  -19.584</td>\n",
       "</tr>\n",
       "<tr>\n",
       "  <th>segmentsEquipmentDescription_Boeing 777-200</th>                  <td>  -17.6619</td> <td>   14.334</td> <td>   -1.232</td> <td> 0.218</td> <td>  -45.759</td> <td>   10.435</td>\n",
       "</tr>\n",
       "<tr>\n",
       "  <th>segmentsEquipmentDescription_Boeing 787-8</th>                    <td>   31.3726</td> <td>    4.298</td> <td>    7.299</td> <td> 0.000</td> <td>   22.948</td> <td>   39.797</td>\n",
       "</tr>\n",
       "<tr>\n",
       "  <th>segmentsEquipmentDescription_Embraer 175</th>                     <td>    3.8139</td> <td>   43.787</td> <td>    0.087</td> <td> 0.931</td> <td>  -82.014</td> <td>   89.641</td>\n",
       "</tr>\n",
       "<tr>\n",
       "  <th>segmentsCabinCode_business</th>                                   <td> -122.2109</td> <td>   36.166</td> <td>   -3.379</td> <td> 0.001</td> <td> -193.099</td> <td>  -51.323</td>\n",
       "</tr>\n",
       "<tr>\n",
       "  <th>segmentsCabinCode_coach</th>                                      <td> -347.3111</td> <td>   12.319</td> <td>  -28.192</td> <td> 0.000</td> <td> -371.459</td> <td> -323.164</td>\n",
       "</tr>\n",
       "<tr>\n",
       "  <th>segmentsCabinCode_first</th>                                      <td>  695.0243</td> <td>   25.383</td> <td>   27.382</td> <td> 0.000</td> <td>  645.272</td> <td>  744.777</td>\n",
       "</tr>\n",
       "<tr>\n",
       "  <th>segmentsCabinCode_premium coach</th>                              <td>    2.8033</td> <td>   13.129</td> <td>    0.214</td> <td> 0.831</td> <td>  -22.931</td> <td>   28.537</td>\n",
       "</tr>\n",
       "<tr>\n",
       "  <th>bookingClassCode_B</th>                                           <td>  210.0600</td> <td>    7.301</td> <td>   28.772</td> <td> 0.000</td> <td>  195.749</td> <td>  224.371</td>\n",
       "</tr>\n",
       "<tr>\n",
       "  <th>bookingClassCode_C</th>                                           <td>  131.7366</td> <td>   45.832</td> <td>    2.874</td> <td> 0.004</td> <td>   41.902</td> <td>  221.571</td>\n",
       "</tr>\n",
       "<tr>\n",
       "  <th>bookingClassCode_D</th>                                           <td>  -83.8216</td> <td>   11.013</td> <td>   -7.611</td> <td> 0.000</td> <td> -105.407</td> <td>  -62.236</td>\n",
       "</tr>\n",
       "<tr>\n",
       "  <th>bookingClassCode_E</th>                                           <td>  110.5615</td> <td>    6.742</td> <td>   16.398</td> <td> 0.000</td> <td>   97.346</td> <td>  123.777</td>\n",
       "</tr>\n",
       "<tr>\n",
       "  <th>bookingClassCode_G</th>                                           <td> -128.4782</td> <td>    6.008</td> <td>  -21.385</td> <td> 0.000</td> <td> -140.254</td> <td> -116.702</td>\n",
       "</tr>\n",
       "<tr>\n",
       "  <th>bookingClassCode_H</th>                                           <td>   30.2207</td> <td>    6.063</td> <td>    4.984</td> <td> 0.000</td> <td>   18.336</td> <td>   42.105</td>\n",
       "</tr>\n",
       "<tr>\n",
       "  <th>bookingClassCode_J</th>                                           <td>  441.0769</td> <td>   28.087</td> <td>   15.704</td> <td> 0.000</td> <td>  386.024</td> <td>  496.130</td>\n",
       "</tr>\n",
       "<tr>\n",
       "  <th>bookingClassCode_K</th>                                           <td>   11.6630</td> <td>    6.152</td> <td>    1.896</td> <td> 0.058</td> <td>   -0.395</td> <td>   23.721</td>\n",
       "</tr>\n",
       "<tr>\n",
       "  <th>bookingClassCode_L</th>                                           <td>  -82.9990</td> <td>    5.957</td> <td>  -13.934</td> <td> 0.000</td> <td>  -94.675</td> <td>  -71.323</td>\n",
       "</tr>\n",
       "<tr>\n",
       "  <th>bookingClassCode_M</th>                                           <td>   27.7093</td> <td>    6.009</td> <td>    4.611</td> <td> 0.000</td> <td>   15.930</td> <td>   39.488</td>\n",
       "</tr>\n",
       "<tr>\n",
       "  <th>bookingClassCode_N</th>                                           <td> -186.2354</td> <td>    6.243</td> <td>  -29.833</td> <td> 0.000</td> <td> -198.471</td> <td> -173.999</td>\n",
       "</tr>\n",
       "<tr>\n",
       "  <th>bookingClassCode_O</th>                                           <td> -209.5073</td> <td>   10.160</td> <td>  -20.620</td> <td> 0.000</td> <td> -229.423</td> <td> -189.592</td>\n",
       "</tr>\n",
       "<tr>\n",
       "  <th>bookingClassCode_P</th>                                           <td>  -73.8321</td> <td>   54.252</td> <td>   -1.361</td> <td> 0.174</td> <td> -180.172</td> <td>   32.508</td>\n",
       "</tr>\n",
       "<tr>\n",
       "  <th>bookingClassCode_Q</th>                                           <td>  -75.7575</td> <td>    6.068</td> <td>  -12.484</td> <td> 0.000</td> <td>  -87.652</td> <td>  -63.863</td>\n",
       "</tr>\n",
       "<tr>\n",
       "  <th>bookingClassCode_R</th>                                           <td>   90.2228</td> <td>   50.108</td> <td>    1.801</td> <td> 0.072</td> <td>   -7.994</td> <td>  188.440</td>\n",
       "</tr>\n",
       "<tr>\n",
       "  <th>bookingClassCode_S</th>                                           <td> -165.0514</td> <td>    5.977</td> <td>  -27.614</td> <td> 0.000</td> <td> -176.767</td> <td> -153.336</td>\n",
       "</tr>\n",
       "<tr>\n",
       "  <th>bookingClassCode_T</th>                                           <td> -162.8927</td> <td>    6.469</td> <td>  -25.182</td> <td> 0.000</td> <td> -175.572</td> <td> -150.214</td>\n",
       "</tr>\n",
       "<tr>\n",
       "  <th>bookingClassCode_U</th>                                           <td>   30.5366</td> <td>    6.335</td> <td>    4.820</td> <td> 0.000</td> <td>   18.120</td> <td>   42.953</td>\n",
       "</tr>\n",
       "<tr>\n",
       "  <th>bookingClassCode_V</th>                                           <td> -102.6029</td> <td>    5.932</td> <td>  -17.295</td> <td> 0.000</td> <td> -114.231</td> <td>  -90.975</td>\n",
       "</tr>\n",
       "<tr>\n",
       "  <th>bookingClassCode_W</th>                                           <td> -137.3673</td> <td>    6.283</td> <td>  -21.863</td> <td> 0.000</td> <td> -149.683</td> <td> -125.052</td>\n",
       "</tr>\n",
       "<tr>\n",
       "  <th>bookingClassCode_X</th>                                           <td> -100.4946</td> <td>    8.954</td> <td>  -11.223</td> <td> 0.000</td> <td> -118.046</td> <td>  -82.944</td>\n",
       "</tr>\n",
       "<tr>\n",
       "  <th>bookingClassCode_Y</th>                                           <td>  678.8586</td> <td>    9.550</td> <td>   71.084</td> <td> 0.000</td> <td>  660.139</td> <td>  697.578</td>\n",
       "</tr>\n",
       "<tr>\n",
       "  <th>bookingClassCode_Z</th>                                           <td>  -25.3001</td> <td>   65.028</td> <td>   -0.389</td> <td> 0.697</td> <td> -152.761</td> <td>  102.160</td>\n",
       "</tr>\n",
       "</table>\n",
       "<table class=\"simpletable\">\n",
       "<tr>\n",
       "  <th>Omnibus:</th>       <td>3037.636</td> <th>  Durbin-Watson:     </th> <td>   1.985</td> \n",
       "</tr>\n",
       "<tr>\n",
       "  <th>Prob(Omnibus):</th>  <td> 0.000</td>  <th>  Jarque-Bera (JB):  </th> <td>24278.356</td>\n",
       "</tr>\n",
       "<tr>\n",
       "  <th>Skew:</th>           <td> 0.590</td>  <th>  Prob(JB):          </th> <td>    0.00</td> \n",
       "</tr>\n",
       "<tr>\n",
       "  <th>Kurtosis:</th>       <td> 8.576</td>  <th>  Cond. No.          </th> <td>1.10e+16</td> \n",
       "</tr>\n",
       "</table><br/><br/>Notes:<br/>[1] Standard Errors assume that the covariance matrix of the errors is correctly specified.<br/>[2] The smallest eigenvalue is 2.76e-20. This might indicate that there are<br/>strong multicollinearity problems or that the design matrix is singular."
      ],
      "text/latex": [
       "\\begin{center}\n",
       "\\begin{tabular}{lclc}\n",
       "\\toprule\n",
       "\\textbf{Dep. Variable:}                                                &     baseFare     & \\textbf{  R-squared:         } &     0.814   \\\\\n",
       "\\textbf{Model:}                                                        &       OLS        & \\textbf{  Adj. R-squared:    } &     0.814   \\\\\n",
       "\\textbf{Method:}                                                       &  Least Squares   & \\textbf{  F-statistic:       } &     1090.   \\\\\n",
       "\\textbf{Date:}                                                         & Wed, 11 Dec 2024 & \\textbf{  Prob (F-statistic):} &     0.00    \\\\\n",
       "\\textbf{Time:}                                                         &     23:05:41     & \\textbf{  Log-Likelihood:    } &   -99306.   \\\\\n",
       "\\textbf{No. Observations:}                                             &       17940      & \\textbf{  AIC:               } & 1.988e+05   \\\\\n",
       "\\textbf{Df Residuals:}                                                 &       17867      & \\textbf{  BIC:               } & 1.993e+05   \\\\\n",
       "\\textbf{Df Model:}                                                     &          72      & \\textbf{                     } &             \\\\\n",
       "\\textbf{Covariance Type:}                                              &    nonrobust     & \\textbf{                     } &             \\\\\n",
       "\\bottomrule\n",
       "\\end{tabular}\n",
       "\\begin{tabular}{lcccccc}\n",
       "                                                                       & \\textbf{coef} & \\textbf{std err} & \\textbf{t} & \\textbf{P$> |$t$|$} & \\textbf{[0.025} & \\textbf{0.975]}  \\\\\n",
       "\\midrule\n",
       "\\textbf{elapsedDays}                                                   &       0.0103  &       33.094     &     0.000  &         1.000        &      -64.857    &       64.877     \\\\\n",
       "\\textbf{isBasicEconomy}                                                &     -61.2780  &        1.570     &   -39.022  &         0.000        &      -64.356    &      -58.200     \\\\\n",
       "\\textbf{isRefundable}                                                  &   -1.114e-10  &     8.15e-12     &   -13.658  &         0.000        &    -1.27e-10    &    -9.54e-11     \\\\\n",
       "\\textbf{isNonStop}                                                     &     228.3056  &       17.232     &    13.249  &         0.000        &      194.529    &      262.082     \\\\\n",
       "\\textbf{seatsRemaining}                                                &       0.3563  &        0.245     &     1.452  &         0.147        &       -0.125    &        0.837     \\\\\n",
       "\\textbf{totalTravelDistance}                                           &      -0.1664  &        0.011     &   -15.034  &         0.000        &       -0.188    &       -0.145     \\\\\n",
       "\\textbf{segmentsDurationInSeconds}                                     &       0.0517  &        0.002     &    29.564  &         0.000        &        0.048    &        0.055     \\\\\n",
       "\\textbf{segmentsDistance}                                              &      -0.1664  &        0.011     &   -15.034  &         0.000        &       -0.188    &       -0.145     \\\\\n",
       "\\textbf{daysTillFlight}                                                &      -0.3216  &        0.029     &   -10.953  &         0.000        &       -0.379    &       -0.264     \\\\\n",
       "\\textbf{departureDayOfWeek}                                            &       1.8902  &        0.489     &     3.866  &         0.000        &        0.932    &        2.848     \\\\\n",
       "\\textbf{departureHour}                                                 &      -0.4684  &        1.414     &    -0.331  &         0.740        &       -3.240    &        2.303     \\\\\n",
       "\\textbf{arrivalDayOfWeek}                                              &       0.2406  &        0.489     &     0.492  &         0.623        &       -0.717    &        1.199     \\\\\n",
       "\\textbf{arrivalHour}                                                   &       0.7791  &        1.408     &     0.553  &         0.580        &       -1.980    &        3.538     \\\\\n",
       "\\textbf{startingAirport\\_LAX}                                          &     124.3218  &        8.945     &    13.899  &         0.000        &      106.789    &      141.855     \\\\\n",
       "\\textbf{startingAirport\\_SFO}                                          &     103.9838  &        8.330     &    12.483  &         0.000        &       87.656    &      120.311     \\\\\n",
       "\\textbf{destinationAirport\\_ATL}                                       &      -1.7037  &       28.811     &    -0.059  &         0.953        &      -58.177    &       54.769     \\\\\n",
       "\\textbf{destinationAirport\\_BOS}                                       &      25.4389  &       14.513     &     1.753  &         0.080        &       -3.008    &       53.886     \\\\\n",
       "\\textbf{destinationAirport\\_CLT}                                       &      56.0466  &       11.995     &     4.672  &         0.000        &       32.535    &       79.558     \\\\\n",
       "\\textbf{destinationAirport\\_DEN}                                       &     -13.0280  &       44.369     &    -0.294  &         0.769        &      -99.995    &       73.939     \\\\\n",
       "\\textbf{destinationAirport\\_DFW}                                       &       2.6820  &       19.362     &     0.139  &         0.890        &      -35.270    &       40.634     \\\\\n",
       "\\textbf{destinationAirport\\_DTW}                                       &      61.0921  &       17.442     &     3.503  &         0.000        &       26.904    &       95.280     \\\\\n",
       "\\textbf{destinationAirport\\_EWR}                                       &      -1.2709  &       15.882     &    -0.080  &         0.936        &      -32.401    &       29.859     \\\\\n",
       "\\textbf{destinationAirport\\_IAD}                                       &      29.5057  &       17.647     &     1.672  &         0.095        &       -5.085    &       64.096     \\\\\n",
       "\\textbf{destinationAirport\\_JFK}                                       &      22.2714  &       10.167     &     2.191  &         0.028        &        2.344    &       42.199     \\\\\n",
       "\\textbf{destinationAirport\\_MIA}                                       &      -0.3345  &       21.957     &    -0.015  &         0.988        &      -43.373    &       42.704     \\\\\n",
       "\\textbf{destinationAirport\\_ORD}                                       &      16.4880  &        5.604     &     2.942  &         0.003        &        5.503    &       27.473     \\\\\n",
       "\\textbf{destinationAirport\\_PHL}                                       &      31.1181  &       17.564     &     1.772  &         0.076        &       -3.310    &       65.546     \\\\\n",
       "\\textbf{segmentsArrivalAirportCode\\_ATL}                               &      -1.7037  &       28.811     &    -0.059  &         0.953        &      -58.177    &       54.769     \\\\\n",
       "\\textbf{segmentsArrivalAirportCode\\_BOS}                               &      25.4389  &       14.513     &     1.753  &         0.080        &       -3.008    &       53.886     \\\\\n",
       "\\textbf{segmentsArrivalAirportCode\\_CLT}                               &      56.0466  &       11.995     &     4.672  &         0.000        &       32.535    &       79.558     \\\\\n",
       "\\textbf{segmentsArrivalAirportCode\\_DAL}                               &      -6.8186  &       15.303     &    -0.446  &         0.656        &      -36.813    &       23.176     \\\\\n",
       "\\textbf{segmentsArrivalAirportCode\\_DFW}                               &      -3.5274  &       15.326     &    -0.230  &         0.818        &      -33.567    &       26.512     \\\\\n",
       "\\textbf{segmentsArrivalAirportCode\\_DTW}                               &      61.0921  &       17.442     &     3.503  &         0.000        &       26.904    &       95.280     \\\\\n",
       "\\textbf{segmentsArrivalAirportCode\\_EWR}                               &      -1.2709  &       15.882     &    -0.080  &         0.936        &      -32.401    &       29.859     \\\\\n",
       "\\textbf{segmentsArrivalAirportCode\\_IAD}                               &      29.5057  &       17.647     &     1.672  &         0.095        &       -5.085    &       64.096     \\\\\n",
       "\\textbf{segmentsArrivalAirportCode\\_JFK}                               &      22.2714  &       10.167     &     2.191  &         0.028        &        2.344    &       42.199     \\\\\n",
       "\\textbf{segmentsArrivalAirportCode\\_MIA}                               &      -0.3345  &       21.957     &    -0.015  &         0.988        &      -43.373    &       42.704     \\\\\n",
       "\\textbf{segmentsArrivalAirportCode\\_ORD}                               &      16.4880  &        5.604     &     2.942  &         0.003        &        5.503    &       27.473     \\\\\n",
       "\\textbf{segmentsArrivalAirportCode\\_PHL}                               &      31.1181  &       17.564     &     1.772  &         0.076        &       -3.310    &       65.546     \\\\\n",
       "\\textbf{segmentsDepartureAirportCode\\_LAX}                             &      38.6236  &        5.186     &     7.447  &         0.000        &       28.458    &       48.790     \\\\\n",
       "\\textbf{segmentsDepartureAirportCode\\_ONT}                             &      85.6982  &        3.995     &    21.454  &         0.000        &       77.868    &       93.528     \\\\\n",
       "\\textbf{segmentsDepartureAirportCode\\_SFO}                             &     103.9838  &        8.330     &    12.483  &         0.000        &       87.656    &      120.311     \\\\\n",
       "\\textbf{segmentsAirlineCode\\_AA}                                       &     123.5655  &        9.393     &    13.155  &         0.000        &      105.154    &      141.977     \\\\\n",
       "\\textbf{segmentsAirlineCode\\_AS}                                       &      65.7050  &        9.924     &     6.621  &         0.000        &       46.252    &       85.158     \\\\\n",
       "\\textbf{segmentsAirlineCode\\_B6}                                       &     -44.9587  &       46.966     &    -0.957  &         0.338        &     -137.017    &       47.099     \\\\\n",
       "\\textbf{segmentsAirlineCode\\_DL}                                       &      75.7420  &        9.880     &     7.666  &         0.000        &       56.376    &       95.108     \\\\\n",
       "\\textbf{segmentsAirlineCode\\_F9}                                       &     -97.2294  &        9.974     &    -9.749  &         0.000        &     -116.778    &      -77.680     \\\\\n",
       "\\textbf{segmentsAirlineCode\\_UA}                                       &     105.4812  &        9.546     &    11.050  &         0.000        &       86.770    &      124.192     \\\\\n",
       "\\textbf{segmentsEquipmentDescription\\_AIRBUS INDUSTRIE A321 SHARKLETS} &      11.3092  &       10.728     &     1.054  &         0.292        &       -9.718    &       32.336     \\\\\n",
       "\\textbf{segmentsEquipmentDescription\\_Airbus A319}                     &     -38.9324  &        4.362     &    -8.926  &         0.000        &      -47.482    &      -30.383     \\\\\n",
       "\\textbf{segmentsEquipmentDescription\\_Airbus A319-321}                 &     -12.9371  &       56.524     &    -0.229  &         0.819        &     -123.730    &       97.856     \\\\\n",
       "\\textbf{segmentsEquipmentDescription\\_Airbus A320}                     &      -4.0101  &        4.120     &    -0.973  &         0.330        &      -12.086    &        4.065     \\\\\n",
       "\\textbf{segmentsEquipmentDescription\\_Airbus A321}                     &      -1.6295  &        2.149     &    -0.758  &         0.448        &       -5.843    &        2.584     \\\\\n",
       "\\textbf{segmentsEquipmentDescription\\_BOEING 777-300ER}                &      -4.8372  &       10.364     &    -0.467  &         0.641        &      -25.152    &       15.478     \\\\\n",
       "\\textbf{segmentsEquipmentDescription\\_BOEING 787-9}                    &      48.1777  &        6.123     &     7.868  &         0.000        &       36.175    &       60.180     \\\\\n",
       "\\textbf{segmentsEquipmentDescription\\_Boeing 737 MAX 8}                &      20.0507  &       76.973     &     0.260  &         0.794        &     -130.824    &      170.925     \\\\\n",
       "\\textbf{segmentsEquipmentDescription\\_Boeing 737 MAX 9}                &     -22.9074  &        3.861     &    -5.933  &         0.000        &      -30.476    &      -15.339     \\\\\n",
       "\\textbf{segmentsEquipmentDescription\\_Boeing 737-800}                  &      -2.4040  &        2.419     &    -0.994  &         0.320        &       -7.145    &        2.337     \\\\\n",
       "\\textbf{segmentsEquipmentDescription\\_Boeing 737-900}                  &      -8.4250  &        3.199     &    -2.633  &         0.008        &      -14.696    &       -2.154     \\\\\n",
       "\\textbf{segmentsEquipmentDescription\\_Boeing 757-200}                  &      73.0640  &       22.453     &     3.254  &         0.001        &       29.053    &      117.075     \\\\\n",
       "\\textbf{segmentsEquipmentDescription\\_Boeing 757-300}                  &      -2.7345  &        3.356     &    -0.815  &         0.415        &       -9.312    &        3.843     \\\\\n",
       "\\textbf{segmentsEquipmentDescription\\_Boeing 767}                      &      13.9754  &       61.562     &     0.227  &         0.820        &     -106.693    &      134.643     \\\\\n",
       "\\textbf{segmentsEquipmentDescription\\_Boeing 767-300}                  &      23.2819  &       44.046     &     0.529  &         0.597        &      -63.053    &      109.617     \\\\\n",
       "\\textbf{segmentsEquipmentDescription\\_Boeing 777}                      &     -27.8623  &        4.224     &    -6.597  &         0.000        &      -36.141    &      -19.584     \\\\\n",
       "\\textbf{segmentsEquipmentDescription\\_Boeing 777-200}                  &     -17.6619  &       14.334     &    -1.232  &         0.218        &      -45.759    &       10.435     \\\\\n",
       "\\textbf{segmentsEquipmentDescription\\_Boeing 787-8}                    &      31.3726  &        4.298     &     7.299  &         0.000        &       22.948    &       39.797     \\\\\n",
       "\\textbf{segmentsEquipmentDescription\\_Embraer 175}                     &       3.8139  &       43.787     &     0.087  &         0.931        &      -82.014    &       89.641     \\\\\n",
       "\\textbf{segmentsCabinCode\\_business}                                   &    -122.2109  &       36.166     &    -3.379  &         0.001        &     -193.099    &      -51.323     \\\\\n",
       "\\textbf{segmentsCabinCode\\_coach}                                      &    -347.3111  &       12.319     &   -28.192  &         0.000        &     -371.459    &     -323.164     \\\\\n",
       "\\textbf{segmentsCabinCode\\_first}                                      &     695.0243  &       25.383     &    27.382  &         0.000        &      645.272    &      744.777     \\\\\n",
       "\\textbf{segmentsCabinCode\\_premium coach}                              &       2.8033  &       13.129     &     0.214  &         0.831        &      -22.931    &       28.537     \\\\\n",
       "\\textbf{bookingClassCode\\_B}                                           &     210.0600  &        7.301     &    28.772  &         0.000        &      195.749    &      224.371     \\\\\n",
       "\\textbf{bookingClassCode\\_C}                                           &     131.7366  &       45.832     &     2.874  &         0.004        &       41.902    &      221.571     \\\\\n",
       "\\textbf{bookingClassCode\\_D}                                           &     -83.8216  &       11.013     &    -7.611  &         0.000        &     -105.407    &      -62.236     \\\\\n",
       "\\textbf{bookingClassCode\\_E}                                           &     110.5615  &        6.742     &    16.398  &         0.000        &       97.346    &      123.777     \\\\\n",
       "\\textbf{bookingClassCode\\_G}                                           &    -128.4782  &        6.008     &   -21.385  &         0.000        &     -140.254    &     -116.702     \\\\\n",
       "\\textbf{bookingClassCode\\_H}                                           &      30.2207  &        6.063     &     4.984  &         0.000        &       18.336    &       42.105     \\\\\n",
       "\\textbf{bookingClassCode\\_J}                                           &     441.0769  &       28.087     &    15.704  &         0.000        &      386.024    &      496.130     \\\\\n",
       "\\textbf{bookingClassCode\\_K}                                           &      11.6630  &        6.152     &     1.896  &         0.058        &       -0.395    &       23.721     \\\\\n",
       "\\textbf{bookingClassCode\\_L}                                           &     -82.9990  &        5.957     &   -13.934  &         0.000        &      -94.675    &      -71.323     \\\\\n",
       "\\textbf{bookingClassCode\\_M}                                           &      27.7093  &        6.009     &     4.611  &         0.000        &       15.930    &       39.488     \\\\\n",
       "\\textbf{bookingClassCode\\_N}                                           &    -186.2354  &        6.243     &   -29.833  &         0.000        &     -198.471    &     -173.999     \\\\\n",
       "\\textbf{bookingClassCode\\_O}                                           &    -209.5073  &       10.160     &   -20.620  &         0.000        &     -229.423    &     -189.592     \\\\\n",
       "\\textbf{bookingClassCode\\_P}                                           &     -73.8321  &       54.252     &    -1.361  &         0.174        &     -180.172    &       32.508     \\\\\n",
       "\\textbf{bookingClassCode\\_Q}                                           &     -75.7575  &        6.068     &   -12.484  &         0.000        &      -87.652    &      -63.863     \\\\\n",
       "\\textbf{bookingClassCode\\_R}                                           &      90.2228  &       50.108     &     1.801  &         0.072        &       -7.994    &      188.440     \\\\\n",
       "\\textbf{bookingClassCode\\_S}                                           &    -165.0514  &        5.977     &   -27.614  &         0.000        &     -176.767    &     -153.336     \\\\\n",
       "\\textbf{bookingClassCode\\_T}                                           &    -162.8927  &        6.469     &   -25.182  &         0.000        &     -175.572    &     -150.214     \\\\\n",
       "\\textbf{bookingClassCode\\_U}                                           &      30.5366  &        6.335     &     4.820  &         0.000        &       18.120    &       42.953     \\\\\n",
       "\\textbf{bookingClassCode\\_V}                                           &    -102.6029  &        5.932     &   -17.295  &         0.000        &     -114.231    &      -90.975     \\\\\n",
       "\\textbf{bookingClassCode\\_W}                                           &    -137.3673  &        6.283     &   -21.863  &         0.000        &     -149.683    &     -125.052     \\\\\n",
       "\\textbf{bookingClassCode\\_X}                                           &    -100.4946  &        8.954     &   -11.223  &         0.000        &     -118.046    &      -82.944     \\\\\n",
       "\\textbf{bookingClassCode\\_Y}                                           &     678.8586  &        9.550     &    71.084  &         0.000        &      660.139    &      697.578     \\\\\n",
       "\\textbf{bookingClassCode\\_Z}                                           &     -25.3001  &       65.028     &    -0.389  &         0.697        &     -152.761    &      102.160     \\\\\n",
       "\\bottomrule\n",
       "\\end{tabular}\n",
       "\\begin{tabular}{lclc}\n",
       "\\textbf{Omnibus:}       & 3037.636 & \\textbf{  Durbin-Watson:     } &     1.985  \\\\\n",
       "\\textbf{Prob(Omnibus):} &   0.000  & \\textbf{  Jarque-Bera (JB):  } & 24278.356  \\\\\n",
       "\\textbf{Skew:}          &   0.590  & \\textbf{  Prob(JB):          } &      0.00  \\\\\n",
       "\\textbf{Kurtosis:}      &   8.576  & \\textbf{  Cond. No.          } &  1.10e+16  \\\\\n",
       "\\bottomrule\n",
       "\\end{tabular}\n",
       "%\\caption{OLS Regression Results}\n",
       "\\end{center}\n",
       "\n",
       "Notes: \\newline\n",
       " [1] Standard Errors assume that the covariance matrix of the errors is correctly specified. \\newline\n",
       " [2] The smallest eigenvalue is 2.76e-20. This might indicate that there are \\newline\n",
       " strong multicollinearity problems or that the design matrix is singular."
      ],
      "text/plain": [
       "<class 'statsmodels.iolib.summary.Summary'>\n",
       "\"\"\"\n",
       "                            OLS Regression Results                            \n",
       "==============================================================================\n",
       "Dep. Variable:               baseFare   R-squared:                       0.814\n",
       "Model:                            OLS   Adj. R-squared:                  0.814\n",
       "Method:                 Least Squares   F-statistic:                     1090.\n",
       "Date:                Wed, 11 Dec 2024   Prob (F-statistic):               0.00\n",
       "Time:                        23:05:41   Log-Likelihood:                -99306.\n",
       "No. Observations:               17940   AIC:                         1.988e+05\n",
       "Df Residuals:                   17867   BIC:                         1.993e+05\n",
       "Df Model:                          72                                         \n",
       "Covariance Type:            nonrobust                                         \n",
       "================================================================================================================================\n",
       "                                                                   coef    std err          t      P>|t|      [0.025      0.975]\n",
       "--------------------------------------------------------------------------------------------------------------------------------\n",
       "elapsedDays                                                      0.0103     33.094      0.000      1.000     -64.857      64.877\n",
       "isBasicEconomy                                                 -61.2780      1.570    -39.022      0.000     -64.356     -58.200\n",
       "isRefundable                                                 -1.114e-10   8.15e-12    -13.658      0.000   -1.27e-10   -9.54e-11\n",
       "isNonStop                                                      228.3056     17.232     13.249      0.000     194.529     262.082\n",
       "seatsRemaining                                                   0.3563      0.245      1.452      0.147      -0.125       0.837\n",
       "totalTravelDistance                                             -0.1664      0.011    -15.034      0.000      -0.188      -0.145\n",
       "segmentsDurationInSeconds                                        0.0517      0.002     29.564      0.000       0.048       0.055\n",
       "segmentsDistance                                                -0.1664      0.011    -15.034      0.000      -0.188      -0.145\n",
       "daysTillFlight                                                  -0.3216      0.029    -10.953      0.000      -0.379      -0.264\n",
       "departureDayOfWeek                                               1.8902      0.489      3.866      0.000       0.932       2.848\n",
       "departureHour                                                   -0.4684      1.414     -0.331      0.740      -3.240       2.303\n",
       "arrivalDayOfWeek                                                 0.2406      0.489      0.492      0.623      -0.717       1.199\n",
       "arrivalHour                                                      0.7791      1.408      0.553      0.580      -1.980       3.538\n",
       "startingAirport_LAX                                            124.3218      8.945     13.899      0.000     106.789     141.855\n",
       "startingAirport_SFO                                            103.9838      8.330     12.483      0.000      87.656     120.311\n",
       "destinationAirport_ATL                                          -1.7037     28.811     -0.059      0.953     -58.177      54.769\n",
       "destinationAirport_BOS                                          25.4389     14.513      1.753      0.080      -3.008      53.886\n",
       "destinationAirport_CLT                                          56.0466     11.995      4.672      0.000      32.535      79.558\n",
       "destinationAirport_DEN                                         -13.0280     44.369     -0.294      0.769     -99.995      73.939\n",
       "destinationAirport_DFW                                           2.6820     19.362      0.139      0.890     -35.270      40.634\n",
       "destinationAirport_DTW                                          61.0921     17.442      3.503      0.000      26.904      95.280\n",
       "destinationAirport_EWR                                          -1.2709     15.882     -0.080      0.936     -32.401      29.859\n",
       "destinationAirport_IAD                                          29.5057     17.647      1.672      0.095      -5.085      64.096\n",
       "destinationAirport_JFK                                          22.2714     10.167      2.191      0.028       2.344      42.199\n",
       "destinationAirport_MIA                                          -0.3345     21.957     -0.015      0.988     -43.373      42.704\n",
       "destinationAirport_ORD                                          16.4880      5.604      2.942      0.003       5.503      27.473\n",
       "destinationAirport_PHL                                          31.1181     17.564      1.772      0.076      -3.310      65.546\n",
       "segmentsArrivalAirportCode_ATL                                  -1.7037     28.811     -0.059      0.953     -58.177      54.769\n",
       "segmentsArrivalAirportCode_BOS                                  25.4389     14.513      1.753      0.080      -3.008      53.886\n",
       "segmentsArrivalAirportCode_CLT                                  56.0466     11.995      4.672      0.000      32.535      79.558\n",
       "segmentsArrivalAirportCode_DAL                                  -6.8186     15.303     -0.446      0.656     -36.813      23.176\n",
       "segmentsArrivalAirportCode_DFW                                  -3.5274     15.326     -0.230      0.818     -33.567      26.512\n",
       "segmentsArrivalAirportCode_DTW                                  61.0921     17.442      3.503      0.000      26.904      95.280\n",
       "segmentsArrivalAirportCode_EWR                                  -1.2709     15.882     -0.080      0.936     -32.401      29.859\n",
       "segmentsArrivalAirportCode_IAD                                  29.5057     17.647      1.672      0.095      -5.085      64.096\n",
       "segmentsArrivalAirportCode_JFK                                  22.2714     10.167      2.191      0.028       2.344      42.199\n",
       "segmentsArrivalAirportCode_MIA                                  -0.3345     21.957     -0.015      0.988     -43.373      42.704\n",
       "segmentsArrivalAirportCode_ORD                                  16.4880      5.604      2.942      0.003       5.503      27.473\n",
       "segmentsArrivalAirportCode_PHL                                  31.1181     17.564      1.772      0.076      -3.310      65.546\n",
       "segmentsDepartureAirportCode_LAX                                38.6236      5.186      7.447      0.000      28.458      48.790\n",
       "segmentsDepartureAirportCode_ONT                                85.6982      3.995     21.454      0.000      77.868      93.528\n",
       "segmentsDepartureAirportCode_SFO                               103.9838      8.330     12.483      0.000      87.656     120.311\n",
       "segmentsAirlineCode_AA                                         123.5655      9.393     13.155      0.000     105.154     141.977\n",
       "segmentsAirlineCode_AS                                          65.7050      9.924      6.621      0.000      46.252      85.158\n",
       "segmentsAirlineCode_B6                                         -44.9587     46.966     -0.957      0.338    -137.017      47.099\n",
       "segmentsAirlineCode_DL                                          75.7420      9.880      7.666      0.000      56.376      95.108\n",
       "segmentsAirlineCode_F9                                         -97.2294      9.974     -9.749      0.000    -116.778     -77.680\n",
       "segmentsAirlineCode_UA                                         105.4812      9.546     11.050      0.000      86.770     124.192\n",
       "segmentsEquipmentDescription_AIRBUS INDUSTRIE A321 SHARKLETS    11.3092     10.728      1.054      0.292      -9.718      32.336\n",
       "segmentsEquipmentDescription_Airbus A319                       -38.9324      4.362     -8.926      0.000     -47.482     -30.383\n",
       "segmentsEquipmentDescription_Airbus A319-321                   -12.9371     56.524     -0.229      0.819    -123.730      97.856\n",
       "segmentsEquipmentDescription_Airbus A320                        -4.0101      4.120     -0.973      0.330     -12.086       4.065\n",
       "segmentsEquipmentDescription_Airbus A321                        -1.6295      2.149     -0.758      0.448      -5.843       2.584\n",
       "segmentsEquipmentDescription_BOEING 777-300ER                   -4.8372     10.364     -0.467      0.641     -25.152      15.478\n",
       "segmentsEquipmentDescription_BOEING 787-9                       48.1777      6.123      7.868      0.000      36.175      60.180\n",
       "segmentsEquipmentDescription_Boeing 737 MAX 8                   20.0507     76.973      0.260      0.794    -130.824     170.925\n",
       "segmentsEquipmentDescription_Boeing 737 MAX 9                  -22.9074      3.861     -5.933      0.000     -30.476     -15.339\n",
       "segmentsEquipmentDescription_Boeing 737-800                     -2.4040      2.419     -0.994      0.320      -7.145       2.337\n",
       "segmentsEquipmentDescription_Boeing 737-900                     -8.4250      3.199     -2.633      0.008     -14.696      -2.154\n",
       "segmentsEquipmentDescription_Boeing 757-200                     73.0640     22.453      3.254      0.001      29.053     117.075\n",
       "segmentsEquipmentDescription_Boeing 757-300                     -2.7345      3.356     -0.815      0.415      -9.312       3.843\n",
       "segmentsEquipmentDescription_Boeing 767                         13.9754     61.562      0.227      0.820    -106.693     134.643\n",
       "segmentsEquipmentDescription_Boeing 767-300                     23.2819     44.046      0.529      0.597     -63.053     109.617\n",
       "segmentsEquipmentDescription_Boeing 777                        -27.8623      4.224     -6.597      0.000     -36.141     -19.584\n",
       "segmentsEquipmentDescription_Boeing 777-200                    -17.6619     14.334     -1.232      0.218     -45.759      10.435\n",
       "segmentsEquipmentDescription_Boeing 787-8                       31.3726      4.298      7.299      0.000      22.948      39.797\n",
       "segmentsEquipmentDescription_Embraer 175                         3.8139     43.787      0.087      0.931     -82.014      89.641\n",
       "segmentsCabinCode_business                                    -122.2109     36.166     -3.379      0.001    -193.099     -51.323\n",
       "segmentsCabinCode_coach                                       -347.3111     12.319    -28.192      0.000    -371.459    -323.164\n",
       "segmentsCabinCode_first                                        695.0243     25.383     27.382      0.000     645.272     744.777\n",
       "segmentsCabinCode_premium coach                                  2.8033     13.129      0.214      0.831     -22.931      28.537\n",
       "bookingClassCode_B                                             210.0600      7.301     28.772      0.000     195.749     224.371\n",
       "bookingClassCode_C                                             131.7366     45.832      2.874      0.004      41.902     221.571\n",
       "bookingClassCode_D                                             -83.8216     11.013     -7.611      0.000    -105.407     -62.236\n",
       "bookingClassCode_E                                             110.5615      6.742     16.398      0.000      97.346     123.777\n",
       "bookingClassCode_G                                            -128.4782      6.008    -21.385      0.000    -140.254    -116.702\n",
       "bookingClassCode_H                                              30.2207      6.063      4.984      0.000      18.336      42.105\n",
       "bookingClassCode_J                                             441.0769     28.087     15.704      0.000     386.024     496.130\n",
       "bookingClassCode_K                                              11.6630      6.152      1.896      0.058      -0.395      23.721\n",
       "bookingClassCode_L                                             -82.9990      5.957    -13.934      0.000     -94.675     -71.323\n",
       "bookingClassCode_M                                              27.7093      6.009      4.611      0.000      15.930      39.488\n",
       "bookingClassCode_N                                            -186.2354      6.243    -29.833      0.000    -198.471    -173.999\n",
       "bookingClassCode_O                                            -209.5073     10.160    -20.620      0.000    -229.423    -189.592\n",
       "bookingClassCode_P                                             -73.8321     54.252     -1.361      0.174    -180.172      32.508\n",
       "bookingClassCode_Q                                             -75.7575      6.068    -12.484      0.000     -87.652     -63.863\n",
       "bookingClassCode_R                                              90.2228     50.108      1.801      0.072      -7.994     188.440\n",
       "bookingClassCode_S                                            -165.0514      5.977    -27.614      0.000    -176.767    -153.336\n",
       "bookingClassCode_T                                            -162.8927      6.469    -25.182      0.000    -175.572    -150.214\n",
       "bookingClassCode_U                                              30.5366      6.335      4.820      0.000      18.120      42.953\n",
       "bookingClassCode_V                                            -102.6029      5.932    -17.295      0.000    -114.231     -90.975\n",
       "bookingClassCode_W                                            -137.3673      6.283    -21.863      0.000    -149.683    -125.052\n",
       "bookingClassCode_X                                            -100.4946      8.954    -11.223      0.000    -118.046     -82.944\n",
       "bookingClassCode_Y                                             678.8586      9.550     71.084      0.000     660.139     697.578\n",
       "bookingClassCode_Z                                             -25.3001     65.028     -0.389      0.697    -152.761     102.160\n",
       "==============================================================================\n",
       "Omnibus:                     3037.636   Durbin-Watson:                   1.985\n",
       "Prob(Omnibus):                  0.000   Jarque-Bera (JB):            24278.356\n",
       "Skew:                           0.590   Prob(JB):                         0.00\n",
       "Kurtosis:                       8.576   Cond. No.                     1.10e+16\n",
       "==============================================================================\n",
       "\n",
       "Notes:\n",
       "[1] Standard Errors assume that the covariance matrix of the errors is correctly specified.\n",
       "[2] The smallest eigenvalue is 2.76e-20. This might indicate that there are\n",
       "strong multicollinearity problems or that the design matrix is singular.\n",
       "\"\"\""
      ]
     },
     "execution_count": 10,
     "metadata": {},
     "output_type": "execute_result"
    }
   ],
   "source": [
    "basic_linreg = sm.OLS(y_train, X_train).fit()\n",
    "basic_linreg.summary()"
   ]
  },
  {
   "cell_type": "markdown",
   "metadata": {
    "cell_id": "296a91273b1744718b3929c235db64fe",
    "deepnote_cell_type": "markdown"
   },
   "source": [
    "Based on the p-values from our model summary of the basic linear regression model, we can see that some of the continuous variables are not significant (> 0.05). We can remove the following continuous features from the model:\n",
    "- `seatsRemaining`\n",
    "- `arrivalDayOfWeek`\n",
    "- `arrivalHour`"
   ]
  },
  {
   "cell_type": "code",
   "execution_count": 11,
   "metadata": {
    "cell_id": "6c22d434b6e34b6e96f38a91618a32f2",
    "deepnote_cell_type": "code",
    "execution_context_id": "5e196466-4669-4eeb-abfe-723616e59df1",
    "execution_millis": 0,
    "execution_start": 1733958341536,
    "source_hash": "5ca2998a"
   },
   "outputs": [],
   "source": [
    "# Dropping insignificant continuous features\n",
    "features_to_remove_1 = [\"seatsRemaining\", \"arrivalDayOfWeek\", \"arrivalHour\"] # Manually identified\n",
    "X_train_filtered_1 = X_train.drop(columns=features_to_remove_1)"
   ]
  },
  {
   "cell_type": "markdown",
   "metadata": {
    "cell_id": "674da1dd2e1e4d0b9aa06ab08e97bac0",
    "deepnote_cell_type": "markdown"
   },
   "source": [
    "## Filtered LinReg Model (Iteration 1)"
   ]
  },
  {
   "cell_type": "code",
   "execution_count": 12,
   "metadata": {
    "cell_id": "630eb9e5468b4243a95c135eed534d07",
    "deepnote_cell_type": "code",
    "execution_context_id": "5e196466-4669-4eeb-abfe-723616e59df1",
    "execution_millis": 1703,
    "execution_start": 1733958341588,
    "source_hash": "2d1c6c56"
   },
   "outputs": [
    {
     "data": {
      "text/html": [
       "<table class=\"simpletable\">\n",
       "<caption>OLS Regression Results</caption>\n",
       "<tr>\n",
       "  <th>Dep. Variable:</th>        <td>baseFare</td>     <th>  R-squared:         </th> <td>   0.814</td> \n",
       "</tr>\n",
       "<tr>\n",
       "  <th>Model:</th>                   <td>OLS</td>       <th>  Adj. R-squared:    </th> <td>   0.814</td> \n",
       "</tr>\n",
       "<tr>\n",
       "  <th>Method:</th>             <td>Least Squares</td>  <th>  F-statistic:       </th> <td>   1137.</td> \n",
       "</tr>\n",
       "<tr>\n",
       "  <th>Date:</th>             <td>Wed, 11 Dec 2024</td> <th>  Prob (F-statistic):</th>  <td>  0.00</td>  \n",
       "</tr>\n",
       "<tr>\n",
       "  <th>Time:</th>                 <td>23:05:43</td>     <th>  Log-Likelihood:    </th> <td> -99307.</td> \n",
       "</tr>\n",
       "<tr>\n",
       "  <th>No. Observations:</th>      <td> 17940</td>      <th>  AIC:               </th> <td>1.988e+05</td>\n",
       "</tr>\n",
       "<tr>\n",
       "  <th>Df Residuals:</th>          <td> 17870</td>      <th>  BIC:               </th> <td>1.993e+05</td>\n",
       "</tr>\n",
       "<tr>\n",
       "  <th>Df Model:</th>              <td>    69</td>      <th>                     </th>     <td> </td>    \n",
       "</tr>\n",
       "<tr>\n",
       "  <th>Covariance Type:</th>      <td>nonrobust</td>    <th>                     </th>     <td> </td>    \n",
       "</tr>\n",
       "</table>\n",
       "<table class=\"simpletable\">\n",
       "<tr>\n",
       "                                <td></td>                                  <th>coef</th>     <th>std err</th>      <th>t</th>      <th>P>|t|</th>  <th>[0.025</th>    <th>0.975]</th>  \n",
       "</tr>\n",
       "<tr>\n",
       "  <th>elapsedDays</th>                                                  <td>  -18.2408</td> <td>    2.071</td> <td>   -8.809</td> <td> 0.000</td> <td>  -22.299</td> <td>  -14.182</td>\n",
       "</tr>\n",
       "<tr>\n",
       "  <th>isBasicEconomy</th>                                               <td>  -60.8402</td> <td>    1.537</td> <td>  -39.581</td> <td> 0.000</td> <td>  -63.853</td> <td>  -57.827</td>\n",
       "</tr>\n",
       "<tr>\n",
       "  <th>isRefundable</th>                                                 <td>-4.261e-09</td> <td> 3.15e-10</td> <td>  -13.513</td> <td> 0.000</td> <td>-4.88e-09</td> <td>-3.64e-09</td>\n",
       "</tr>\n",
       "<tr>\n",
       "  <th>isNonStop</th>                                                    <td>  230.2774</td> <td>   16.897</td> <td>   13.628</td> <td> 0.000</td> <td>  197.158</td> <td>  263.397</td>\n",
       "</tr>\n",
       "<tr>\n",
       "  <th>totalTravelDistance</th>                                          <td>   -0.1671</td> <td>    0.011</td> <td>  -15.315</td> <td> 0.000</td> <td>   -0.188</td> <td>   -0.146</td>\n",
       "</tr>\n",
       "<tr>\n",
       "  <th>segmentsDurationInSeconds</th>                                    <td>    0.0520</td> <td>    0.002</td> <td>   30.997</td> <td> 0.000</td> <td>    0.049</td> <td>    0.055</td>\n",
       "</tr>\n",
       "<tr>\n",
       "  <th>segmentsDistance</th>                                             <td>   -0.1671</td> <td>    0.011</td> <td>  -15.315</td> <td> 0.000</td> <td>   -0.188</td> <td>   -0.146</td>\n",
       "</tr>\n",
       "<tr>\n",
       "  <th>daysTillFlight</th>                                               <td>   -0.3142</td> <td>    0.029</td> <td>  -10.873</td> <td> 0.000</td> <td>   -0.371</td> <td>   -0.258</td>\n",
       "</tr>\n",
       "<tr>\n",
       "  <th>departureDayOfWeek</th>                                           <td>    2.0927</td> <td>    0.231</td> <td>    9.064</td> <td> 0.000</td> <td>    1.640</td> <td>    2.545</td>\n",
       "</tr>\n",
       "<tr>\n",
       "  <th>departureHour</th>                                                <td>    0.3150</td> <td>    0.127</td> <td>    2.476</td> <td> 0.013</td> <td>    0.066</td> <td>    0.564</td>\n",
       "</tr>\n",
       "<tr>\n",
       "  <th>startingAirport_LAX</th>                                          <td>  125.4479</td> <td>    8.757</td> <td>   14.325</td> <td> 0.000</td> <td>  108.283</td> <td>  142.613</td>\n",
       "</tr>\n",
       "<tr>\n",
       "  <th>startingAirport_SFO</th>                                          <td>  104.8294</td> <td>    8.182</td> <td>   12.812</td> <td> 0.000</td> <td>   88.791</td> <td>  120.868</td>\n",
       "</tr>\n",
       "<tr>\n",
       "  <th>destinationAirport_ATL</th>                                       <td>   -1.1017</td> <td>   28.808</td> <td>   -0.038</td> <td> 0.969</td> <td>  -57.568</td> <td>   55.364</td>\n",
       "</tr>\n",
       "<tr>\n",
       "  <th>destinationAirport_BOS</th>                                       <td>   25.6498</td> <td>   14.479</td> <td>    1.772</td> <td> 0.076</td> <td>   -2.730</td> <td>   54.030</td>\n",
       "</tr>\n",
       "<tr>\n",
       "  <th>destinationAirport_CLT</th>                                       <td>   56.3261</td> <td>   11.989</td> <td>    4.698</td> <td> 0.000</td> <td>   32.826</td> <td>   79.827</td>\n",
       "</tr>\n",
       "<tr>\n",
       "  <th>destinationAirport_DEN</th>                                       <td>  -14.5354</td> <td>   44.351</td> <td>   -0.328</td> <td> 0.743</td> <td> -101.468</td> <td>   72.397</td>\n",
       "</tr>\n",
       "<tr>\n",
       "  <th>destinationAirport_DFW</th>                                       <td>    2.9013</td> <td>   19.345</td> <td>    0.150</td> <td> 0.881</td> <td>  -35.016</td> <td>   40.819</td>\n",
       "</tr>\n",
       "<tr>\n",
       "  <th>destinationAirport_DTW</th>                                       <td>   61.1390</td> <td>   17.438</td> <td>    3.506</td> <td> 0.000</td> <td>   26.960</td> <td>   95.318</td>\n",
       "</tr>\n",
       "<tr>\n",
       "  <th>destinationAirport_EWR</th>                                       <td>   -0.8023</td> <td>   15.854</td> <td>   -0.051</td> <td> 0.960</td> <td>  -31.877</td> <td>   30.273</td>\n",
       "</tr>\n",
       "<tr>\n",
       "  <th>destinationAirport_IAD</th>                                       <td>   29.8283</td> <td>   17.636</td> <td>    1.691</td> <td> 0.091</td> <td>   -4.740</td> <td>   64.396</td>\n",
       "</tr>\n",
       "<tr>\n",
       "  <th>destinationAirport_JFK</th>                                       <td>   22.7780</td> <td>   10.126</td> <td>    2.250</td> <td> 0.024</td> <td>    2.931</td> <td>   42.626</td>\n",
       "</tr>\n",
       "<tr>\n",
       "  <th>destinationAirport_MIA</th>                                       <td>    0.0231</td> <td>   21.947</td> <td>    0.001</td> <td> 0.999</td> <td>  -42.995</td> <td>   43.041</td>\n",
       "</tr>\n",
       "<tr>\n",
       "  <th>destinationAirport_ORD</th>                                       <td>   16.4898</td> <td>    5.597</td> <td>    2.946</td> <td> 0.003</td> <td>    5.520</td> <td>   27.460</td>\n",
       "</tr>\n",
       "<tr>\n",
       "  <th>destinationAirport_PHL</th>                                       <td>   31.5814</td> <td>   17.543</td> <td>    1.800</td> <td> 0.072</td> <td>   -2.804</td> <td>   65.967</td>\n",
       "</tr>\n",
       "<tr>\n",
       "  <th>segmentsArrivalAirportCode_ATL</th>                               <td>   -1.1017</td> <td>   28.808</td> <td>   -0.038</td> <td> 0.969</td> <td>  -57.568</td> <td>   55.364</td>\n",
       "</tr>\n",
       "<tr>\n",
       "  <th>segmentsArrivalAirportCode_BOS</th>                               <td>   25.6498</td> <td>   14.479</td> <td>    1.772</td> <td> 0.076</td> <td>   -2.730</td> <td>   54.030</td>\n",
       "</tr>\n",
       "<tr>\n",
       "  <th>segmentsArrivalAirportCode_CLT</th>                               <td>   56.3261</td> <td>   11.989</td> <td>    4.698</td> <td> 0.000</td> <td>   32.826</td> <td>   79.827</td>\n",
       "</tr>\n",
       "<tr>\n",
       "  <th>segmentsArrivalAirportCode_DAL</th>                               <td>   -7.3615</td> <td>   15.288</td> <td>   -0.482</td> <td> 0.630</td> <td>  -37.328</td> <td>   22.605</td>\n",
       "</tr>\n",
       "<tr>\n",
       "  <th>segmentsArrivalAirportCode_DFW</th>                               <td>   -4.2727</td> <td>   15.283</td> <td>   -0.280</td> <td> 0.780</td> <td>  -34.228</td> <td>   25.683</td>\n",
       "</tr>\n",
       "<tr>\n",
       "  <th>segmentsArrivalAirportCode_DTW</th>                               <td>   61.1390</td> <td>   17.438</td> <td>    3.506</td> <td> 0.000</td> <td>   26.960</td> <td>   95.318</td>\n",
       "</tr>\n",
       "<tr>\n",
       "  <th>segmentsArrivalAirportCode_EWR</th>                               <td>   -0.8023</td> <td>   15.854</td> <td>   -0.051</td> <td> 0.960</td> <td>  -31.877</td> <td>   30.273</td>\n",
       "</tr>\n",
       "<tr>\n",
       "  <th>segmentsArrivalAirportCode_IAD</th>                               <td>   29.8283</td> <td>   17.636</td> <td>    1.691</td> <td> 0.091</td> <td>   -4.740</td> <td>   64.396</td>\n",
       "</tr>\n",
       "<tr>\n",
       "  <th>segmentsArrivalAirportCode_JFK</th>                               <td>   22.7780</td> <td>   10.126</td> <td>    2.250</td> <td> 0.024</td> <td>    2.931</td> <td>   42.626</td>\n",
       "</tr>\n",
       "<tr>\n",
       "  <th>segmentsArrivalAirportCode_MIA</th>                               <td>    0.0231</td> <td>   21.947</td> <td>    0.001</td> <td> 0.999</td> <td>  -42.995</td> <td>   43.041</td>\n",
       "</tr>\n",
       "<tr>\n",
       "  <th>segmentsArrivalAirportCode_ORD</th>                               <td>   16.4898</td> <td>    5.597</td> <td>    2.946</td> <td> 0.003</td> <td>    5.520</td> <td>   27.460</td>\n",
       "</tr>\n",
       "<tr>\n",
       "  <th>segmentsArrivalAirportCode_PHL</th>                               <td>   31.5814</td> <td>   17.543</td> <td>    1.800</td> <td> 0.072</td> <td>   -2.804</td> <td>   65.967</td>\n",
       "</tr>\n",
       "<tr>\n",
       "  <th>segmentsDepartureAirportCode_LAX</th>                             <td>   39.2120</td> <td>    5.087</td> <td>    7.708</td> <td> 0.000</td> <td>   29.241</td> <td>   49.183</td>\n",
       "</tr>\n",
       "<tr>\n",
       "  <th>segmentsDepartureAirportCode_ONT</th>                             <td>   86.2360</td> <td>    3.911</td> <td>   22.050</td> <td> 0.000</td> <td>   78.570</td> <td>   93.902</td>\n",
       "</tr>\n",
       "<tr>\n",
       "  <th>segmentsDepartureAirportCode_SFO</th>                             <td>  104.8294</td> <td>    8.182</td> <td>   12.812</td> <td> 0.000</td> <td>   88.791</td> <td>  120.868</td>\n",
       "</tr>\n",
       "<tr>\n",
       "  <th>segmentsAirlineCode_AA</th>                                       <td>  123.8721</td> <td>    9.375</td> <td>   13.213</td> <td> 0.000</td> <td>  105.496</td> <td>  142.248</td>\n",
       "</tr>\n",
       "<tr>\n",
       "  <th>segmentsAirlineCode_AS</th>                                       <td>   66.0895</td> <td>    9.908</td> <td>    6.671</td> <td> 0.000</td> <td>   46.670</td> <td>   85.509</td>\n",
       "</tr>\n",
       "<tr>\n",
       "  <th>segmentsAirlineCode_B6</th>                                       <td>  -44.7413</td> <td>   46.965</td> <td>   -0.953</td> <td> 0.341</td> <td> -136.798</td> <td>   47.315</td>\n",
       "</tr>\n",
       "<tr>\n",
       "  <th>segmentsAirlineCode_DL</th>                                       <td>   76.4356</td> <td>    9.853</td> <td>    7.758</td> <td> 0.000</td> <td>   57.123</td> <td>   95.748</td>\n",
       "</tr>\n",
       "<tr>\n",
       "  <th>segmentsAirlineCode_F9</th>                                       <td>  -97.4845</td> <td>    9.902</td> <td>   -9.845</td> <td> 0.000</td> <td> -116.893</td> <td>  -78.076</td>\n",
       "</tr>\n",
       "<tr>\n",
       "  <th>segmentsAirlineCode_UA</th>                                       <td>  106.1060</td> <td>    9.528</td> <td>   11.136</td> <td> 0.000</td> <td>   87.429</td> <td>  124.783</td>\n",
       "</tr>\n",
       "<tr>\n",
       "  <th>segmentsEquipmentDescription_AIRBUS INDUSTRIE A321 SHARKLETS</th> <td>   11.2684</td> <td>   10.727</td> <td>    1.050</td> <td> 0.294</td> <td>   -9.758</td> <td>   32.294</td>\n",
       "</tr>\n",
       "<tr>\n",
       "  <th>segmentsEquipmentDescription_Airbus A319</th>                     <td>  -38.7186</td> <td>    4.304</td> <td>   -8.997</td> <td> 0.000</td> <td>  -47.154</td> <td>  -30.283</td>\n",
       "</tr>\n",
       "<tr>\n",
       "  <th>segmentsEquipmentDescription_Airbus A319-321</th>                 <td>  -12.2887</td> <td>   56.513</td> <td>   -0.217</td> <td> 0.828</td> <td> -123.060</td> <td>   98.483</td>\n",
       "</tr>\n",
       "<tr>\n",
       "  <th>segmentsEquipmentDescription_Airbus A320</th>                     <td>   -3.9199</td> <td>    4.106</td> <td>   -0.955</td> <td> 0.340</td> <td>  -11.968</td> <td>    4.128</td>\n",
       "</tr>\n",
       "<tr>\n",
       "  <th>segmentsEquipmentDescription_Airbus A321</th>                     <td>   -1.6027</td> <td>    2.148</td> <td>   -0.746</td> <td> 0.456</td> <td>   -5.813</td> <td>    2.608</td>\n",
       "</tr>\n",
       "<tr>\n",
       "  <th>segmentsEquipmentDescription_BOEING 777-300ER</th>                <td>   -4.7226</td> <td>   10.354</td> <td>   -0.456</td> <td> 0.648</td> <td>  -25.018</td> <td>   15.573</td>\n",
       "</tr>\n",
       "<tr>\n",
       "  <th>segmentsEquipmentDescription_BOEING 787-9</th>                    <td>   48.1324</td> <td>    6.122</td> <td>    7.862</td> <td> 0.000</td> <td>   36.133</td> <td>   60.132</td>\n",
       "</tr>\n",
       "<tr>\n",
       "  <th>segmentsEquipmentDescription_Boeing 737 MAX 8</th>                <td>   20.1752</td> <td>   76.967</td> <td>    0.262</td> <td> 0.793</td> <td> -130.688</td> <td>  171.039</td>\n",
       "</tr>\n",
       "<tr>\n",
       "  <th>segmentsEquipmentDescription_Boeing 737 MAX 9</th>                <td>  -22.9110</td> <td>    3.861</td> <td>   -5.934</td> <td> 0.000</td> <td>  -30.479</td> <td>  -15.343</td>\n",
       "</tr>\n",
       "<tr>\n",
       "  <th>segmentsEquipmentDescription_Boeing 737-800</th>                  <td>   -2.3791</td> <td>    2.414</td> <td>   -0.986</td> <td> 0.324</td> <td>   -7.111</td> <td>    2.352</td>\n",
       "</tr>\n",
       "<tr>\n",
       "  <th>segmentsEquipmentDescription_Boeing 737-900</th>                  <td>   -8.4453</td> <td>    3.199</td> <td>   -2.640</td> <td> 0.008</td> <td>  -14.715</td> <td>   -2.176</td>\n",
       "</tr>\n",
       "<tr>\n",
       "  <th>segmentsEquipmentDescription_Boeing 757-200</th>                  <td>   72.1370</td> <td>   22.441</td> <td>    3.215</td> <td> 0.001</td> <td>   28.151</td> <td>  116.123</td>\n",
       "</tr>\n",
       "<tr>\n",
       "  <th>segmentsEquipmentDescription_Boeing 757-300</th>                  <td>   -2.5492</td> <td>    3.349</td> <td>   -0.761</td> <td> 0.447</td> <td>   -9.113</td> <td>    4.015</td>\n",
       "</tr>\n",
       "<tr>\n",
       "  <th>segmentsEquipmentDescription_Boeing 767</th>                      <td>   13.3366</td> <td>   61.559</td> <td>    0.217</td> <td> 0.828</td> <td> -107.326</td> <td>  133.999</td>\n",
       "</tr>\n",
       "<tr>\n",
       "  <th>segmentsEquipmentDescription_Boeing 767-300</th>                  <td>   22.4338</td> <td>   44.038</td> <td>    0.509</td> <td> 0.610</td> <td>  -63.885</td> <td>  108.752</td>\n",
       "</tr>\n",
       "<tr>\n",
       "  <th>segmentsEquipmentDescription_Boeing 777</th>                      <td>  -27.6928</td> <td>    4.222</td> <td>   -6.559</td> <td> 0.000</td> <td>  -35.968</td> <td>  -19.418</td>\n",
       "</tr>\n",
       "<tr>\n",
       "  <th>segmentsEquipmentDescription_Boeing 777-200</th>                  <td>  -18.3421</td> <td>   14.297</td> <td>   -1.283</td> <td> 0.200</td> <td>  -46.366</td> <td>    9.682</td>\n",
       "</tr>\n",
       "<tr>\n",
       "  <th>segmentsEquipmentDescription_Boeing 787-8</th>                    <td>   31.4613</td> <td>    4.295</td> <td>    7.325</td> <td> 0.000</td> <td>   23.042</td> <td>   39.880</td>\n",
       "</tr>\n",
       "<tr>\n",
       "  <th>segmentsEquipmentDescription_Embraer 175</th>                     <td>    3.4638</td> <td>   43.784</td> <td>    0.079</td> <td> 0.937</td> <td>  -82.356</td> <td>   89.284</td>\n",
       "</tr>\n",
       "<tr>\n",
       "  <th>segmentsCabinCode_business</th>                                   <td> -122.0136</td> <td>   36.161</td> <td>   -3.374</td> <td> 0.001</td> <td> -192.892</td> <td>  -51.135</td>\n",
       "</tr>\n",
       "<tr>\n",
       "  <th>segmentsCabinCode_coach</th>                                      <td> -345.9971</td> <td>   12.269</td> <td>  -28.201</td> <td> 0.000</td> <td> -370.046</td> <td> -321.949</td>\n",
       "</tr>\n",
       "<tr>\n",
       "  <th>segmentsCabinCode_first</th>                                      <td>  694.6478</td> <td>   25.376</td> <td>   27.375</td> <td> 0.000</td> <td>  644.909</td> <td>  744.386</td>\n",
       "</tr>\n",
       "<tr>\n",
       "  <th>segmentsCabinCode_premium coach</th>                              <td>    3.6403</td> <td>   13.052</td> <td>    0.279</td> <td> 0.780</td> <td>  -21.944</td> <td>   29.224</td>\n",
       "</tr>\n",
       "<tr>\n",
       "  <th>bookingClassCode_B</th>                                           <td>  210.3712</td> <td>    7.297</td> <td>   28.830</td> <td> 0.000</td> <td>  196.068</td> <td>  224.674</td>\n",
       "</tr>\n",
       "<tr>\n",
       "  <th>bookingClassCode_C</th>                                           <td>  131.3605</td> <td>   45.830</td> <td>    2.866</td> <td> 0.004</td> <td>   41.530</td> <td>  221.191</td>\n",
       "</tr>\n",
       "<tr>\n",
       "  <th>bookingClassCode_D</th>                                           <td>  -83.6968</td> <td>   11.012</td> <td>   -7.600</td> <td> 0.000</td> <td> -105.281</td> <td>  -62.112</td>\n",
       "</tr>\n",
       "<tr>\n",
       "  <th>bookingClassCode_E</th>                                           <td>  110.8792</td> <td>    6.735</td> <td>   16.464</td> <td> 0.000</td> <td>   97.679</td> <td>  124.080</td>\n",
       "</tr>\n",
       "<tr>\n",
       "  <th>bookingClassCode_G</th>                                           <td> -128.4055</td> <td>    6.007</td> <td>  -21.378</td> <td> 0.000</td> <td> -140.179</td> <td> -116.632</td>\n",
       "</tr>\n",
       "<tr>\n",
       "  <th>bookingClassCode_H</th>                                           <td>   30.3767</td> <td>    6.062</td> <td>    5.011</td> <td> 0.000</td> <td>   18.494</td> <td>   42.259</td>\n",
       "</tr>\n",
       "<tr>\n",
       "  <th>bookingClassCode_J</th>                                           <td>  441.2738</td> <td>   28.075</td> <td>   15.718</td> <td> 0.000</td> <td>  386.244</td> <td>  496.304</td>\n",
       "</tr>\n",
       "<tr>\n",
       "  <th>bookingClassCode_K</th>                                           <td>   11.7796</td> <td>    6.151</td> <td>    1.915</td> <td> 0.056</td> <td>   -0.278</td> <td>   23.837</td>\n",
       "</tr>\n",
       "<tr>\n",
       "  <th>bookingClassCode_L</th>                                           <td>  -82.8319</td> <td>    5.955</td> <td>  -13.909</td> <td> 0.000</td> <td>  -94.505</td> <td>  -71.159</td>\n",
       "</tr>\n",
       "<tr>\n",
       "  <th>bookingClassCode_M</th>                                           <td>   27.8632</td> <td>    6.008</td> <td>    4.637</td> <td> 0.000</td> <td>   16.086</td> <td>   39.640</td>\n",
       "</tr>\n",
       "<tr>\n",
       "  <th>bookingClassCode_N</th>                                           <td> -186.2395</td> <td>    6.241</td> <td>  -29.842</td> <td> 0.000</td> <td> -198.472</td> <td> -174.007</td>\n",
       "</tr>\n",
       "<tr>\n",
       "  <th>bookingClassCode_O</th>                                           <td> -209.5861</td> <td>   10.159</td> <td>  -20.631</td> <td> 0.000</td> <td> -229.498</td> <td> -189.674</td>\n",
       "</tr>\n",
       "<tr>\n",
       "  <th>bookingClassCode_P</th>                                           <td>  -73.8069</td> <td>   54.252</td> <td>   -1.360</td> <td> 0.174</td> <td> -180.145</td> <td>   32.531</td>\n",
       "</tr>\n",
       "<tr>\n",
       "  <th>bookingClassCode_Q</th>                                           <td>  -75.5908</td> <td>    6.067</td> <td>  -12.458</td> <td> 0.000</td> <td>  -87.484</td> <td>  -63.698</td>\n",
       "</tr>\n",
       "<tr>\n",
       "  <th>bookingClassCode_R</th>                                           <td>   90.2207</td> <td>   50.107</td> <td>    1.801</td> <td> 0.072</td> <td>   -7.993</td> <td>  188.435</td>\n",
       "</tr>\n",
       "<tr>\n",
       "  <th>bookingClassCode_S</th>                                           <td> -165.0311</td> <td>    5.976</td> <td>  -27.618</td> <td> 0.000</td> <td> -176.744</td> <td> -153.319</td>\n",
       "</tr>\n",
       "<tr>\n",
       "  <th>bookingClassCode_T</th>                                           <td> -162.7684</td> <td>    6.467</td> <td>  -25.168</td> <td> 0.000</td> <td> -175.445</td> <td> -150.092</td>\n",
       "</tr>\n",
       "<tr>\n",
       "  <th>bookingClassCode_U</th>                                           <td>   30.8101</td> <td>    6.331</td> <td>    4.866</td> <td> 0.000</td> <td>   18.400</td> <td>   43.220</td>\n",
       "</tr>\n",
       "<tr>\n",
       "  <th>bookingClassCode_V</th>                                           <td> -102.5203</td> <td>    5.932</td> <td>  -17.282</td> <td> 0.000</td> <td> -114.148</td> <td>  -90.893</td>\n",
       "</tr>\n",
       "<tr>\n",
       "  <th>bookingClassCode_W</th>                                           <td> -137.3535</td> <td>    6.283</td> <td>  -21.861</td> <td> 0.000</td> <td> -149.669</td> <td> -125.038</td>\n",
       "</tr>\n",
       "<tr>\n",
       "  <th>bookingClassCode_X</th>                                           <td> -100.3251</td> <td>    8.953</td> <td>  -11.206</td> <td> 0.000</td> <td> -117.873</td> <td>  -82.777</td>\n",
       "</tr>\n",
       "<tr>\n",
       "  <th>bookingClassCode_Y</th>                                           <td>  678.4542</td> <td>    9.544</td> <td>   71.084</td> <td> 0.000</td> <td>  659.746</td> <td>  697.162</td>\n",
       "</tr>\n",
       "<tr>\n",
       "  <th>bookingClassCode_Z</th>                                           <td>  -24.9558</td> <td>   65.020</td> <td>   -0.384</td> <td> 0.701</td> <td> -152.402</td> <td>  102.490</td>\n",
       "</tr>\n",
       "</table>\n",
       "<table class=\"simpletable\">\n",
       "<tr>\n",
       "  <th>Omnibus:</th>       <td>3032.462</td> <th>  Durbin-Watson:     </th> <td>   1.985</td> \n",
       "</tr>\n",
       "<tr>\n",
       "  <th>Prob(Omnibus):</th>  <td> 0.000</td>  <th>  Jarque-Bera (JB):  </th> <td>24224.390</td>\n",
       "</tr>\n",
       "<tr>\n",
       "  <th>Skew:</th>           <td> 0.588</td>  <th>  Prob(JB):          </th> <td>    0.00</td> \n",
       "</tr>\n",
       "<tr>\n",
       "  <th>Kurtosis:</th>       <td> 8.570</td>  <th>  Cond. No.          </th> <td>1.10e+16</td> \n",
       "</tr>\n",
       "</table><br/><br/>Notes:<br/>[1] Standard Errors assume that the covariance matrix of the errors is correctly specified.<br/>[2] The smallest eigenvalue is 2.76e-20. This might indicate that there are<br/>strong multicollinearity problems or that the design matrix is singular."
      ],
      "text/latex": [
       "\\begin{center}\n",
       "\\begin{tabular}{lclc}\n",
       "\\toprule\n",
       "\\textbf{Dep. Variable:}                                                &     baseFare     & \\textbf{  R-squared:         } &     0.814   \\\\\n",
       "\\textbf{Model:}                                                        &       OLS        & \\textbf{  Adj. R-squared:    } &     0.814   \\\\\n",
       "\\textbf{Method:}                                                       &  Least Squares   & \\textbf{  F-statistic:       } &     1137.   \\\\\n",
       "\\textbf{Date:}                                                         & Wed, 11 Dec 2024 & \\textbf{  Prob (F-statistic):} &     0.00    \\\\\n",
       "\\textbf{Time:}                                                         &     23:05:43     & \\textbf{  Log-Likelihood:    } &   -99307.   \\\\\n",
       "\\textbf{No. Observations:}                                             &       17940      & \\textbf{  AIC:               } & 1.988e+05   \\\\\n",
       "\\textbf{Df Residuals:}                                                 &       17870      & \\textbf{  BIC:               } & 1.993e+05   \\\\\n",
       "\\textbf{Df Model:}                                                     &          69      & \\textbf{                     } &             \\\\\n",
       "\\textbf{Covariance Type:}                                              &    nonrobust     & \\textbf{                     } &             \\\\\n",
       "\\bottomrule\n",
       "\\end{tabular}\n",
       "\\begin{tabular}{lcccccc}\n",
       "                                                                       & \\textbf{coef} & \\textbf{std err} & \\textbf{t} & \\textbf{P$> |$t$|$} & \\textbf{[0.025} & \\textbf{0.975]}  \\\\\n",
       "\\midrule\n",
       "\\textbf{elapsedDays}                                                   &     -18.2408  &        2.071     &    -8.809  &         0.000        &      -22.299    &      -14.182     \\\\\n",
       "\\textbf{isBasicEconomy}                                                &     -60.8402  &        1.537     &   -39.581  &         0.000        &      -63.853    &      -57.827     \\\\\n",
       "\\textbf{isRefundable}                                                  &   -4.261e-09  &     3.15e-10     &   -13.513  &         0.000        &    -4.88e-09    &    -3.64e-09     \\\\\n",
       "\\textbf{isNonStop}                                                     &     230.2774  &       16.897     &    13.628  &         0.000        &      197.158    &      263.397     \\\\\n",
       "\\textbf{totalTravelDistance}                                           &      -0.1671  &        0.011     &   -15.315  &         0.000        &       -0.188    &       -0.146     \\\\\n",
       "\\textbf{segmentsDurationInSeconds}                                     &       0.0520  &        0.002     &    30.997  &         0.000        &        0.049    &        0.055     \\\\\n",
       "\\textbf{segmentsDistance}                                              &      -0.1671  &        0.011     &   -15.315  &         0.000        &       -0.188    &       -0.146     \\\\\n",
       "\\textbf{daysTillFlight}                                                &      -0.3142  &        0.029     &   -10.873  &         0.000        &       -0.371    &       -0.258     \\\\\n",
       "\\textbf{departureDayOfWeek}                                            &       2.0927  &        0.231     &     9.064  &         0.000        &        1.640    &        2.545     \\\\\n",
       "\\textbf{departureHour}                                                 &       0.3150  &        0.127     &     2.476  &         0.013        &        0.066    &        0.564     \\\\\n",
       "\\textbf{startingAirport\\_LAX}                                          &     125.4479  &        8.757     &    14.325  &         0.000        &      108.283    &      142.613     \\\\\n",
       "\\textbf{startingAirport\\_SFO}                                          &     104.8294  &        8.182     &    12.812  &         0.000        &       88.791    &      120.868     \\\\\n",
       "\\textbf{destinationAirport\\_ATL}                                       &      -1.1017  &       28.808     &    -0.038  &         0.969        &      -57.568    &       55.364     \\\\\n",
       "\\textbf{destinationAirport\\_BOS}                                       &      25.6498  &       14.479     &     1.772  &         0.076        &       -2.730    &       54.030     \\\\\n",
       "\\textbf{destinationAirport\\_CLT}                                       &      56.3261  &       11.989     &     4.698  &         0.000        &       32.826    &       79.827     \\\\\n",
       "\\textbf{destinationAirport\\_DEN}                                       &     -14.5354  &       44.351     &    -0.328  &         0.743        &     -101.468    &       72.397     \\\\\n",
       "\\textbf{destinationAirport\\_DFW}                                       &       2.9013  &       19.345     &     0.150  &         0.881        &      -35.016    &       40.819     \\\\\n",
       "\\textbf{destinationAirport\\_DTW}                                       &      61.1390  &       17.438     &     3.506  &         0.000        &       26.960    &       95.318     \\\\\n",
       "\\textbf{destinationAirport\\_EWR}                                       &      -0.8023  &       15.854     &    -0.051  &         0.960        &      -31.877    &       30.273     \\\\\n",
       "\\textbf{destinationAirport\\_IAD}                                       &      29.8283  &       17.636     &     1.691  &         0.091        &       -4.740    &       64.396     \\\\\n",
       "\\textbf{destinationAirport\\_JFK}                                       &      22.7780  &       10.126     &     2.250  &         0.024        &        2.931    &       42.626     \\\\\n",
       "\\textbf{destinationAirport\\_MIA}                                       &       0.0231  &       21.947     &     0.001  &         0.999        &      -42.995    &       43.041     \\\\\n",
       "\\textbf{destinationAirport\\_ORD}                                       &      16.4898  &        5.597     &     2.946  &         0.003        &        5.520    &       27.460     \\\\\n",
       "\\textbf{destinationAirport\\_PHL}                                       &      31.5814  &       17.543     &     1.800  &         0.072        &       -2.804    &       65.967     \\\\\n",
       "\\textbf{segmentsArrivalAirportCode\\_ATL}                               &      -1.1017  &       28.808     &    -0.038  &         0.969        &      -57.568    &       55.364     \\\\\n",
       "\\textbf{segmentsArrivalAirportCode\\_BOS}                               &      25.6498  &       14.479     &     1.772  &         0.076        &       -2.730    &       54.030     \\\\\n",
       "\\textbf{segmentsArrivalAirportCode\\_CLT}                               &      56.3261  &       11.989     &     4.698  &         0.000        &       32.826    &       79.827     \\\\\n",
       "\\textbf{segmentsArrivalAirportCode\\_DAL}                               &      -7.3615  &       15.288     &    -0.482  &         0.630        &      -37.328    &       22.605     \\\\\n",
       "\\textbf{segmentsArrivalAirportCode\\_DFW}                               &      -4.2727  &       15.283     &    -0.280  &         0.780        &      -34.228    &       25.683     \\\\\n",
       "\\textbf{segmentsArrivalAirportCode\\_DTW}                               &      61.1390  &       17.438     &     3.506  &         0.000        &       26.960    &       95.318     \\\\\n",
       "\\textbf{segmentsArrivalAirportCode\\_EWR}                               &      -0.8023  &       15.854     &    -0.051  &         0.960        &      -31.877    &       30.273     \\\\\n",
       "\\textbf{segmentsArrivalAirportCode\\_IAD}                               &      29.8283  &       17.636     &     1.691  &         0.091        &       -4.740    &       64.396     \\\\\n",
       "\\textbf{segmentsArrivalAirportCode\\_JFK}                               &      22.7780  &       10.126     &     2.250  &         0.024        &        2.931    &       42.626     \\\\\n",
       "\\textbf{segmentsArrivalAirportCode\\_MIA}                               &       0.0231  &       21.947     &     0.001  &         0.999        &      -42.995    &       43.041     \\\\\n",
       "\\textbf{segmentsArrivalAirportCode\\_ORD}                               &      16.4898  &        5.597     &     2.946  &         0.003        &        5.520    &       27.460     \\\\\n",
       "\\textbf{segmentsArrivalAirportCode\\_PHL}                               &      31.5814  &       17.543     &     1.800  &         0.072        &       -2.804    &       65.967     \\\\\n",
       "\\textbf{segmentsDepartureAirportCode\\_LAX}                             &      39.2120  &        5.087     &     7.708  &         0.000        &       29.241    &       49.183     \\\\\n",
       "\\textbf{segmentsDepartureAirportCode\\_ONT}                             &      86.2360  &        3.911     &    22.050  &         0.000        &       78.570    &       93.902     \\\\\n",
       "\\textbf{segmentsDepartureAirportCode\\_SFO}                             &     104.8294  &        8.182     &    12.812  &         0.000        &       88.791    &      120.868     \\\\\n",
       "\\textbf{segmentsAirlineCode\\_AA}                                       &     123.8721  &        9.375     &    13.213  &         0.000        &      105.496    &      142.248     \\\\\n",
       "\\textbf{segmentsAirlineCode\\_AS}                                       &      66.0895  &        9.908     &     6.671  &         0.000        &       46.670    &       85.509     \\\\\n",
       "\\textbf{segmentsAirlineCode\\_B6}                                       &     -44.7413  &       46.965     &    -0.953  &         0.341        &     -136.798    &       47.315     \\\\\n",
       "\\textbf{segmentsAirlineCode\\_DL}                                       &      76.4356  &        9.853     &     7.758  &         0.000        &       57.123    &       95.748     \\\\\n",
       "\\textbf{segmentsAirlineCode\\_F9}                                       &     -97.4845  &        9.902     &    -9.845  &         0.000        &     -116.893    &      -78.076     \\\\\n",
       "\\textbf{segmentsAirlineCode\\_UA}                                       &     106.1060  &        9.528     &    11.136  &         0.000        &       87.429    &      124.783     \\\\\n",
       "\\textbf{segmentsEquipmentDescription\\_AIRBUS INDUSTRIE A321 SHARKLETS} &      11.2684  &       10.727     &     1.050  &         0.294        &       -9.758    &       32.294     \\\\\n",
       "\\textbf{segmentsEquipmentDescription\\_Airbus A319}                     &     -38.7186  &        4.304     &    -8.997  &         0.000        &      -47.154    &      -30.283     \\\\\n",
       "\\textbf{segmentsEquipmentDescription\\_Airbus A319-321}                 &     -12.2887  &       56.513     &    -0.217  &         0.828        &     -123.060    &       98.483     \\\\\n",
       "\\textbf{segmentsEquipmentDescription\\_Airbus A320}                     &      -3.9199  &        4.106     &    -0.955  &         0.340        &      -11.968    &        4.128     \\\\\n",
       "\\textbf{segmentsEquipmentDescription\\_Airbus A321}                     &      -1.6027  &        2.148     &    -0.746  &         0.456        &       -5.813    &        2.608     \\\\\n",
       "\\textbf{segmentsEquipmentDescription\\_BOEING 777-300ER}                &      -4.7226  &       10.354     &    -0.456  &         0.648        &      -25.018    &       15.573     \\\\\n",
       "\\textbf{segmentsEquipmentDescription\\_BOEING 787-9}                    &      48.1324  &        6.122     &     7.862  &         0.000        &       36.133    &       60.132     \\\\\n",
       "\\textbf{segmentsEquipmentDescription\\_Boeing 737 MAX 8}                &      20.1752  &       76.967     &     0.262  &         0.793        &     -130.688    &      171.039     \\\\\n",
       "\\textbf{segmentsEquipmentDescription\\_Boeing 737 MAX 9}                &     -22.9110  &        3.861     &    -5.934  &         0.000        &      -30.479    &      -15.343     \\\\\n",
       "\\textbf{segmentsEquipmentDescription\\_Boeing 737-800}                  &      -2.3791  &        2.414     &    -0.986  &         0.324        &       -7.111    &        2.352     \\\\\n",
       "\\textbf{segmentsEquipmentDescription\\_Boeing 737-900}                  &      -8.4453  &        3.199     &    -2.640  &         0.008        &      -14.715    &       -2.176     \\\\\n",
       "\\textbf{segmentsEquipmentDescription\\_Boeing 757-200}                  &      72.1370  &       22.441     &     3.215  &         0.001        &       28.151    &      116.123     \\\\\n",
       "\\textbf{segmentsEquipmentDescription\\_Boeing 757-300}                  &      -2.5492  &        3.349     &    -0.761  &         0.447        &       -9.113    &        4.015     \\\\\n",
       "\\textbf{segmentsEquipmentDescription\\_Boeing 767}                      &      13.3366  &       61.559     &     0.217  &         0.828        &     -107.326    &      133.999     \\\\\n",
       "\\textbf{segmentsEquipmentDescription\\_Boeing 767-300}                  &      22.4338  &       44.038     &     0.509  &         0.610        &      -63.885    &      108.752     \\\\\n",
       "\\textbf{segmentsEquipmentDescription\\_Boeing 777}                      &     -27.6928  &        4.222     &    -6.559  &         0.000        &      -35.968    &      -19.418     \\\\\n",
       "\\textbf{segmentsEquipmentDescription\\_Boeing 777-200}                  &     -18.3421  &       14.297     &    -1.283  &         0.200        &      -46.366    &        9.682     \\\\\n",
       "\\textbf{segmentsEquipmentDescription\\_Boeing 787-8}                    &      31.4613  &        4.295     &     7.325  &         0.000        &       23.042    &       39.880     \\\\\n",
       "\\textbf{segmentsEquipmentDescription\\_Embraer 175}                     &       3.4638  &       43.784     &     0.079  &         0.937        &      -82.356    &       89.284     \\\\\n",
       "\\textbf{segmentsCabinCode\\_business}                                   &    -122.0136  &       36.161     &    -3.374  &         0.001        &     -192.892    &      -51.135     \\\\\n",
       "\\textbf{segmentsCabinCode\\_coach}                                      &    -345.9971  &       12.269     &   -28.201  &         0.000        &     -370.046    &     -321.949     \\\\\n",
       "\\textbf{segmentsCabinCode\\_first}                                      &     694.6478  &       25.376     &    27.375  &         0.000        &      644.909    &      744.386     \\\\\n",
       "\\textbf{segmentsCabinCode\\_premium coach}                              &       3.6403  &       13.052     &     0.279  &         0.780        &      -21.944    &       29.224     \\\\\n",
       "\\textbf{bookingClassCode\\_B}                                           &     210.3712  &        7.297     &    28.830  &         0.000        &      196.068    &      224.674     \\\\\n",
       "\\textbf{bookingClassCode\\_C}                                           &     131.3605  &       45.830     &     2.866  &         0.004        &       41.530    &      221.191     \\\\\n",
       "\\textbf{bookingClassCode\\_D}                                           &     -83.6968  &       11.012     &    -7.600  &         0.000        &     -105.281    &      -62.112     \\\\\n",
       "\\textbf{bookingClassCode\\_E}                                           &     110.8792  &        6.735     &    16.464  &         0.000        &       97.679    &      124.080     \\\\\n",
       "\\textbf{bookingClassCode\\_G}                                           &    -128.4055  &        6.007     &   -21.378  &         0.000        &     -140.179    &     -116.632     \\\\\n",
       "\\textbf{bookingClassCode\\_H}                                           &      30.3767  &        6.062     &     5.011  &         0.000        &       18.494    &       42.259     \\\\\n",
       "\\textbf{bookingClassCode\\_J}                                           &     441.2738  &       28.075     &    15.718  &         0.000        &      386.244    &      496.304     \\\\\n",
       "\\textbf{bookingClassCode\\_K}                                           &      11.7796  &        6.151     &     1.915  &         0.056        &       -0.278    &       23.837     \\\\\n",
       "\\textbf{bookingClassCode\\_L}                                           &     -82.8319  &        5.955     &   -13.909  &         0.000        &      -94.505    &      -71.159     \\\\\n",
       "\\textbf{bookingClassCode\\_M}                                           &      27.8632  &        6.008     &     4.637  &         0.000        &       16.086    &       39.640     \\\\\n",
       "\\textbf{bookingClassCode\\_N}                                           &    -186.2395  &        6.241     &   -29.842  &         0.000        &     -198.472    &     -174.007     \\\\\n",
       "\\textbf{bookingClassCode\\_O}                                           &    -209.5861  &       10.159     &   -20.631  &         0.000        &     -229.498    &     -189.674     \\\\\n",
       "\\textbf{bookingClassCode\\_P}                                           &     -73.8069  &       54.252     &    -1.360  &         0.174        &     -180.145    &       32.531     \\\\\n",
       "\\textbf{bookingClassCode\\_Q}                                           &     -75.5908  &        6.067     &   -12.458  &         0.000        &      -87.484    &      -63.698     \\\\\n",
       "\\textbf{bookingClassCode\\_R}                                           &      90.2207  &       50.107     &     1.801  &         0.072        &       -7.993    &      188.435     \\\\\n",
       "\\textbf{bookingClassCode\\_S}                                           &    -165.0311  &        5.976     &   -27.618  &         0.000        &     -176.744    &     -153.319     \\\\\n",
       "\\textbf{bookingClassCode\\_T}                                           &    -162.7684  &        6.467     &   -25.168  &         0.000        &     -175.445    &     -150.092     \\\\\n",
       "\\textbf{bookingClassCode\\_U}                                           &      30.8101  &        6.331     &     4.866  &         0.000        &       18.400    &       43.220     \\\\\n",
       "\\textbf{bookingClassCode\\_V}                                           &    -102.5203  &        5.932     &   -17.282  &         0.000        &     -114.148    &      -90.893     \\\\\n",
       "\\textbf{bookingClassCode\\_W}                                           &    -137.3535  &        6.283     &   -21.861  &         0.000        &     -149.669    &     -125.038     \\\\\n",
       "\\textbf{bookingClassCode\\_X}                                           &    -100.3251  &        8.953     &   -11.206  &         0.000        &     -117.873    &      -82.777     \\\\\n",
       "\\textbf{bookingClassCode\\_Y}                                           &     678.4542  &        9.544     &    71.084  &         0.000        &      659.746    &      697.162     \\\\\n",
       "\\textbf{bookingClassCode\\_Z}                                           &     -24.9558  &       65.020     &    -0.384  &         0.701        &     -152.402    &      102.490     \\\\\n",
       "\\bottomrule\n",
       "\\end{tabular}\n",
       "\\begin{tabular}{lclc}\n",
       "\\textbf{Omnibus:}       & 3032.462 & \\textbf{  Durbin-Watson:     } &     1.985  \\\\\n",
       "\\textbf{Prob(Omnibus):} &   0.000  & \\textbf{  Jarque-Bera (JB):  } & 24224.390  \\\\\n",
       "\\textbf{Skew:}          &   0.588  & \\textbf{  Prob(JB):          } &      0.00  \\\\\n",
       "\\textbf{Kurtosis:}      &   8.570  & \\textbf{  Cond. No.          } &  1.10e+16  \\\\\n",
       "\\bottomrule\n",
       "\\end{tabular}\n",
       "%\\caption{OLS Regression Results}\n",
       "\\end{center}\n",
       "\n",
       "Notes: \\newline\n",
       " [1] Standard Errors assume that the covariance matrix of the errors is correctly specified. \\newline\n",
       " [2] The smallest eigenvalue is 2.76e-20. This might indicate that there are \\newline\n",
       " strong multicollinearity problems or that the design matrix is singular."
      ],
      "text/plain": [
       "<class 'statsmodels.iolib.summary.Summary'>\n",
       "\"\"\"\n",
       "                            OLS Regression Results                            \n",
       "==============================================================================\n",
       "Dep. Variable:               baseFare   R-squared:                       0.814\n",
       "Model:                            OLS   Adj. R-squared:                  0.814\n",
       "Method:                 Least Squares   F-statistic:                     1137.\n",
       "Date:                Wed, 11 Dec 2024   Prob (F-statistic):               0.00\n",
       "Time:                        23:05:43   Log-Likelihood:                -99307.\n",
       "No. Observations:               17940   AIC:                         1.988e+05\n",
       "Df Residuals:                   17870   BIC:                         1.993e+05\n",
       "Df Model:                          69                                         \n",
       "Covariance Type:            nonrobust                                         \n",
       "================================================================================================================================\n",
       "                                                                   coef    std err          t      P>|t|      [0.025      0.975]\n",
       "--------------------------------------------------------------------------------------------------------------------------------\n",
       "elapsedDays                                                    -18.2408      2.071     -8.809      0.000     -22.299     -14.182\n",
       "isBasicEconomy                                                 -60.8402      1.537    -39.581      0.000     -63.853     -57.827\n",
       "isRefundable                                                 -4.261e-09   3.15e-10    -13.513      0.000   -4.88e-09   -3.64e-09\n",
       "isNonStop                                                      230.2774     16.897     13.628      0.000     197.158     263.397\n",
       "totalTravelDistance                                             -0.1671      0.011    -15.315      0.000      -0.188      -0.146\n",
       "segmentsDurationInSeconds                                        0.0520      0.002     30.997      0.000       0.049       0.055\n",
       "segmentsDistance                                                -0.1671      0.011    -15.315      0.000      -0.188      -0.146\n",
       "daysTillFlight                                                  -0.3142      0.029    -10.873      0.000      -0.371      -0.258\n",
       "departureDayOfWeek                                               2.0927      0.231      9.064      0.000       1.640       2.545\n",
       "departureHour                                                    0.3150      0.127      2.476      0.013       0.066       0.564\n",
       "startingAirport_LAX                                            125.4479      8.757     14.325      0.000     108.283     142.613\n",
       "startingAirport_SFO                                            104.8294      8.182     12.812      0.000      88.791     120.868\n",
       "destinationAirport_ATL                                          -1.1017     28.808     -0.038      0.969     -57.568      55.364\n",
       "destinationAirport_BOS                                          25.6498     14.479      1.772      0.076      -2.730      54.030\n",
       "destinationAirport_CLT                                          56.3261     11.989      4.698      0.000      32.826      79.827\n",
       "destinationAirport_DEN                                         -14.5354     44.351     -0.328      0.743    -101.468      72.397\n",
       "destinationAirport_DFW                                           2.9013     19.345      0.150      0.881     -35.016      40.819\n",
       "destinationAirport_DTW                                          61.1390     17.438      3.506      0.000      26.960      95.318\n",
       "destinationAirport_EWR                                          -0.8023     15.854     -0.051      0.960     -31.877      30.273\n",
       "destinationAirport_IAD                                          29.8283     17.636      1.691      0.091      -4.740      64.396\n",
       "destinationAirport_JFK                                          22.7780     10.126      2.250      0.024       2.931      42.626\n",
       "destinationAirport_MIA                                           0.0231     21.947      0.001      0.999     -42.995      43.041\n",
       "destinationAirport_ORD                                          16.4898      5.597      2.946      0.003       5.520      27.460\n",
       "destinationAirport_PHL                                          31.5814     17.543      1.800      0.072      -2.804      65.967\n",
       "segmentsArrivalAirportCode_ATL                                  -1.1017     28.808     -0.038      0.969     -57.568      55.364\n",
       "segmentsArrivalAirportCode_BOS                                  25.6498     14.479      1.772      0.076      -2.730      54.030\n",
       "segmentsArrivalAirportCode_CLT                                  56.3261     11.989      4.698      0.000      32.826      79.827\n",
       "segmentsArrivalAirportCode_DAL                                  -7.3615     15.288     -0.482      0.630     -37.328      22.605\n",
       "segmentsArrivalAirportCode_DFW                                  -4.2727     15.283     -0.280      0.780     -34.228      25.683\n",
       "segmentsArrivalAirportCode_DTW                                  61.1390     17.438      3.506      0.000      26.960      95.318\n",
       "segmentsArrivalAirportCode_EWR                                  -0.8023     15.854     -0.051      0.960     -31.877      30.273\n",
       "segmentsArrivalAirportCode_IAD                                  29.8283     17.636      1.691      0.091      -4.740      64.396\n",
       "segmentsArrivalAirportCode_JFK                                  22.7780     10.126      2.250      0.024       2.931      42.626\n",
       "segmentsArrivalAirportCode_MIA                                   0.0231     21.947      0.001      0.999     -42.995      43.041\n",
       "segmentsArrivalAirportCode_ORD                                  16.4898      5.597      2.946      0.003       5.520      27.460\n",
       "segmentsArrivalAirportCode_PHL                                  31.5814     17.543      1.800      0.072      -2.804      65.967\n",
       "segmentsDepartureAirportCode_LAX                                39.2120      5.087      7.708      0.000      29.241      49.183\n",
       "segmentsDepartureAirportCode_ONT                                86.2360      3.911     22.050      0.000      78.570      93.902\n",
       "segmentsDepartureAirportCode_SFO                               104.8294      8.182     12.812      0.000      88.791     120.868\n",
       "segmentsAirlineCode_AA                                         123.8721      9.375     13.213      0.000     105.496     142.248\n",
       "segmentsAirlineCode_AS                                          66.0895      9.908      6.671      0.000      46.670      85.509\n",
       "segmentsAirlineCode_B6                                         -44.7413     46.965     -0.953      0.341    -136.798      47.315\n",
       "segmentsAirlineCode_DL                                          76.4356      9.853      7.758      0.000      57.123      95.748\n",
       "segmentsAirlineCode_F9                                         -97.4845      9.902     -9.845      0.000    -116.893     -78.076\n",
       "segmentsAirlineCode_UA                                         106.1060      9.528     11.136      0.000      87.429     124.783\n",
       "segmentsEquipmentDescription_AIRBUS INDUSTRIE A321 SHARKLETS    11.2684     10.727      1.050      0.294      -9.758      32.294\n",
       "segmentsEquipmentDescription_Airbus A319                       -38.7186      4.304     -8.997      0.000     -47.154     -30.283\n",
       "segmentsEquipmentDescription_Airbus A319-321                   -12.2887     56.513     -0.217      0.828    -123.060      98.483\n",
       "segmentsEquipmentDescription_Airbus A320                        -3.9199      4.106     -0.955      0.340     -11.968       4.128\n",
       "segmentsEquipmentDescription_Airbus A321                        -1.6027      2.148     -0.746      0.456      -5.813       2.608\n",
       "segmentsEquipmentDescription_BOEING 777-300ER                   -4.7226     10.354     -0.456      0.648     -25.018      15.573\n",
       "segmentsEquipmentDescription_BOEING 787-9                       48.1324      6.122      7.862      0.000      36.133      60.132\n",
       "segmentsEquipmentDescription_Boeing 737 MAX 8                   20.1752     76.967      0.262      0.793    -130.688     171.039\n",
       "segmentsEquipmentDescription_Boeing 737 MAX 9                  -22.9110      3.861     -5.934      0.000     -30.479     -15.343\n",
       "segmentsEquipmentDescription_Boeing 737-800                     -2.3791      2.414     -0.986      0.324      -7.111       2.352\n",
       "segmentsEquipmentDescription_Boeing 737-900                     -8.4453      3.199     -2.640      0.008     -14.715      -2.176\n",
       "segmentsEquipmentDescription_Boeing 757-200                     72.1370     22.441      3.215      0.001      28.151     116.123\n",
       "segmentsEquipmentDescription_Boeing 757-300                     -2.5492      3.349     -0.761      0.447      -9.113       4.015\n",
       "segmentsEquipmentDescription_Boeing 767                         13.3366     61.559      0.217      0.828    -107.326     133.999\n",
       "segmentsEquipmentDescription_Boeing 767-300                     22.4338     44.038      0.509      0.610     -63.885     108.752\n",
       "segmentsEquipmentDescription_Boeing 777                        -27.6928      4.222     -6.559      0.000     -35.968     -19.418\n",
       "segmentsEquipmentDescription_Boeing 777-200                    -18.3421     14.297     -1.283      0.200     -46.366       9.682\n",
       "segmentsEquipmentDescription_Boeing 787-8                       31.4613      4.295      7.325      0.000      23.042      39.880\n",
       "segmentsEquipmentDescription_Embraer 175                         3.4638     43.784      0.079      0.937     -82.356      89.284\n",
       "segmentsCabinCode_business                                    -122.0136     36.161     -3.374      0.001    -192.892     -51.135\n",
       "segmentsCabinCode_coach                                       -345.9971     12.269    -28.201      0.000    -370.046    -321.949\n",
       "segmentsCabinCode_first                                        694.6478     25.376     27.375      0.000     644.909     744.386\n",
       "segmentsCabinCode_premium coach                                  3.6403     13.052      0.279      0.780     -21.944      29.224\n",
       "bookingClassCode_B                                             210.3712      7.297     28.830      0.000     196.068     224.674\n",
       "bookingClassCode_C                                             131.3605     45.830      2.866      0.004      41.530     221.191\n",
       "bookingClassCode_D                                             -83.6968     11.012     -7.600      0.000    -105.281     -62.112\n",
       "bookingClassCode_E                                             110.8792      6.735     16.464      0.000      97.679     124.080\n",
       "bookingClassCode_G                                            -128.4055      6.007    -21.378      0.000    -140.179    -116.632\n",
       "bookingClassCode_H                                              30.3767      6.062      5.011      0.000      18.494      42.259\n",
       "bookingClassCode_J                                             441.2738     28.075     15.718      0.000     386.244     496.304\n",
       "bookingClassCode_K                                              11.7796      6.151      1.915      0.056      -0.278      23.837\n",
       "bookingClassCode_L                                             -82.8319      5.955    -13.909      0.000     -94.505     -71.159\n",
       "bookingClassCode_M                                              27.8632      6.008      4.637      0.000      16.086      39.640\n",
       "bookingClassCode_N                                            -186.2395      6.241    -29.842      0.000    -198.472    -174.007\n",
       "bookingClassCode_O                                            -209.5861     10.159    -20.631      0.000    -229.498    -189.674\n",
       "bookingClassCode_P                                             -73.8069     54.252     -1.360      0.174    -180.145      32.531\n",
       "bookingClassCode_Q                                             -75.5908      6.067    -12.458      0.000     -87.484     -63.698\n",
       "bookingClassCode_R                                              90.2207     50.107      1.801      0.072      -7.993     188.435\n",
       "bookingClassCode_S                                            -165.0311      5.976    -27.618      0.000    -176.744    -153.319\n",
       "bookingClassCode_T                                            -162.7684      6.467    -25.168      0.000    -175.445    -150.092\n",
       "bookingClassCode_U                                              30.8101      6.331      4.866      0.000      18.400      43.220\n",
       "bookingClassCode_V                                            -102.5203      5.932    -17.282      0.000    -114.148     -90.893\n",
       "bookingClassCode_W                                            -137.3535      6.283    -21.861      0.000    -149.669    -125.038\n",
       "bookingClassCode_X                                            -100.3251      8.953    -11.206      0.000    -117.873     -82.777\n",
       "bookingClassCode_Y                                             678.4542      9.544     71.084      0.000     659.746     697.162\n",
       "bookingClassCode_Z                                             -24.9558     65.020     -0.384      0.701    -152.402     102.490\n",
       "==============================================================================\n",
       "Omnibus:                     3032.462   Durbin-Watson:                   1.985\n",
       "Prob(Omnibus):                  0.000   Jarque-Bera (JB):            24224.390\n",
       "Skew:                           0.588   Prob(JB):                         0.00\n",
       "Kurtosis:                       8.570   Cond. No.                     1.10e+16\n",
       "==============================================================================\n",
       "\n",
       "Notes:\n",
       "[1] Standard Errors assume that the covariance matrix of the errors is correctly specified.\n",
       "[2] The smallest eigenvalue is 2.76e-20. This might indicate that there are\n",
       "strong multicollinearity problems or that the design matrix is singular.\n",
       "\"\"\""
      ]
     },
     "execution_count": 12,
     "metadata": {},
     "output_type": "execute_result"
    }
   ],
   "source": [
    "linreg_filtered_1 = sm.OLS(y_train, X_train_filtered_1).fit()\n",
    "linreg_filtered_1.summary()"
   ]
  },
  {
   "cell_type": "markdown",
   "metadata": {
    "cell_id": "0e9f174865224715aa719392b52525b0",
    "deepnote_cell_type": "markdown"
   },
   "source": [
    "Based on the p-values from our model summary of the filtered linear regression model, we can see that some of the categorical variables are not significant (> 0.05). We can remove them from the model"
   ]
  },
  {
   "cell_type": "code",
   "execution_count": 13,
   "metadata": {
    "cell_id": "f209dfe752154175b2e0059a95f8a529",
    "deepnote_cell_type": "code",
    "execution_context_id": "5e196466-4669-4eeb-abfe-723616e59df1",
    "execution_millis": 0,
    "execution_start": 1733958343336,
    "source_hash": "c6156f97"
   },
   "outputs": [],
   "source": [
    "# Grab features with p-values > 0.05\n",
    "features_to_remove_2 = linreg_filtered_1.pvalues[linreg_filtered_1.pvalues > 0.05].index.tolist()\n",
    "\n",
    "# Dropping insignificant continuous features\n",
    "X_train_filtered_2 = X_train.drop(columns=features_to_remove_1+features_to_remove_2)"
   ]
  },
  {
   "cell_type": "markdown",
   "metadata": {
    "cell_id": "1f167acbb702443587c36cca957794e6",
    "deepnote_cell_type": "markdown"
   },
   "source": [
    "## Filtered LinReg Model (Iteration 2)"
   ]
  },
  {
   "cell_type": "code",
   "execution_count": 14,
   "metadata": {
    "cell_id": "4df2ef0403ad43cf94a3af7fda3cecad",
    "deepnote_cell_type": "code",
    "execution_context_id": "5e196466-4669-4eeb-abfe-723616e59df1",
    "execution_millis": 337,
    "execution_start": 1733958343384,
    "source_hash": "81fd2acc"
   },
   "outputs": [
    {
     "data": {
      "text/html": [
       "<table class=\"simpletable\">\n",
       "<caption>OLS Regression Results</caption>\n",
       "<tr>\n",
       "  <th>Dep. Variable:</th>        <td>baseFare</td>     <th>  R-squared:         </th> <td>   0.814</td> \n",
       "</tr>\n",
       "<tr>\n",
       "  <th>Model:</th>                   <td>OLS</td>       <th>  Adj. R-squared:    </th> <td>   0.814</td> \n",
       "</tr>\n",
       "<tr>\n",
       "  <th>Method:</th>             <td>Least Squares</td>  <th>  F-statistic:       </th> <td>   1705.</td> \n",
       "</tr>\n",
       "<tr>\n",
       "  <th>Date:</th>             <td>Wed, 11 Dec 2024</td> <th>  Prob (F-statistic):</th>  <td>  0.00</td>  \n",
       "</tr>\n",
       "<tr>\n",
       "  <th>Time:</th>                 <td>23:05:43</td>     <th>  Log-Likelihood:    </th> <td> -99318.</td> \n",
       "</tr>\n",
       "<tr>\n",
       "  <th>No. Observations:</th>      <td> 17940</td>      <th>  AIC:               </th> <td>1.987e+05</td>\n",
       "</tr>\n",
       "<tr>\n",
       "  <th>Df Residuals:</th>          <td> 17893</td>      <th>  BIC:               </th> <td>1.991e+05</td>\n",
       "</tr>\n",
       "<tr>\n",
       "  <th>Df Model:</th>              <td>    46</td>      <th>                     </th>     <td> </td>    \n",
       "</tr>\n",
       "<tr>\n",
       "  <th>Covariance Type:</th>      <td>nonrobust</td>    <th>                     </th>     <td> </td>    \n",
       "</tr>\n",
       "</table>\n",
       "<table class=\"simpletable\">\n",
       "<tr>\n",
       "                        <td></td>                           <th>coef</th>     <th>std err</th>      <th>t</th>      <th>P>|t|</th>  <th>[0.025</th>    <th>0.975]</th>  \n",
       "</tr>\n",
       "<tr>\n",
       "  <th>elapsedDays</th>                                   <td>  -17.8794</td> <td>    2.031</td> <td>   -8.805</td> <td> 0.000</td> <td>  -21.860</td> <td>  -13.899</td>\n",
       "</tr>\n",
       "<tr>\n",
       "  <th>isBasicEconomy</th>                                <td>  -60.7594</td> <td>    1.521</td> <td>  -39.957</td> <td> 0.000</td> <td>  -63.740</td> <td>  -57.779</td>\n",
       "</tr>\n",
       "<tr>\n",
       "  <th>isRefundable</th>                                  <td> -1.22e-09</td> <td> 7.63e-11</td> <td>  -15.992</td> <td> 0.000</td> <td>-1.37e-09</td> <td>-1.07e-09</td>\n",
       "</tr>\n",
       "<tr>\n",
       "  <th>isNonStop</th>                                     <td>  191.8063</td> <td>   16.187</td> <td>   11.850</td> <td> 0.000</td> <td>  160.079</td> <td>  223.534</td>\n",
       "</tr>\n",
       "<tr>\n",
       "  <th>totalTravelDistance</th>                           <td>   -0.1566</td> <td>    0.007</td> <td>  -21.202</td> <td> 0.000</td> <td>   -0.171</td> <td>   -0.142</td>\n",
       "</tr>\n",
       "<tr>\n",
       "  <th>segmentsDurationInSeconds</th>                     <td>    0.0515</td> <td>    0.002</td> <td>   31.521</td> <td> 0.000</td> <td>    0.048</td> <td>    0.055</td>\n",
       "</tr>\n",
       "<tr>\n",
       "  <th>segmentsDistance</th>                              <td>   -0.1566</td> <td>    0.007</td> <td>  -21.202</td> <td> 0.000</td> <td>   -0.171</td> <td>   -0.142</td>\n",
       "</tr>\n",
       "<tr>\n",
       "  <th>daysTillFlight</th>                                <td>   -0.3102</td> <td>    0.029</td> <td>  -10.755</td> <td> 0.000</td> <td>   -0.367</td> <td>   -0.254</td>\n",
       "</tr>\n",
       "<tr>\n",
       "  <th>departureDayOfWeek</th>                            <td>    2.0923</td> <td>    0.231</td> <td>    9.069</td> <td> 0.000</td> <td>    1.640</td> <td>    2.545</td>\n",
       "</tr>\n",
       "<tr>\n",
       "  <th>departureHour</th>                                 <td>    0.3021</td> <td>    0.126</td> <td>    2.393</td> <td> 0.017</td> <td>    0.055</td> <td>    0.549</td>\n",
       "</tr>\n",
       "<tr>\n",
       "  <th>startingAirport_LAX</th>                           <td>  104.5043</td> <td>    8.882</td> <td>   11.766</td> <td> 0.000</td> <td>   87.095</td> <td>  121.914</td>\n",
       "</tr>\n",
       "<tr>\n",
       "  <th>startingAirport_SFO</th>                           <td>   87.3020</td> <td>    7.345</td> <td>   11.886</td> <td> 0.000</td> <td>   72.906</td> <td>  101.698</td>\n",
       "</tr>\n",
       "<tr>\n",
       "  <th>destinationAirport_CLT</th>                        <td>   49.2846</td> <td>   12.435</td> <td>    3.964</td> <td> 0.000</td> <td>   24.912</td> <td>   73.658</td>\n",
       "</tr>\n",
       "<tr>\n",
       "  <th>destinationAirport_DTW</th>                        <td>   56.3147</td> <td>   18.426</td> <td>    3.056</td> <td> 0.002</td> <td>   20.198</td> <td>   92.431</td>\n",
       "</tr>\n",
       "<tr>\n",
       "  <th>destinationAirport_JFK</th>                        <td>   18.1686</td> <td>    9.227</td> <td>    1.969</td> <td> 0.049</td> <td>    0.083</td> <td>   36.254</td>\n",
       "</tr>\n",
       "<tr>\n",
       "  <th>destinationAirport_ORD</th>                        <td>   13.0894</td> <td>    2.411</td> <td>    5.428</td> <td> 0.000</td> <td>    8.363</td> <td>   17.816</td>\n",
       "</tr>\n",
       "<tr>\n",
       "  <th>segmentsArrivalAirportCode_CLT</th>                <td>   49.2846</td> <td>   12.435</td> <td>    3.964</td> <td> 0.000</td> <td>   24.912</td> <td>   73.658</td>\n",
       "</tr>\n",
       "<tr>\n",
       "  <th>segmentsArrivalAirportCode_DTW</th>                <td>   56.3147</td> <td>   18.426</td> <td>    3.056</td> <td> 0.002</td> <td>   20.198</td> <td>   92.431</td>\n",
       "</tr>\n",
       "<tr>\n",
       "  <th>segmentsArrivalAirportCode_JFK</th>                <td>   18.1686</td> <td>    9.227</td> <td>    1.969</td> <td> 0.049</td> <td>    0.083</td> <td>   36.254</td>\n",
       "</tr>\n",
       "<tr>\n",
       "  <th>segmentsArrivalAirportCode_ORD</th>                <td>   13.0894</td> <td>    2.411</td> <td>    5.428</td> <td> 0.000</td> <td>    8.363</td> <td>   17.816</td>\n",
       "</tr>\n",
       "<tr>\n",
       "  <th>segmentsDepartureAirportCode_LAX</th>              <td>   28.2597</td> <td>    4.805</td> <td>    5.882</td> <td> 0.000</td> <td>   18.842</td> <td>   37.677</td>\n",
       "</tr>\n",
       "<tr>\n",
       "  <th>segmentsDepartureAirportCode_ONT</th>              <td>   76.2445</td> <td>    4.291</td> <td>   17.770</td> <td> 0.000</td> <td>   67.835</td> <td>   84.654</td>\n",
       "</tr>\n",
       "<tr>\n",
       "  <th>segmentsDepartureAirportCode_SFO</th>              <td>   87.3020</td> <td>    7.345</td> <td>   11.886</td> <td> 0.000</td> <td>   72.906</td> <td>  101.698</td>\n",
       "</tr>\n",
       "<tr>\n",
       "  <th>segmentsAirlineCode_AA</th>                        <td>  187.2474</td> <td>   22.001</td> <td>    8.511</td> <td> 0.000</td> <td>  144.124</td> <td>  230.371</td>\n",
       "</tr>\n",
       "<tr>\n",
       "  <th>segmentsAirlineCode_AS</th>                        <td>  127.5110</td> <td>   22.158</td> <td>    5.755</td> <td> 0.000</td> <td>   84.080</td> <td>  170.942</td>\n",
       "</tr>\n",
       "<tr>\n",
       "  <th>segmentsAirlineCode_DL</th>                        <td>  137.8127</td> <td>   22.192</td> <td>    6.210</td> <td> 0.000</td> <td>   94.314</td> <td>  181.311</td>\n",
       "</tr>\n",
       "<tr>\n",
       "  <th>segmentsAirlineCode_F9</th>                        <td>  -33.3803</td> <td>   22.173</td> <td>   -1.505</td> <td> 0.132</td> <td>  -76.841</td> <td>   10.080</td>\n",
       "</tr>\n",
       "<tr>\n",
       "  <th>segmentsAirlineCode_UA</th>                        <td>  168.9966</td> <td>   22.060</td> <td>    7.661</td> <td> 0.000</td> <td>  125.758</td> <td>  212.235</td>\n",
       "</tr>\n",
       "<tr>\n",
       "  <th>segmentsEquipmentDescription_Airbus A319</th>      <td>  -36.8991</td> <td>    3.411</td> <td>  -10.817</td> <td> 0.000</td> <td>  -43.585</td> <td>  -30.213</td>\n",
       "</tr>\n",
       "<tr>\n",
       "  <th>segmentsEquipmentDescription_BOEING 787-9</th>     <td>   50.3187</td> <td>    5.690</td> <td>    8.843</td> <td> 0.000</td> <td>   39.165</td> <td>   61.472</td>\n",
       "</tr>\n",
       "<tr>\n",
       "  <th>segmentsEquipmentDescription_Boeing 737 MAX 9</th> <td>  -20.8086</td> <td>    2.865</td> <td>   -7.264</td> <td> 0.000</td> <td>  -26.424</td> <td>  -15.193</td>\n",
       "</tr>\n",
       "<tr>\n",
       "  <th>segmentsEquipmentDescription_Boeing 737-900</th>   <td>   -5.7593</td> <td>    1.826</td> <td>   -3.154</td> <td> 0.002</td> <td>   -9.338</td> <td>   -2.181</td>\n",
       "</tr>\n",
       "<tr>\n",
       "  <th>segmentsEquipmentDescription_Boeing 757-200</th>   <td>   73.0993</td> <td>   21.056</td> <td>    3.472</td> <td> 0.001</td> <td>   31.827</td> <td>  114.372</td>\n",
       "</tr>\n",
       "<tr>\n",
       "  <th>segmentsEquipmentDescription_Boeing 777</th>       <td>  -24.8574</td> <td>    3.262</td> <td>   -7.620</td> <td> 0.000</td> <td>  -31.251</td> <td>  -18.463</td>\n",
       "</tr>\n",
       "<tr>\n",
       "  <th>segmentsEquipmentDescription_Boeing 787-8</th>     <td>   32.7662</td> <td>    3.792</td> <td>    8.641</td> <td> 0.000</td> <td>   25.333</td> <td>   40.199</td>\n",
       "</tr>\n",
       "<tr>\n",
       "  <th>segmentsCabinCode_business</th>                    <td> -128.9975</td> <td>   40.439</td> <td>   -3.190</td> <td> 0.001</td> <td> -208.261</td> <td>  -49.734</td>\n",
       "</tr>\n",
       "<tr>\n",
       "  <th>segmentsCabinCode_coach</th>                       <td> -350.7424</td> <td>    7.996</td> <td>  -43.862</td> <td> 0.000</td> <td> -366.416</td> <td> -335.068</td>\n",
       "</tr>\n",
       "<tr>\n",
       "  <th>segmentsCabinCode_first</th>                       <td>  686.4313</td> <td>   26.193</td> <td>   26.207</td> <td> 0.000</td> <td>  635.091</td> <td>  737.772</td>\n",
       "</tr>\n",
       "<tr>\n",
       "  <th>bookingClassCode_B</th>                            <td>  198.9296</td> <td>    5.101</td> <td>   38.997</td> <td> 0.000</td> <td>  188.931</td> <td>  208.928</td>\n",
       "</tr>\n",
       "<tr>\n",
       "  <th>bookingClassCode_C</th>                            <td>  124.0511</td> <td>   50.753</td> <td>    2.444</td> <td> 0.015</td> <td>   24.570</td> <td>  223.532</td>\n",
       "</tr>\n",
       "<tr>\n",
       "  <th>bookingClassCode_D</th>                            <td>  -95.0870</td> <td>   10.055</td> <td>   -9.457</td> <td> 0.000</td> <td> -114.795</td> <td>  -75.379</td>\n",
       "</tr>\n",
       "<tr>\n",
       "  <th>bookingClassCode_E</th>                            <td>   99.6510</td> <td>    4.208</td> <td>   23.683</td> <td> 0.000</td> <td>   91.404</td> <td>  107.898</td>\n",
       "</tr>\n",
       "<tr>\n",
       "  <th>bookingClassCode_G</th>                            <td> -140.1515</td> <td>    2.539</td> <td>  -55.193</td> <td> 0.000</td> <td> -145.129</td> <td> -135.174</td>\n",
       "</tr>\n",
       "<tr>\n",
       "  <th>bookingClassCode_H</th>                            <td>   18.7381</td> <td>    2.777</td> <td>    6.747</td> <td> 0.000</td> <td>   13.295</td> <td>   24.182</td>\n",
       "</tr>\n",
       "<tr>\n",
       "  <th>bookingClassCode_J</th>                            <td>  433.3827</td> <td>   26.214</td> <td>   16.532</td> <td> 0.000</td> <td>  382.001</td> <td>  484.765</td>\n",
       "</tr>\n",
       "<tr>\n",
       "  <th>bookingClassCode_L</th>                            <td>  -94.4136</td> <td>    2.448</td> <td>  -38.565</td> <td> 0.000</td> <td>  -99.212</td> <td>  -89.615</td>\n",
       "</tr>\n",
       "<tr>\n",
       "  <th>bookingClassCode_M</th>                            <td>   16.3330</td> <td>    2.650</td> <td>    6.164</td> <td> 0.000</td> <td>   11.140</td> <td>   21.527</td>\n",
       "</tr>\n",
       "<tr>\n",
       "  <th>bookingClassCode_N</th>                            <td> -198.2440</td> <td>    3.050</td> <td>  -65.000</td> <td> 0.000</td> <td> -204.222</td> <td> -192.266</td>\n",
       "</tr>\n",
       "<tr>\n",
       "  <th>bookingClassCode_O</th>                            <td> -222.0221</td> <td>    8.972</td> <td>  -24.745</td> <td> 0.000</td> <td> -239.609</td> <td> -204.435</td>\n",
       "</tr>\n",
       "<tr>\n",
       "  <th>bookingClassCode_Q</th>                            <td>  -87.4304</td> <td>    2.801</td> <td>  -31.217</td> <td> 0.000</td> <td>  -92.920</td> <td>  -81.941</td>\n",
       "</tr>\n",
       "<tr>\n",
       "  <th>bookingClassCode_S</th>                            <td> -176.8488</td> <td>    2.524</td> <td>  -70.076</td> <td> 0.000</td> <td> -181.795</td> <td> -171.902</td>\n",
       "</tr>\n",
       "<tr>\n",
       "  <th>bookingClassCode_T</th>                            <td> -174.5684</td> <td>    3.684</td> <td>  -47.387</td> <td> 0.000</td> <td> -181.789</td> <td> -167.348</td>\n",
       "</tr>\n",
       "<tr>\n",
       "  <th>bookingClassCode_U</th>                            <td>   19.3456</td> <td>    3.475</td> <td>    5.568</td> <td> 0.000</td> <td>   12.535</td> <td>   26.156</td>\n",
       "</tr>\n",
       "<tr>\n",
       "  <th>bookingClassCode_V</th>                            <td> -114.1159</td> <td>    2.376</td> <td>  -48.036</td> <td> 0.000</td> <td> -118.772</td> <td> -109.459</td>\n",
       "</tr>\n",
       "<tr>\n",
       "  <th>bookingClassCode_W</th>                            <td> -149.0647</td> <td>    3.301</td> <td>  -45.151</td> <td> 0.000</td> <td> -155.536</td> <td> -142.594</td>\n",
       "</tr>\n",
       "<tr>\n",
       "  <th>bookingClassCode_X</th>                            <td> -112.0448</td> <td>    7.358</td> <td>  -15.227</td> <td> 0.000</td> <td> -126.467</td> <td>  -97.622</td>\n",
       "</tr>\n",
       "<tr>\n",
       "  <th>bookingClassCode_Y</th>                            <td>  667.3155</td> <td>    8.181</td> <td>   81.571</td> <td> 0.000</td> <td>  651.280</td> <td>  683.351</td>\n",
       "</tr>\n",
       "</table>\n",
       "<table class=\"simpletable\">\n",
       "<tr>\n",
       "  <th>Omnibus:</th>       <td>3034.768</td> <th>  Durbin-Watson:     </th> <td>   1.984</td> \n",
       "</tr>\n",
       "<tr>\n",
       "  <th>Prob(Omnibus):</th>  <td> 0.000</td>  <th>  Jarque-Bera (JB):  </th> <td>24306.716</td>\n",
       "</tr>\n",
       "<tr>\n",
       "  <th>Skew:</th>           <td> 0.588</td>  <th>  Prob(JB):          </th> <td>    0.00</td> \n",
       "</tr>\n",
       "<tr>\n",
       "  <th>Kurtosis:</th>       <td> 8.580</td>  <th>  Cond. No.          </th> <td>1.10e+16</td> \n",
       "</tr>\n",
       "</table><br/><br/>Notes:<br/>[1] Standard Errors assume that the covariance matrix of the errors is correctly specified.<br/>[2] The smallest eigenvalue is 2.76e-20. This might indicate that there are<br/>strong multicollinearity problems or that the design matrix is singular."
      ],
      "text/latex": [
       "\\begin{center}\n",
       "\\begin{tabular}{lclc}\n",
       "\\toprule\n",
       "\\textbf{Dep. Variable:}                                 &     baseFare     & \\textbf{  R-squared:         } &     0.814   \\\\\n",
       "\\textbf{Model:}                                         &       OLS        & \\textbf{  Adj. R-squared:    } &     0.814   \\\\\n",
       "\\textbf{Method:}                                        &  Least Squares   & \\textbf{  F-statistic:       } &     1705.   \\\\\n",
       "\\textbf{Date:}                                          & Wed, 11 Dec 2024 & \\textbf{  Prob (F-statistic):} &     0.00    \\\\\n",
       "\\textbf{Time:}                                          &     23:05:43     & \\textbf{  Log-Likelihood:    } &   -99318.   \\\\\n",
       "\\textbf{No. Observations:}                              &       17940      & \\textbf{  AIC:               } & 1.987e+05   \\\\\n",
       "\\textbf{Df Residuals:}                                  &       17893      & \\textbf{  BIC:               } & 1.991e+05   \\\\\n",
       "\\textbf{Df Model:}                                      &          46      & \\textbf{                     } &             \\\\\n",
       "\\textbf{Covariance Type:}                               &    nonrobust     & \\textbf{                     } &             \\\\\n",
       "\\bottomrule\n",
       "\\end{tabular}\n",
       "\\begin{tabular}{lcccccc}\n",
       "                                                        & \\textbf{coef} & \\textbf{std err} & \\textbf{t} & \\textbf{P$> |$t$|$} & \\textbf{[0.025} & \\textbf{0.975]}  \\\\\n",
       "\\midrule\n",
       "\\textbf{elapsedDays}                                    &     -17.8794  &        2.031     &    -8.805  &         0.000        &      -21.860    &      -13.899     \\\\\n",
       "\\textbf{isBasicEconomy}                                 &     -60.7594  &        1.521     &   -39.957  &         0.000        &      -63.740    &      -57.779     \\\\\n",
       "\\textbf{isRefundable}                                   &    -1.22e-09  &     7.63e-11     &   -15.992  &         0.000        &    -1.37e-09    &    -1.07e-09     \\\\\n",
       "\\textbf{isNonStop}                                      &     191.8063  &       16.187     &    11.850  &         0.000        &      160.079    &      223.534     \\\\\n",
       "\\textbf{totalTravelDistance}                            &      -0.1566  &        0.007     &   -21.202  &         0.000        &       -0.171    &       -0.142     \\\\\n",
       "\\textbf{segmentsDurationInSeconds}                      &       0.0515  &        0.002     &    31.521  &         0.000        &        0.048    &        0.055     \\\\\n",
       "\\textbf{segmentsDistance}                               &      -0.1566  &        0.007     &   -21.202  &         0.000        &       -0.171    &       -0.142     \\\\\n",
       "\\textbf{daysTillFlight}                                 &      -0.3102  &        0.029     &   -10.755  &         0.000        &       -0.367    &       -0.254     \\\\\n",
       "\\textbf{departureDayOfWeek}                             &       2.0923  &        0.231     &     9.069  &         0.000        &        1.640    &        2.545     \\\\\n",
       "\\textbf{departureHour}                                  &       0.3021  &        0.126     &     2.393  &         0.017        &        0.055    &        0.549     \\\\\n",
       "\\textbf{startingAirport\\_LAX}                           &     104.5043  &        8.882     &    11.766  &         0.000        &       87.095    &      121.914     \\\\\n",
       "\\textbf{startingAirport\\_SFO}                           &      87.3020  &        7.345     &    11.886  &         0.000        &       72.906    &      101.698     \\\\\n",
       "\\textbf{destinationAirport\\_CLT}                        &      49.2846  &       12.435     &     3.964  &         0.000        &       24.912    &       73.658     \\\\\n",
       "\\textbf{destinationAirport\\_DTW}                        &      56.3147  &       18.426     &     3.056  &         0.002        &       20.198    &       92.431     \\\\\n",
       "\\textbf{destinationAirport\\_JFK}                        &      18.1686  &        9.227     &     1.969  &         0.049        &        0.083    &       36.254     \\\\\n",
       "\\textbf{destinationAirport\\_ORD}                        &      13.0894  &        2.411     &     5.428  &         0.000        &        8.363    &       17.816     \\\\\n",
       "\\textbf{segmentsArrivalAirportCode\\_CLT}                &      49.2846  &       12.435     &     3.964  &         0.000        &       24.912    &       73.658     \\\\\n",
       "\\textbf{segmentsArrivalAirportCode\\_DTW}                &      56.3147  &       18.426     &     3.056  &         0.002        &       20.198    &       92.431     \\\\\n",
       "\\textbf{segmentsArrivalAirportCode\\_JFK}                &      18.1686  &        9.227     &     1.969  &         0.049        &        0.083    &       36.254     \\\\\n",
       "\\textbf{segmentsArrivalAirportCode\\_ORD}                &      13.0894  &        2.411     &     5.428  &         0.000        &        8.363    &       17.816     \\\\\n",
       "\\textbf{segmentsDepartureAirportCode\\_LAX}              &      28.2597  &        4.805     &     5.882  &         0.000        &       18.842    &       37.677     \\\\\n",
       "\\textbf{segmentsDepartureAirportCode\\_ONT}              &      76.2445  &        4.291     &    17.770  &         0.000        &       67.835    &       84.654     \\\\\n",
       "\\textbf{segmentsDepartureAirportCode\\_SFO}              &      87.3020  &        7.345     &    11.886  &         0.000        &       72.906    &      101.698     \\\\\n",
       "\\textbf{segmentsAirlineCode\\_AA}                        &     187.2474  &       22.001     &     8.511  &         0.000        &      144.124    &      230.371     \\\\\n",
       "\\textbf{segmentsAirlineCode\\_AS}                        &     127.5110  &       22.158     &     5.755  &         0.000        &       84.080    &      170.942     \\\\\n",
       "\\textbf{segmentsAirlineCode\\_DL}                        &     137.8127  &       22.192     &     6.210  &         0.000        &       94.314    &      181.311     \\\\\n",
       "\\textbf{segmentsAirlineCode\\_F9}                        &     -33.3803  &       22.173     &    -1.505  &         0.132        &      -76.841    &       10.080     \\\\\n",
       "\\textbf{segmentsAirlineCode\\_UA}                        &     168.9966  &       22.060     &     7.661  &         0.000        &      125.758    &      212.235     \\\\\n",
       "\\textbf{segmentsEquipmentDescription\\_Airbus A319}      &     -36.8991  &        3.411     &   -10.817  &         0.000        &      -43.585    &      -30.213     \\\\\n",
       "\\textbf{segmentsEquipmentDescription\\_BOEING 787-9}     &      50.3187  &        5.690     &     8.843  &         0.000        &       39.165    &       61.472     \\\\\n",
       "\\textbf{segmentsEquipmentDescription\\_Boeing 737 MAX 9} &     -20.8086  &        2.865     &    -7.264  &         0.000        &      -26.424    &      -15.193     \\\\\n",
       "\\textbf{segmentsEquipmentDescription\\_Boeing 737-900}   &      -5.7593  &        1.826     &    -3.154  &         0.002        &       -9.338    &       -2.181     \\\\\n",
       "\\textbf{segmentsEquipmentDescription\\_Boeing 757-200}   &      73.0993  &       21.056     &     3.472  &         0.001        &       31.827    &      114.372     \\\\\n",
       "\\textbf{segmentsEquipmentDescription\\_Boeing 777}       &     -24.8574  &        3.262     &    -7.620  &         0.000        &      -31.251    &      -18.463     \\\\\n",
       "\\textbf{segmentsEquipmentDescription\\_Boeing 787-8}     &      32.7662  &        3.792     &     8.641  &         0.000        &       25.333    &       40.199     \\\\\n",
       "\\textbf{segmentsCabinCode\\_business}                    &    -128.9975  &       40.439     &    -3.190  &         0.001        &     -208.261    &      -49.734     \\\\\n",
       "\\textbf{segmentsCabinCode\\_coach}                       &    -350.7424  &        7.996     &   -43.862  &         0.000        &     -366.416    &     -335.068     \\\\\n",
       "\\textbf{segmentsCabinCode\\_first}                       &     686.4313  &       26.193     &    26.207  &         0.000        &      635.091    &      737.772     \\\\\n",
       "\\textbf{bookingClassCode\\_B}                            &     198.9296  &        5.101     &    38.997  &         0.000        &      188.931    &      208.928     \\\\\n",
       "\\textbf{bookingClassCode\\_C}                            &     124.0511  &       50.753     &     2.444  &         0.015        &       24.570    &      223.532     \\\\\n",
       "\\textbf{bookingClassCode\\_D}                            &     -95.0870  &       10.055     &    -9.457  &         0.000        &     -114.795    &      -75.379     \\\\\n",
       "\\textbf{bookingClassCode\\_E}                            &      99.6510  &        4.208     &    23.683  &         0.000        &       91.404    &      107.898     \\\\\n",
       "\\textbf{bookingClassCode\\_G}                            &    -140.1515  &        2.539     &   -55.193  &         0.000        &     -145.129    &     -135.174     \\\\\n",
       "\\textbf{bookingClassCode\\_H}                            &      18.7381  &        2.777     &     6.747  &         0.000        &       13.295    &       24.182     \\\\\n",
       "\\textbf{bookingClassCode\\_J}                            &     433.3827  &       26.214     &    16.532  &         0.000        &      382.001    &      484.765     \\\\\n",
       "\\textbf{bookingClassCode\\_L}                            &     -94.4136  &        2.448     &   -38.565  &         0.000        &      -99.212    &      -89.615     \\\\\n",
       "\\textbf{bookingClassCode\\_M}                            &      16.3330  &        2.650     &     6.164  &         0.000        &       11.140    &       21.527     \\\\\n",
       "\\textbf{bookingClassCode\\_N}                            &    -198.2440  &        3.050     &   -65.000  &         0.000        &     -204.222    &     -192.266     \\\\\n",
       "\\textbf{bookingClassCode\\_O}                            &    -222.0221  &        8.972     &   -24.745  &         0.000        &     -239.609    &     -204.435     \\\\\n",
       "\\textbf{bookingClassCode\\_Q}                            &     -87.4304  &        2.801     &   -31.217  &         0.000        &      -92.920    &      -81.941     \\\\\n",
       "\\textbf{bookingClassCode\\_S}                            &    -176.8488  &        2.524     &   -70.076  &         0.000        &     -181.795    &     -171.902     \\\\\n",
       "\\textbf{bookingClassCode\\_T}                            &    -174.5684  &        3.684     &   -47.387  &         0.000        &     -181.789    &     -167.348     \\\\\n",
       "\\textbf{bookingClassCode\\_U}                            &      19.3456  &        3.475     &     5.568  &         0.000        &       12.535    &       26.156     \\\\\n",
       "\\textbf{bookingClassCode\\_V}                            &    -114.1159  &        2.376     &   -48.036  &         0.000        &     -118.772    &     -109.459     \\\\\n",
       "\\textbf{bookingClassCode\\_W}                            &    -149.0647  &        3.301     &   -45.151  &         0.000        &     -155.536    &     -142.594     \\\\\n",
       "\\textbf{bookingClassCode\\_X}                            &    -112.0448  &        7.358     &   -15.227  &         0.000        &     -126.467    &      -97.622     \\\\\n",
       "\\textbf{bookingClassCode\\_Y}                            &     667.3155  &        8.181     &    81.571  &         0.000        &      651.280    &      683.351     \\\\\n",
       "\\bottomrule\n",
       "\\end{tabular}\n",
       "\\begin{tabular}{lclc}\n",
       "\\textbf{Omnibus:}       & 3034.768 & \\textbf{  Durbin-Watson:     } &     1.984  \\\\\n",
       "\\textbf{Prob(Omnibus):} &   0.000  & \\textbf{  Jarque-Bera (JB):  } & 24306.716  \\\\\n",
       "\\textbf{Skew:}          &   0.588  & \\textbf{  Prob(JB):          } &      0.00  \\\\\n",
       "\\textbf{Kurtosis:}      &   8.580  & \\textbf{  Cond. No.          } &  1.10e+16  \\\\\n",
       "\\bottomrule\n",
       "\\end{tabular}\n",
       "%\\caption{OLS Regression Results}\n",
       "\\end{center}\n",
       "\n",
       "Notes: \\newline\n",
       " [1] Standard Errors assume that the covariance matrix of the errors is correctly specified. \\newline\n",
       " [2] The smallest eigenvalue is 2.76e-20. This might indicate that there are \\newline\n",
       " strong multicollinearity problems or that the design matrix is singular."
      ],
      "text/plain": [
       "<class 'statsmodels.iolib.summary.Summary'>\n",
       "\"\"\"\n",
       "                            OLS Regression Results                            \n",
       "==============================================================================\n",
       "Dep. Variable:               baseFare   R-squared:                       0.814\n",
       "Model:                            OLS   Adj. R-squared:                  0.814\n",
       "Method:                 Least Squares   F-statistic:                     1705.\n",
       "Date:                Wed, 11 Dec 2024   Prob (F-statistic):               0.00\n",
       "Time:                        23:05:43   Log-Likelihood:                -99318.\n",
       "No. Observations:               17940   AIC:                         1.987e+05\n",
       "Df Residuals:                   17893   BIC:                         1.991e+05\n",
       "Df Model:                          46                                         \n",
       "Covariance Type:            nonrobust                                         \n",
       "=================================================================================================================\n",
       "                                                    coef    std err          t      P>|t|      [0.025      0.975]\n",
       "-----------------------------------------------------------------------------------------------------------------\n",
       "elapsedDays                                     -17.8794      2.031     -8.805      0.000     -21.860     -13.899\n",
       "isBasicEconomy                                  -60.7594      1.521    -39.957      0.000     -63.740     -57.779\n",
       "isRefundable                                   -1.22e-09   7.63e-11    -15.992      0.000   -1.37e-09   -1.07e-09\n",
       "isNonStop                                       191.8063     16.187     11.850      0.000     160.079     223.534\n",
       "totalTravelDistance                              -0.1566      0.007    -21.202      0.000      -0.171      -0.142\n",
       "segmentsDurationInSeconds                         0.0515      0.002     31.521      0.000       0.048       0.055\n",
       "segmentsDistance                                 -0.1566      0.007    -21.202      0.000      -0.171      -0.142\n",
       "daysTillFlight                                   -0.3102      0.029    -10.755      0.000      -0.367      -0.254\n",
       "departureDayOfWeek                                2.0923      0.231      9.069      0.000       1.640       2.545\n",
       "departureHour                                     0.3021      0.126      2.393      0.017       0.055       0.549\n",
       "startingAirport_LAX                             104.5043      8.882     11.766      0.000      87.095     121.914\n",
       "startingAirport_SFO                              87.3020      7.345     11.886      0.000      72.906     101.698\n",
       "destinationAirport_CLT                           49.2846     12.435      3.964      0.000      24.912      73.658\n",
       "destinationAirport_DTW                           56.3147     18.426      3.056      0.002      20.198      92.431\n",
       "destinationAirport_JFK                           18.1686      9.227      1.969      0.049       0.083      36.254\n",
       "destinationAirport_ORD                           13.0894      2.411      5.428      0.000       8.363      17.816\n",
       "segmentsArrivalAirportCode_CLT                   49.2846     12.435      3.964      0.000      24.912      73.658\n",
       "segmentsArrivalAirportCode_DTW                   56.3147     18.426      3.056      0.002      20.198      92.431\n",
       "segmentsArrivalAirportCode_JFK                   18.1686      9.227      1.969      0.049       0.083      36.254\n",
       "segmentsArrivalAirportCode_ORD                   13.0894      2.411      5.428      0.000       8.363      17.816\n",
       "segmentsDepartureAirportCode_LAX                 28.2597      4.805      5.882      0.000      18.842      37.677\n",
       "segmentsDepartureAirportCode_ONT                 76.2445      4.291     17.770      0.000      67.835      84.654\n",
       "segmentsDepartureAirportCode_SFO                 87.3020      7.345     11.886      0.000      72.906     101.698\n",
       "segmentsAirlineCode_AA                          187.2474     22.001      8.511      0.000     144.124     230.371\n",
       "segmentsAirlineCode_AS                          127.5110     22.158      5.755      0.000      84.080     170.942\n",
       "segmentsAirlineCode_DL                          137.8127     22.192      6.210      0.000      94.314     181.311\n",
       "segmentsAirlineCode_F9                          -33.3803     22.173     -1.505      0.132     -76.841      10.080\n",
       "segmentsAirlineCode_UA                          168.9966     22.060      7.661      0.000     125.758     212.235\n",
       "segmentsEquipmentDescription_Airbus A319        -36.8991      3.411    -10.817      0.000     -43.585     -30.213\n",
       "segmentsEquipmentDescription_BOEING 787-9        50.3187      5.690      8.843      0.000      39.165      61.472\n",
       "segmentsEquipmentDescription_Boeing 737 MAX 9   -20.8086      2.865     -7.264      0.000     -26.424     -15.193\n",
       "segmentsEquipmentDescription_Boeing 737-900      -5.7593      1.826     -3.154      0.002      -9.338      -2.181\n",
       "segmentsEquipmentDescription_Boeing 757-200      73.0993     21.056      3.472      0.001      31.827     114.372\n",
       "segmentsEquipmentDescription_Boeing 777         -24.8574      3.262     -7.620      0.000     -31.251     -18.463\n",
       "segmentsEquipmentDescription_Boeing 787-8        32.7662      3.792      8.641      0.000      25.333      40.199\n",
       "segmentsCabinCode_business                     -128.9975     40.439     -3.190      0.001    -208.261     -49.734\n",
       "segmentsCabinCode_coach                        -350.7424      7.996    -43.862      0.000    -366.416    -335.068\n",
       "segmentsCabinCode_first                         686.4313     26.193     26.207      0.000     635.091     737.772\n",
       "bookingClassCode_B                              198.9296      5.101     38.997      0.000     188.931     208.928\n",
       "bookingClassCode_C                              124.0511     50.753      2.444      0.015      24.570     223.532\n",
       "bookingClassCode_D                              -95.0870     10.055     -9.457      0.000    -114.795     -75.379\n",
       "bookingClassCode_E                               99.6510      4.208     23.683      0.000      91.404     107.898\n",
       "bookingClassCode_G                             -140.1515      2.539    -55.193      0.000    -145.129    -135.174\n",
       "bookingClassCode_H                               18.7381      2.777      6.747      0.000      13.295      24.182\n",
       "bookingClassCode_J                              433.3827     26.214     16.532      0.000     382.001     484.765\n",
       "bookingClassCode_L                              -94.4136      2.448    -38.565      0.000     -99.212     -89.615\n",
       "bookingClassCode_M                               16.3330      2.650      6.164      0.000      11.140      21.527\n",
       "bookingClassCode_N                             -198.2440      3.050    -65.000      0.000    -204.222    -192.266\n",
       "bookingClassCode_O                             -222.0221      8.972    -24.745      0.000    -239.609    -204.435\n",
       "bookingClassCode_Q                              -87.4304      2.801    -31.217      0.000     -92.920     -81.941\n",
       "bookingClassCode_S                             -176.8488      2.524    -70.076      0.000    -181.795    -171.902\n",
       "bookingClassCode_T                             -174.5684      3.684    -47.387      0.000    -181.789    -167.348\n",
       "bookingClassCode_U                               19.3456      3.475      5.568      0.000      12.535      26.156\n",
       "bookingClassCode_V                             -114.1159      2.376    -48.036      0.000    -118.772    -109.459\n",
       "bookingClassCode_W                             -149.0647      3.301    -45.151      0.000    -155.536    -142.594\n",
       "bookingClassCode_X                             -112.0448      7.358    -15.227      0.000    -126.467     -97.622\n",
       "bookingClassCode_Y                              667.3155      8.181     81.571      0.000     651.280     683.351\n",
       "==============================================================================\n",
       "Omnibus:                     3034.768   Durbin-Watson:                   1.984\n",
       "Prob(Omnibus):                  0.000   Jarque-Bera (JB):            24306.716\n",
       "Skew:                           0.588   Prob(JB):                         0.00\n",
       "Kurtosis:                       8.580   Cond. No.                     1.10e+16\n",
       "==============================================================================\n",
       "\n",
       "Notes:\n",
       "[1] Standard Errors assume that the covariance matrix of the errors is correctly specified.\n",
       "[2] The smallest eigenvalue is 2.76e-20. This might indicate that there are\n",
       "strong multicollinearity problems or that the design matrix is singular.\n",
       "\"\"\""
      ]
     },
     "execution_count": 14,
     "metadata": {},
     "output_type": "execute_result"
    }
   ],
   "source": [
    "linreg_filtered_2 = sm.OLS(y_train, X_train_filtered_2).fit()\n",
    "linreg_filtered_2.summary()"
   ]
  },
  {
   "cell_type": "markdown",
   "metadata": {
    "cell_id": "2f1e186e64c743939d3b766f946943a8",
    "deepnote_cell_type": "markdown"
   },
   "source": [
    "We can see that more categorical variables are not significant (> 0.05). We can remove them from the model one last time!"
   ]
  },
  {
   "cell_type": "code",
   "execution_count": 15,
   "metadata": {
    "cell_id": "00be91bd958b4a9c84eb819685dde595",
    "deepnote_cell_type": "code",
    "execution_context_id": "5e196466-4669-4eeb-abfe-723616e59df1",
    "execution_millis": 1,
    "execution_start": 1733958343763,
    "source_hash": "ec3b9bbe"
   },
   "outputs": [],
   "source": [
    "# Grab features with p-values > 0.05 (again)\n",
    "features_to_remove_3 = linreg_filtered_2.pvalues[linreg_filtered_2.pvalues > 0.05].index.tolist()\n",
    "\n",
    "# Dropping insignificant categorical features (again)\n",
    "X_train_filtered_3 = X_train.drop(columns=features_to_remove_1+features_to_remove_2+features_to_remove_3)"
   ]
  },
  {
   "cell_type": "markdown",
   "metadata": {
    "cell_id": "c0a8d5b2d2cc4754961d7b9cb2f0b9ee",
    "deepnote_cell_type": "markdown"
   },
   "source": [
    "## Filtered LinReg Model (Iteration 3)"
   ]
  },
  {
   "cell_type": "code",
   "execution_count": 16,
   "metadata": {
    "cell_id": "de50896071104f59b16cbac9558bd3d4",
    "deepnote_cell_type": "code",
    "execution_context_id": "5e196466-4669-4eeb-abfe-723616e59df1",
    "execution_millis": 508,
    "execution_start": 1733958343816,
    "source_hash": "8a8d50"
   },
   "outputs": [
    {
     "data": {
      "text/html": [
       "<table class=\"simpletable\">\n",
       "<caption>OLS Regression Results</caption>\n",
       "<tr>\n",
       "  <th>Dep. Variable:</th>        <td>baseFare</td>     <th>  R-squared:         </th> <td>   0.814</td> \n",
       "</tr>\n",
       "<tr>\n",
       "  <th>Model:</th>                   <td>OLS</td>       <th>  Adj. R-squared:    </th> <td>   0.814</td> \n",
       "</tr>\n",
       "<tr>\n",
       "  <th>Method:</th>             <td>Least Squares</td>  <th>  F-statistic:       </th> <td>   1743.</td> \n",
       "</tr>\n",
       "<tr>\n",
       "  <th>Date:</th>             <td>Wed, 11 Dec 2024</td> <th>  Prob (F-statistic):</th>  <td>  0.00</td>  \n",
       "</tr>\n",
       "<tr>\n",
       "  <th>Time:</th>                 <td>23:05:44</td>     <th>  Log-Likelihood:    </th> <td> -99319.</td> \n",
       "</tr>\n",
       "<tr>\n",
       "  <th>No. Observations:</th>      <td> 17940</td>      <th>  AIC:               </th> <td>1.987e+05</td>\n",
       "</tr>\n",
       "<tr>\n",
       "  <th>Df Residuals:</th>          <td> 17894</td>      <th>  BIC:               </th> <td>1.991e+05</td>\n",
       "</tr>\n",
       "<tr>\n",
       "  <th>Df Model:</th>              <td>    45</td>      <th>                     </th>     <td> </td>    \n",
       "</tr>\n",
       "<tr>\n",
       "  <th>Covariance Type:</th>      <td>nonrobust</td>    <th>                     </th>     <td> </td>    \n",
       "</tr>\n",
       "</table>\n",
       "<table class=\"simpletable\">\n",
       "<tr>\n",
       "                        <td></td>                           <th>coef</th>     <th>std err</th>      <th>t</th>      <th>P>|t|</th>  <th>[0.025</th>    <th>0.975]</th>  \n",
       "</tr>\n",
       "<tr>\n",
       "  <th>elapsedDays</th>                                   <td>  -17.8326</td> <td>    2.031</td> <td>   -8.782</td> <td> 0.000</td> <td>  -21.813</td> <td>  -13.853</td>\n",
       "</tr>\n",
       "<tr>\n",
       "  <th>isBasicEconomy</th>                                <td>  -60.7293</td> <td>    1.521</td> <td>  -39.939</td> <td> 0.000</td> <td>  -63.710</td> <td>  -57.749</td>\n",
       "</tr>\n",
       "<tr>\n",
       "  <th>isRefundable</th>                                  <td>-9.121e-10</td> <td>  5.5e-11</td> <td>  -16.585</td> <td> 0.000</td> <td>-1.02e-09</td> <td>-8.04e-10</td>\n",
       "</tr>\n",
       "<tr>\n",
       "  <th>isNonStop</th>                                     <td>  171.7065</td> <td>    9.152</td> <td>   18.761</td> <td> 0.000</td> <td>  153.768</td> <td>  189.645</td>\n",
       "</tr>\n",
       "<tr>\n",
       "  <th>totalTravelDistance</th>                           <td>   -0.1540</td> <td>    0.007</td> <td>  -21.462</td> <td> 0.000</td> <td>   -0.168</td> <td>   -0.140</td>\n",
       "</tr>\n",
       "<tr>\n",
       "  <th>segmentsDurationInSeconds</th>                     <td>    0.0513</td> <td>    0.002</td> <td>   31.495</td> <td> 0.000</td> <td>    0.048</td> <td>    0.054</td>\n",
       "</tr>\n",
       "<tr>\n",
       "  <th>segmentsDistance</th>                              <td>   -0.1540</td> <td>    0.007</td> <td>  -21.462</td> <td> 0.000</td> <td>   -0.168</td> <td>   -0.140</td>\n",
       "</tr>\n",
       "<tr>\n",
       "  <th>daysTillFlight</th>                                <td>   -0.3095</td> <td>    0.029</td> <td>  -10.731</td> <td> 0.000</td> <td>   -0.366</td> <td>   -0.253</td>\n",
       "</tr>\n",
       "<tr>\n",
       "  <th>departureDayOfWeek</th>                            <td>    2.0924</td> <td>    0.231</td> <td>    9.069</td> <td> 0.000</td> <td>    1.640</td> <td>    2.545</td>\n",
       "</tr>\n",
       "<tr>\n",
       "  <th>departureHour</th>                                 <td>    0.2983</td> <td>    0.126</td> <td>    2.363</td> <td> 0.018</td> <td>    0.051</td> <td>    0.546</td>\n",
       "</tr>\n",
       "<tr>\n",
       "  <th>startingAirport_LAX</th>                           <td>   93.2521</td> <td>    4.799</td> <td>   19.433</td> <td> 0.000</td> <td>   83.846</td> <td>  102.658</td>\n",
       "</tr>\n",
       "<tr>\n",
       "  <th>startingAirport_SFO</th>                           <td>   78.4544</td> <td>    4.405</td> <td>   17.809</td> <td> 0.000</td> <td>   69.820</td> <td>   87.089</td>\n",
       "</tr>\n",
       "<tr>\n",
       "  <th>destinationAirport_CLT</th>                        <td>   47.4881</td> <td>   12.378</td> <td>    3.837</td> <td> 0.000</td> <td>   23.227</td> <td>   71.749</td>\n",
       "</tr>\n",
       "<tr>\n",
       "  <th>destinationAirport_DTW</th>                        <td>   54.8135</td> <td>   18.400</td> <td>    2.979</td> <td> 0.003</td> <td>   18.748</td> <td>   90.879</td>\n",
       "</tr>\n",
       "<tr>\n",
       "  <th>destinationAirport_JFK</th>                        <td>   21.5458</td> <td>    8.950</td> <td>    2.407</td> <td> 0.016</td> <td>    4.002</td> <td>   39.090</td>\n",
       "</tr>\n",
       "<tr>\n",
       "  <th>destinationAirport_ORD</th>                        <td>   12.1832</td> <td>    2.335</td> <td>    5.217</td> <td> 0.000</td> <td>    7.606</td> <td>   16.760</td>\n",
       "</tr>\n",
       "<tr>\n",
       "  <th>segmentsArrivalAirportCode_CLT</th>                <td>   47.4881</td> <td>   12.378</td> <td>    3.837</td> <td> 0.000</td> <td>   23.227</td> <td>   71.749</td>\n",
       "</tr>\n",
       "<tr>\n",
       "  <th>segmentsArrivalAirportCode_DTW</th>                <td>   54.8135</td> <td>   18.400</td> <td>    2.979</td> <td> 0.003</td> <td>   18.748</td> <td>   90.879</td>\n",
       "</tr>\n",
       "<tr>\n",
       "  <th>segmentsArrivalAirportCode_JFK</th>                <td>   21.5458</td> <td>    8.950</td> <td>    2.407</td> <td> 0.016</td> <td>    4.002</td> <td>   39.090</td>\n",
       "</tr>\n",
       "<tr>\n",
       "  <th>segmentsArrivalAirportCode_ORD</th>                <td>   12.1832</td> <td>    2.335</td> <td>    5.217</td> <td> 0.000</td> <td>    7.606</td> <td>   16.760</td>\n",
       "</tr>\n",
       "<tr>\n",
       "  <th>segmentsDepartureAirportCode_LAX</th>              <td>   22.5390</td> <td>    2.940</td> <td>    7.666</td> <td> 0.000</td> <td>   16.776</td> <td>   28.302</td>\n",
       "</tr>\n",
       "<tr>\n",
       "  <th>segmentsDepartureAirportCode_ONT</th>              <td>   70.7131</td> <td>    2.216</td> <td>   31.914</td> <td> 0.000</td> <td>   66.370</td> <td>   75.056</td>\n",
       "</tr>\n",
       "<tr>\n",
       "  <th>segmentsDepartureAirportCode_SFO</th>              <td>   78.4544</td> <td>    4.405</td> <td>   17.809</td> <td> 0.000</td> <td>   69.820</td> <td>   87.089</td>\n",
       "</tr>\n",
       "<tr>\n",
       "  <th>segmentsAirlineCode_AA</th>                        <td>  220.0121</td> <td>    3.219</td> <td>   68.347</td> <td> 0.000</td> <td>  213.702</td> <td>  226.322</td>\n",
       "</tr>\n",
       "<tr>\n",
       "  <th>segmentsAirlineCode_AS</th>                        <td>  160.2645</td> <td>    4.198</td> <td>   38.179</td> <td> 0.000</td> <td>  152.037</td> <td>  168.492</td>\n",
       "</tr>\n",
       "<tr>\n",
       "  <th>segmentsAirlineCode_DL</th>                        <td>  170.5776</td> <td>    4.337</td> <td>   39.329</td> <td> 0.000</td> <td>  162.076</td> <td>  179.079</td>\n",
       "</tr>\n",
       "<tr>\n",
       "  <th>segmentsAirlineCode_UA</th>                        <td>  201.7467</td> <td>    3.658</td> <td>   55.158</td> <td> 0.000</td> <td>  194.578</td> <td>  208.916</td>\n",
       "</tr>\n",
       "<tr>\n",
       "  <th>segmentsEquipmentDescription_Airbus A319</th>      <td>  -36.9433</td> <td>    3.411</td> <td>  -10.830</td> <td> 0.000</td> <td>  -43.629</td> <td>  -30.257</td>\n",
       "</tr>\n",
       "<tr>\n",
       "  <th>segmentsEquipmentDescription_BOEING 787-9</th>     <td>   50.2807</td> <td>    5.690</td> <td>    8.836</td> <td> 0.000</td> <td>   39.127</td> <td>   61.434</td>\n",
       "</tr>\n",
       "<tr>\n",
       "  <th>segmentsEquipmentDescription_Boeing 737 MAX 9</th> <td>  -20.8650</td> <td>    2.865</td> <td>   -7.284</td> <td> 0.000</td> <td>  -26.480</td> <td>  -15.250</td>\n",
       "</tr>\n",
       "<tr>\n",
       "  <th>segmentsEquipmentDescription_Boeing 737-900</th>   <td>   -5.6838</td> <td>    1.825</td> <td>   -3.114</td> <td> 0.002</td> <td>   -9.261</td> <td>   -2.106</td>\n",
       "</tr>\n",
       "<tr>\n",
       "  <th>segmentsEquipmentDescription_Boeing 757-200</th>   <td>   70.1946</td> <td>   20.968</td> <td>    3.348</td> <td> 0.001</td> <td>   29.094</td> <td>  111.295</td>\n",
       "</tr>\n",
       "<tr>\n",
       "  <th>segmentsEquipmentDescription_Boeing 777</th>       <td>  -24.7615</td> <td>    3.262</td> <td>   -7.592</td> <td> 0.000</td> <td>  -31.155</td> <td>  -18.369</td>\n",
       "</tr>\n",
       "<tr>\n",
       "  <th>segmentsEquipmentDescription_Boeing 787-8</th>     <td>   32.6094</td> <td>    3.791</td> <td>    8.602</td> <td> 0.000</td> <td>   25.179</td> <td>   40.040</td>\n",
       "</tr>\n",
       "<tr>\n",
       "  <th>segmentsCabinCode_business</th>                    <td> -129.0058</td> <td>   40.440</td> <td>   -3.190</td> <td> 0.001</td> <td> -208.272</td> <td>  -49.739</td>\n",
       "</tr>\n",
       "<tr>\n",
       "  <th>segmentsCabinCode_coach</th>                       <td> -350.9179</td> <td>    7.996</td> <td>  -43.887</td> <td> 0.000</td> <td> -366.591</td> <td> -335.245</td>\n",
       "</tr>\n",
       "<tr>\n",
       "  <th>segmentsCabinCode_first</th>                       <td>  686.3431</td> <td>   26.194</td> <td>   26.203</td> <td> 0.000</td> <td>  635.001</td> <td>  737.685</td>\n",
       "</tr>\n",
       "<tr>\n",
       "  <th>bookingClassCode_B</th>                            <td>  198.8586</td> <td>    5.101</td> <td>   38.983</td> <td> 0.000</td> <td>  188.860</td> <td>  208.857</td>\n",
       "</tr>\n",
       "<tr>\n",
       "  <th>bookingClassCode_C</th>                            <td>  124.0610</td> <td>   50.755</td> <td>    2.444</td> <td> 0.015</td> <td>   24.577</td> <td>  223.545</td>\n",
       "</tr>\n",
       "<tr>\n",
       "  <th>bookingClassCode_D</th>                            <td>  -95.7861</td> <td>   10.044</td> <td>   -9.536</td> <td> 0.000</td> <td> -115.474</td> <td>  -76.099</td>\n",
       "</tr>\n",
       "<tr>\n",
       "  <th>bookingClassCode_E</th>                            <td>   99.5738</td> <td>    4.207</td> <td>   23.666</td> <td> 0.000</td> <td>   91.327</td> <td>  107.821</td>\n",
       "</tr>\n",
       "<tr>\n",
       "  <th>bookingClassCode_G</th>                            <td> -140.3110</td> <td>    2.537</td> <td>  -55.302</td> <td> 0.000</td> <td> -145.284</td> <td> -135.338</td>\n",
       "</tr>\n",
       "<tr>\n",
       "  <th>bookingClassCode_H</th>                            <td>   18.6428</td> <td>    2.777</td> <td>    6.714</td> <td> 0.000</td> <td>   13.200</td> <td>   24.085</td>\n",
       "</tr>\n",
       "<tr>\n",
       "  <th>bookingClassCode_J</th>                            <td>  433.2763</td> <td>   26.215</td> <td>   16.528</td> <td> 0.000</td> <td>  381.893</td> <td>  484.660</td>\n",
       "</tr>\n",
       "<tr>\n",
       "  <th>bookingClassCode_L</th>                            <td>  -94.5227</td> <td>    2.447</td> <td>  -38.625</td> <td> 0.000</td> <td>  -99.319</td> <td>  -89.726</td>\n",
       "</tr>\n",
       "<tr>\n",
       "  <th>bookingClassCode_M</th>                            <td>   16.2887</td> <td>    2.650</td> <td>    6.148</td> <td> 0.000</td> <td>   11.095</td> <td>   21.482</td>\n",
       "</tr>\n",
       "<tr>\n",
       "  <th>bookingClassCode_N</th>                            <td> -198.4519</td> <td>    3.047</td> <td>  -65.133</td> <td> 0.000</td> <td> -204.424</td> <td> -192.480</td>\n",
       "</tr>\n",
       "<tr>\n",
       "  <th>bookingClassCode_O</th>                            <td> -222.7032</td> <td>    8.961</td> <td>  -24.852</td> <td> 0.000</td> <td> -240.268</td> <td> -205.138</td>\n",
       "</tr>\n",
       "<tr>\n",
       "  <th>bookingClassCode_Q</th>                            <td>  -87.5712</td> <td>    2.799</td> <td>  -31.284</td> <td> 0.000</td> <td>  -93.058</td> <td>  -82.084</td>\n",
       "</tr>\n",
       "<tr>\n",
       "  <th>bookingClassCode_S</th>                            <td> -177.0151</td> <td>    2.521</td> <td>  -70.207</td> <td> 0.000</td> <td> -181.957</td> <td> -172.073</td>\n",
       "</tr>\n",
       "<tr>\n",
       "  <th>bookingClassCode_T</th>                            <td> -174.8520</td> <td>    3.679</td> <td>  -47.524</td> <td> 0.000</td> <td> -182.064</td> <td> -167.640</td>\n",
       "</tr>\n",
       "<tr>\n",
       "  <th>bookingClassCode_U</th>                            <td>   19.3551</td> <td>    3.475</td> <td>    5.570</td> <td> 0.000</td> <td>   12.544</td> <td>   26.166</td>\n",
       "</tr>\n",
       "<tr>\n",
       "  <th>bookingClassCode_V</th>                            <td> -114.2205</td> <td>    2.375</td> <td>  -48.099</td> <td> 0.000</td> <td> -118.875</td> <td> -109.566</td>\n",
       "</tr>\n",
       "<tr>\n",
       "  <th>bookingClassCode_W</th>                            <td> -149.2252</td> <td>    3.300</td> <td>  -45.222</td> <td> 0.000</td> <td> -155.693</td> <td> -142.757</td>\n",
       "</tr>\n",
       "<tr>\n",
       "  <th>bookingClassCode_X</th>                            <td> -112.0971</td> <td>    7.358</td> <td>  -15.234</td> <td> 0.000</td> <td> -126.520</td> <td>  -97.674</td>\n",
       "</tr>\n",
       "<tr>\n",
       "  <th>bookingClassCode_Y</th>                            <td>  667.3064</td> <td>    8.181</td> <td>   81.567</td> <td> 0.000</td> <td>  651.271</td> <td>  683.342</td>\n",
       "</tr>\n",
       "</table>\n",
       "<table class=\"simpletable\">\n",
       "<tr>\n",
       "  <th>Omnibus:</th>       <td>3036.081</td> <th>  Durbin-Watson:     </th> <td>   1.984</td> \n",
       "</tr>\n",
       "<tr>\n",
       "  <th>Prob(Omnibus):</th>  <td> 0.000</td>  <th>  Jarque-Bera (JB):  </th> <td>24395.651</td>\n",
       "</tr>\n",
       "<tr>\n",
       "  <th>Skew:</th>           <td> 0.588</td>  <th>  Prob(JB):          </th> <td>    0.00</td> \n",
       "</tr>\n",
       "<tr>\n",
       "  <th>Kurtosis:</th>       <td> 8.591</td>  <th>  Cond. No.          </th> <td>1.10e+16</td> \n",
       "</tr>\n",
       "</table><br/><br/>Notes:<br/>[1] Standard Errors assume that the covariance matrix of the errors is correctly specified.<br/>[2] The smallest eigenvalue is 2.76e-20. This might indicate that there are<br/>strong multicollinearity problems or that the design matrix is singular."
      ],
      "text/latex": [
       "\\begin{center}\n",
       "\\begin{tabular}{lclc}\n",
       "\\toprule\n",
       "\\textbf{Dep. Variable:}                                 &     baseFare     & \\textbf{  R-squared:         } &     0.814   \\\\\n",
       "\\textbf{Model:}                                         &       OLS        & \\textbf{  Adj. R-squared:    } &     0.814   \\\\\n",
       "\\textbf{Method:}                                        &  Least Squares   & \\textbf{  F-statistic:       } &     1743.   \\\\\n",
       "\\textbf{Date:}                                          & Wed, 11 Dec 2024 & \\textbf{  Prob (F-statistic):} &     0.00    \\\\\n",
       "\\textbf{Time:}                                          &     23:05:44     & \\textbf{  Log-Likelihood:    } &   -99319.   \\\\\n",
       "\\textbf{No. Observations:}                              &       17940      & \\textbf{  AIC:               } & 1.987e+05   \\\\\n",
       "\\textbf{Df Residuals:}                                  &       17894      & \\textbf{  BIC:               } & 1.991e+05   \\\\\n",
       "\\textbf{Df Model:}                                      &          45      & \\textbf{                     } &             \\\\\n",
       "\\textbf{Covariance Type:}                               &    nonrobust     & \\textbf{                     } &             \\\\\n",
       "\\bottomrule\n",
       "\\end{tabular}\n",
       "\\begin{tabular}{lcccccc}\n",
       "                                                        & \\textbf{coef} & \\textbf{std err} & \\textbf{t} & \\textbf{P$> |$t$|$} & \\textbf{[0.025} & \\textbf{0.975]}  \\\\\n",
       "\\midrule\n",
       "\\textbf{elapsedDays}                                    &     -17.8326  &        2.031     &    -8.782  &         0.000        &      -21.813    &      -13.853     \\\\\n",
       "\\textbf{isBasicEconomy}                                 &     -60.7293  &        1.521     &   -39.939  &         0.000        &      -63.710    &      -57.749     \\\\\n",
       "\\textbf{isRefundable}                                   &   -9.121e-10  &      5.5e-11     &   -16.585  &         0.000        &    -1.02e-09    &    -8.04e-10     \\\\\n",
       "\\textbf{isNonStop}                                      &     171.7065  &        9.152     &    18.761  &         0.000        &      153.768    &      189.645     \\\\\n",
       "\\textbf{totalTravelDistance}                            &      -0.1540  &        0.007     &   -21.462  &         0.000        &       -0.168    &       -0.140     \\\\\n",
       "\\textbf{segmentsDurationInSeconds}                      &       0.0513  &        0.002     &    31.495  &         0.000        &        0.048    &        0.054     \\\\\n",
       "\\textbf{segmentsDistance}                               &      -0.1540  &        0.007     &   -21.462  &         0.000        &       -0.168    &       -0.140     \\\\\n",
       "\\textbf{daysTillFlight}                                 &      -0.3095  &        0.029     &   -10.731  &         0.000        &       -0.366    &       -0.253     \\\\\n",
       "\\textbf{departureDayOfWeek}                             &       2.0924  &        0.231     &     9.069  &         0.000        &        1.640    &        2.545     \\\\\n",
       "\\textbf{departureHour}                                  &       0.2983  &        0.126     &     2.363  &         0.018        &        0.051    &        0.546     \\\\\n",
       "\\textbf{startingAirport\\_LAX}                           &      93.2521  &        4.799     &    19.433  &         0.000        &       83.846    &      102.658     \\\\\n",
       "\\textbf{startingAirport\\_SFO}                           &      78.4544  &        4.405     &    17.809  &         0.000        &       69.820    &       87.089     \\\\\n",
       "\\textbf{destinationAirport\\_CLT}                        &      47.4881  &       12.378     &     3.837  &         0.000        &       23.227    &       71.749     \\\\\n",
       "\\textbf{destinationAirport\\_DTW}                        &      54.8135  &       18.400     &     2.979  &         0.003        &       18.748    &       90.879     \\\\\n",
       "\\textbf{destinationAirport\\_JFK}                        &      21.5458  &        8.950     &     2.407  &         0.016        &        4.002    &       39.090     \\\\\n",
       "\\textbf{destinationAirport\\_ORD}                        &      12.1832  &        2.335     &     5.217  &         0.000        &        7.606    &       16.760     \\\\\n",
       "\\textbf{segmentsArrivalAirportCode\\_CLT}                &      47.4881  &       12.378     &     3.837  &         0.000        &       23.227    &       71.749     \\\\\n",
       "\\textbf{segmentsArrivalAirportCode\\_DTW}                &      54.8135  &       18.400     &     2.979  &         0.003        &       18.748    &       90.879     \\\\\n",
       "\\textbf{segmentsArrivalAirportCode\\_JFK}                &      21.5458  &        8.950     &     2.407  &         0.016        &        4.002    &       39.090     \\\\\n",
       "\\textbf{segmentsArrivalAirportCode\\_ORD}                &      12.1832  &        2.335     &     5.217  &         0.000        &        7.606    &       16.760     \\\\\n",
       "\\textbf{segmentsDepartureAirportCode\\_LAX}              &      22.5390  &        2.940     &     7.666  &         0.000        &       16.776    &       28.302     \\\\\n",
       "\\textbf{segmentsDepartureAirportCode\\_ONT}              &      70.7131  &        2.216     &    31.914  &         0.000        &       66.370    &       75.056     \\\\\n",
       "\\textbf{segmentsDepartureAirportCode\\_SFO}              &      78.4544  &        4.405     &    17.809  &         0.000        &       69.820    &       87.089     \\\\\n",
       "\\textbf{segmentsAirlineCode\\_AA}                        &     220.0121  &        3.219     &    68.347  &         0.000        &      213.702    &      226.322     \\\\\n",
       "\\textbf{segmentsAirlineCode\\_AS}                        &     160.2645  &        4.198     &    38.179  &         0.000        &      152.037    &      168.492     \\\\\n",
       "\\textbf{segmentsAirlineCode\\_DL}                        &     170.5776  &        4.337     &    39.329  &         0.000        &      162.076    &      179.079     \\\\\n",
       "\\textbf{segmentsAirlineCode\\_UA}                        &     201.7467  &        3.658     &    55.158  &         0.000        &      194.578    &      208.916     \\\\\n",
       "\\textbf{segmentsEquipmentDescription\\_Airbus A319}      &     -36.9433  &        3.411     &   -10.830  &         0.000        &      -43.629    &      -30.257     \\\\\n",
       "\\textbf{segmentsEquipmentDescription\\_BOEING 787-9}     &      50.2807  &        5.690     &     8.836  &         0.000        &       39.127    &       61.434     \\\\\n",
       "\\textbf{segmentsEquipmentDescription\\_Boeing 737 MAX 9} &     -20.8650  &        2.865     &    -7.284  &         0.000        &      -26.480    &      -15.250     \\\\\n",
       "\\textbf{segmentsEquipmentDescription\\_Boeing 737-900}   &      -5.6838  &        1.825     &    -3.114  &         0.002        &       -9.261    &       -2.106     \\\\\n",
       "\\textbf{segmentsEquipmentDescription\\_Boeing 757-200}   &      70.1946  &       20.968     &     3.348  &         0.001        &       29.094    &      111.295     \\\\\n",
       "\\textbf{segmentsEquipmentDescription\\_Boeing 777}       &     -24.7615  &        3.262     &    -7.592  &         0.000        &      -31.155    &      -18.369     \\\\\n",
       "\\textbf{segmentsEquipmentDescription\\_Boeing 787-8}     &      32.6094  &        3.791     &     8.602  &         0.000        &       25.179    &       40.040     \\\\\n",
       "\\textbf{segmentsCabinCode\\_business}                    &    -129.0058  &       40.440     &    -3.190  &         0.001        &     -208.272    &      -49.739     \\\\\n",
       "\\textbf{segmentsCabinCode\\_coach}                       &    -350.9179  &        7.996     &   -43.887  &         0.000        &     -366.591    &     -335.245     \\\\\n",
       "\\textbf{segmentsCabinCode\\_first}                       &     686.3431  &       26.194     &    26.203  &         0.000        &      635.001    &      737.685     \\\\\n",
       "\\textbf{bookingClassCode\\_B}                            &     198.8586  &        5.101     &    38.983  &         0.000        &      188.860    &      208.857     \\\\\n",
       "\\textbf{bookingClassCode\\_C}                            &     124.0610  &       50.755     &     2.444  &         0.015        &       24.577    &      223.545     \\\\\n",
       "\\textbf{bookingClassCode\\_D}                            &     -95.7861  &       10.044     &    -9.536  &         0.000        &     -115.474    &      -76.099     \\\\\n",
       "\\textbf{bookingClassCode\\_E}                            &      99.5738  &        4.207     &    23.666  &         0.000        &       91.327    &      107.821     \\\\\n",
       "\\textbf{bookingClassCode\\_G}                            &    -140.3110  &        2.537     &   -55.302  &         0.000        &     -145.284    &     -135.338     \\\\\n",
       "\\textbf{bookingClassCode\\_H}                            &      18.6428  &        2.777     &     6.714  &         0.000        &       13.200    &       24.085     \\\\\n",
       "\\textbf{bookingClassCode\\_J}                            &     433.2763  &       26.215     &    16.528  &         0.000        &      381.893    &      484.660     \\\\\n",
       "\\textbf{bookingClassCode\\_L}                            &     -94.5227  &        2.447     &   -38.625  &         0.000        &      -99.319    &      -89.726     \\\\\n",
       "\\textbf{bookingClassCode\\_M}                            &      16.2887  &        2.650     &     6.148  &         0.000        &       11.095    &       21.482     \\\\\n",
       "\\textbf{bookingClassCode\\_N}                            &    -198.4519  &        3.047     &   -65.133  &         0.000        &     -204.424    &     -192.480     \\\\\n",
       "\\textbf{bookingClassCode\\_O}                            &    -222.7032  &        8.961     &   -24.852  &         0.000        &     -240.268    &     -205.138     \\\\\n",
       "\\textbf{bookingClassCode\\_Q}                            &     -87.5712  &        2.799     &   -31.284  &         0.000        &      -93.058    &      -82.084     \\\\\n",
       "\\textbf{bookingClassCode\\_S}                            &    -177.0151  &        2.521     &   -70.207  &         0.000        &     -181.957    &     -172.073     \\\\\n",
       "\\textbf{bookingClassCode\\_T}                            &    -174.8520  &        3.679     &   -47.524  &         0.000        &     -182.064    &     -167.640     \\\\\n",
       "\\textbf{bookingClassCode\\_U}                            &      19.3551  &        3.475     &     5.570  &         0.000        &       12.544    &       26.166     \\\\\n",
       "\\textbf{bookingClassCode\\_V}                            &    -114.2205  &        2.375     &   -48.099  &         0.000        &     -118.875    &     -109.566     \\\\\n",
       "\\textbf{bookingClassCode\\_W}                            &    -149.2252  &        3.300     &   -45.222  &         0.000        &     -155.693    &     -142.757     \\\\\n",
       "\\textbf{bookingClassCode\\_X}                            &    -112.0971  &        7.358     &   -15.234  &         0.000        &     -126.520    &      -97.674     \\\\\n",
       "\\textbf{bookingClassCode\\_Y}                            &     667.3064  &        8.181     &    81.567  &         0.000        &      651.271    &      683.342     \\\\\n",
       "\\bottomrule\n",
       "\\end{tabular}\n",
       "\\begin{tabular}{lclc}\n",
       "\\textbf{Omnibus:}       & 3036.081 & \\textbf{  Durbin-Watson:     } &     1.984  \\\\\n",
       "\\textbf{Prob(Omnibus):} &   0.000  & \\textbf{  Jarque-Bera (JB):  } & 24395.651  \\\\\n",
       "\\textbf{Skew:}          &   0.588  & \\textbf{  Prob(JB):          } &      0.00  \\\\\n",
       "\\textbf{Kurtosis:}      &   8.591  & \\textbf{  Cond. No.          } &  1.10e+16  \\\\\n",
       "\\bottomrule\n",
       "\\end{tabular}\n",
       "%\\caption{OLS Regression Results}\n",
       "\\end{center}\n",
       "\n",
       "Notes: \\newline\n",
       " [1] Standard Errors assume that the covariance matrix of the errors is correctly specified. \\newline\n",
       " [2] The smallest eigenvalue is 2.76e-20. This might indicate that there are \\newline\n",
       " strong multicollinearity problems or that the design matrix is singular."
      ],
      "text/plain": [
       "<class 'statsmodels.iolib.summary.Summary'>\n",
       "\"\"\"\n",
       "                            OLS Regression Results                            \n",
       "==============================================================================\n",
       "Dep. Variable:               baseFare   R-squared:                       0.814\n",
       "Model:                            OLS   Adj. R-squared:                  0.814\n",
       "Method:                 Least Squares   F-statistic:                     1743.\n",
       "Date:                Wed, 11 Dec 2024   Prob (F-statistic):               0.00\n",
       "Time:                        23:05:44   Log-Likelihood:                -99319.\n",
       "No. Observations:               17940   AIC:                         1.987e+05\n",
       "Df Residuals:                   17894   BIC:                         1.991e+05\n",
       "Df Model:                          45                                         \n",
       "Covariance Type:            nonrobust                                         \n",
       "=================================================================================================================\n",
       "                                                    coef    std err          t      P>|t|      [0.025      0.975]\n",
       "-----------------------------------------------------------------------------------------------------------------\n",
       "elapsedDays                                     -17.8326      2.031     -8.782      0.000     -21.813     -13.853\n",
       "isBasicEconomy                                  -60.7293      1.521    -39.939      0.000     -63.710     -57.749\n",
       "isRefundable                                  -9.121e-10    5.5e-11    -16.585      0.000   -1.02e-09   -8.04e-10\n",
       "isNonStop                                       171.7065      9.152     18.761      0.000     153.768     189.645\n",
       "totalTravelDistance                              -0.1540      0.007    -21.462      0.000      -0.168      -0.140\n",
       "segmentsDurationInSeconds                         0.0513      0.002     31.495      0.000       0.048       0.054\n",
       "segmentsDistance                                 -0.1540      0.007    -21.462      0.000      -0.168      -0.140\n",
       "daysTillFlight                                   -0.3095      0.029    -10.731      0.000      -0.366      -0.253\n",
       "departureDayOfWeek                                2.0924      0.231      9.069      0.000       1.640       2.545\n",
       "departureHour                                     0.2983      0.126      2.363      0.018       0.051       0.546\n",
       "startingAirport_LAX                              93.2521      4.799     19.433      0.000      83.846     102.658\n",
       "startingAirport_SFO                              78.4544      4.405     17.809      0.000      69.820      87.089\n",
       "destinationAirport_CLT                           47.4881     12.378      3.837      0.000      23.227      71.749\n",
       "destinationAirport_DTW                           54.8135     18.400      2.979      0.003      18.748      90.879\n",
       "destinationAirport_JFK                           21.5458      8.950      2.407      0.016       4.002      39.090\n",
       "destinationAirport_ORD                           12.1832      2.335      5.217      0.000       7.606      16.760\n",
       "segmentsArrivalAirportCode_CLT                   47.4881     12.378      3.837      0.000      23.227      71.749\n",
       "segmentsArrivalAirportCode_DTW                   54.8135     18.400      2.979      0.003      18.748      90.879\n",
       "segmentsArrivalAirportCode_JFK                   21.5458      8.950      2.407      0.016       4.002      39.090\n",
       "segmentsArrivalAirportCode_ORD                   12.1832      2.335      5.217      0.000       7.606      16.760\n",
       "segmentsDepartureAirportCode_LAX                 22.5390      2.940      7.666      0.000      16.776      28.302\n",
       "segmentsDepartureAirportCode_ONT                 70.7131      2.216     31.914      0.000      66.370      75.056\n",
       "segmentsDepartureAirportCode_SFO                 78.4544      4.405     17.809      0.000      69.820      87.089\n",
       "segmentsAirlineCode_AA                          220.0121      3.219     68.347      0.000     213.702     226.322\n",
       "segmentsAirlineCode_AS                          160.2645      4.198     38.179      0.000     152.037     168.492\n",
       "segmentsAirlineCode_DL                          170.5776      4.337     39.329      0.000     162.076     179.079\n",
       "segmentsAirlineCode_UA                          201.7467      3.658     55.158      0.000     194.578     208.916\n",
       "segmentsEquipmentDescription_Airbus A319        -36.9433      3.411    -10.830      0.000     -43.629     -30.257\n",
       "segmentsEquipmentDescription_BOEING 787-9        50.2807      5.690      8.836      0.000      39.127      61.434\n",
       "segmentsEquipmentDescription_Boeing 737 MAX 9   -20.8650      2.865     -7.284      0.000     -26.480     -15.250\n",
       "segmentsEquipmentDescription_Boeing 737-900      -5.6838      1.825     -3.114      0.002      -9.261      -2.106\n",
       "segmentsEquipmentDescription_Boeing 757-200      70.1946     20.968      3.348      0.001      29.094     111.295\n",
       "segmentsEquipmentDescription_Boeing 777         -24.7615      3.262     -7.592      0.000     -31.155     -18.369\n",
       "segmentsEquipmentDescription_Boeing 787-8        32.6094      3.791      8.602      0.000      25.179      40.040\n",
       "segmentsCabinCode_business                     -129.0058     40.440     -3.190      0.001    -208.272     -49.739\n",
       "segmentsCabinCode_coach                        -350.9179      7.996    -43.887      0.000    -366.591    -335.245\n",
       "segmentsCabinCode_first                         686.3431     26.194     26.203      0.000     635.001     737.685\n",
       "bookingClassCode_B                              198.8586      5.101     38.983      0.000     188.860     208.857\n",
       "bookingClassCode_C                              124.0610     50.755      2.444      0.015      24.577     223.545\n",
       "bookingClassCode_D                              -95.7861     10.044     -9.536      0.000    -115.474     -76.099\n",
       "bookingClassCode_E                               99.5738      4.207     23.666      0.000      91.327     107.821\n",
       "bookingClassCode_G                             -140.3110      2.537    -55.302      0.000    -145.284    -135.338\n",
       "bookingClassCode_H                               18.6428      2.777      6.714      0.000      13.200      24.085\n",
       "bookingClassCode_J                              433.2763     26.215     16.528      0.000     381.893     484.660\n",
       "bookingClassCode_L                              -94.5227      2.447    -38.625      0.000     -99.319     -89.726\n",
       "bookingClassCode_M                               16.2887      2.650      6.148      0.000      11.095      21.482\n",
       "bookingClassCode_N                             -198.4519      3.047    -65.133      0.000    -204.424    -192.480\n",
       "bookingClassCode_O                             -222.7032      8.961    -24.852      0.000    -240.268    -205.138\n",
       "bookingClassCode_Q                              -87.5712      2.799    -31.284      0.000     -93.058     -82.084\n",
       "bookingClassCode_S                             -177.0151      2.521    -70.207      0.000    -181.957    -172.073\n",
       "bookingClassCode_T                             -174.8520      3.679    -47.524      0.000    -182.064    -167.640\n",
       "bookingClassCode_U                               19.3551      3.475      5.570      0.000      12.544      26.166\n",
       "bookingClassCode_V                             -114.2205      2.375    -48.099      0.000    -118.875    -109.566\n",
       "bookingClassCode_W                             -149.2252      3.300    -45.222      0.000    -155.693    -142.757\n",
       "bookingClassCode_X                             -112.0971      7.358    -15.234      0.000    -126.520     -97.674\n",
       "bookingClassCode_Y                              667.3064      8.181     81.567      0.000     651.271     683.342\n",
       "==============================================================================\n",
       "Omnibus:                     3036.081   Durbin-Watson:                   1.984\n",
       "Prob(Omnibus):                  0.000   Jarque-Bera (JB):            24395.651\n",
       "Skew:                           0.588   Prob(JB):                         0.00\n",
       "Kurtosis:                       8.591   Cond. No.                     1.10e+16\n",
       "==============================================================================\n",
       "\n",
       "Notes:\n",
       "[1] Standard Errors assume that the covariance matrix of the errors is correctly specified.\n",
       "[2] The smallest eigenvalue is 2.76e-20. This might indicate that there are\n",
       "strong multicollinearity problems or that the design matrix is singular.\n",
       "\"\"\""
      ]
     },
     "execution_count": 16,
     "metadata": {},
     "output_type": "execute_result"
    }
   ],
   "source": [
    "linreg_filtered_3 = sm.OLS(y_train, X_train_filtered_3).fit()\n",
    "linreg_filtered_3.summary()"
   ]
  },
  {
   "cell_type": "markdown",
   "metadata": {
    "cell_id": "5b2a896f728f481b89bbe1eadfc76572",
    "deepnote_cell_type": "markdown"
   },
   "source": [
    "## Performance Metrics + Analysis"
   ]
  },
  {
   "cell_type": "code",
   "execution_count": 17,
   "metadata": {
    "cell_id": "a0d1012875094b8985f7fc3bc226342e",
    "deepnote_cell_type": "code",
    "execution_context_id": "5e196466-4669-4eeb-abfe-723616e59df1",
    "execution_millis": 7,
    "execution_start": 1733958344373,
    "source_hash": "ce15499"
   },
   "outputs": [
    {
     "name": "stdout",
     "output_type": "stream",
     "text": [
      "OSR2: 0.817788167875065\n"
     ]
    }
   ],
   "source": [
    "def OSR2(model, X_test, y_test, y_train):\n",
    "    y_pred = model.predict(X_test)\n",
    "    SSE = np.sum((y_test - y_pred)**2)\n",
    "    SST = np.sum((y_test - np.mean(y_test))**2)\n",
    "    return (1 - SSE/SST)\n",
    "\n",
    "X_test_filtered = X_test.drop(columns=features_to_remove_1+features_to_remove_2+features_to_remove_3)\n",
    "print(f\"OSR2: {OSR2(linreg_filtered_3, X_test_filtered, y_test, y_train)}\")"
   ]
  },
  {
   "cell_type": "code",
   "execution_count": 18,
   "metadata": {
    "cell_id": "c6a3db0b959b48acbe1df4f5c62a4499",
    "deepnote_cell_type": "code",
    "execution_context_id": "5e196466-4669-4eeb-abfe-723616e59df1",
    "execution_millis": 44,
    "execution_start": 1733958344431,
    "source_hash": "4f161fd1"
   },
   "outputs": [
    {
     "name": "stdout",
     "output_type": "stream",
     "text": [
      "RMSE: 62.158129548633056\n"
     ]
    }
   ],
   "source": [
    "def RMSE(model, X_test, y_test, y_train):\n",
    "    y_pred = model.predict(X_test)\n",
    "    return np.sqrt(np.mean((y_test - y_pred) ** 2))\n",
    "\n",
    "X_test_filtered = X_test.drop(columns=features_to_remove_1+features_to_remove_2+features_to_remove_3)\n",
    "print(f\"RMSE: {RMSE(linreg_filtered_3, X_test_filtered, y_test, y_train)}\")"
   ]
  },
  {
   "cell_type": "code",
   "execution_count": 19,
   "metadata": {
    "cell_id": "8f1cb1cca11f44b0803945c845c49e00",
    "deepnote_cell_type": "code",
    "execution_context_id": "5e196466-4669-4eeb-abfe-723616e59df1",
    "execution_millis": 0,
    "execution_start": 1733958344524,
    "source_hash": "48d5d54f"
   },
   "outputs": [
    {
     "name": "stdout",
     "output_type": "stream",
     "text": [
      "Number of variables in final linear regression model: 56\n"
     ]
    }
   ],
   "source": [
    "print(\"Number of variables in final linear regression model:\", len(X_train_filtered_3.columns))"
   ]
  },
  {
   "cell_type": "code",
   "execution_count": 20,
   "metadata": {
    "cell_id": "b9948963ec89482da4509fc0e0725ef0",
    "deepnote_cell_type": "code",
    "execution_context_id": "5e196466-4669-4eeb-abfe-723616e59df1",
    "execution_millis": 1,
    "execution_start": 1733958344571,
    "source_hash": "d55f1b1a"
   },
   "outputs": [
    {
     "name": "stdout",
     "output_type": "stream",
     "text": [
      "Kept features in final linear regression model:\n",
      " Index(['elapsedDays', 'isBasicEconomy', 'isRefundable', 'isNonStop',\n",
      "       'totalTravelDistance', 'segmentsDurationInSeconds', 'segmentsDistance',\n",
      "       'daysTillFlight', 'departureDayOfWeek', 'departureHour',\n",
      "       'startingAirport_LAX', 'startingAirport_SFO', 'destinationAirport_CLT',\n",
      "       'destinationAirport_DTW', 'destinationAirport_JFK',\n",
      "       'destinationAirport_ORD', 'segmentsArrivalAirportCode_CLT',\n",
      "       'segmentsArrivalAirportCode_DTW', 'segmentsArrivalAirportCode_JFK',\n",
      "       'segmentsArrivalAirportCode_ORD', 'segmentsDepartureAirportCode_LAX',\n",
      "       'segmentsDepartureAirportCode_ONT', 'segmentsDepartureAirportCode_SFO',\n",
      "       'segmentsAirlineCode_AA', 'segmentsAirlineCode_AS',\n",
      "       'segmentsAirlineCode_DL', 'segmentsAirlineCode_UA',\n",
      "       'segmentsEquipmentDescription_Airbus A319',\n",
      "       'segmentsEquipmentDescription_BOEING 787-9',\n",
      "       'segmentsEquipmentDescription_Boeing 737 MAX 9',\n",
      "       'segmentsEquipmentDescription_Boeing 737-900',\n",
      "       'segmentsEquipmentDescription_Boeing 757-200',\n",
      "       'segmentsEquipmentDescription_Boeing 777',\n",
      "       'segmentsEquipmentDescription_Boeing 787-8',\n",
      "       'segmentsCabinCode_business', 'segmentsCabinCode_coach',\n",
      "       'segmentsCabinCode_first', 'bookingClassCode_B', 'bookingClassCode_C',\n",
      "       'bookingClassCode_D', 'bookingClassCode_E', 'bookingClassCode_G',\n",
      "       'bookingClassCode_H', 'bookingClassCode_J', 'bookingClassCode_L',\n",
      "       'bookingClassCode_M', 'bookingClassCode_N', 'bookingClassCode_O',\n",
      "       'bookingClassCode_Q', 'bookingClassCode_S', 'bookingClassCode_T',\n",
      "       'bookingClassCode_U', 'bookingClassCode_V', 'bookingClassCode_W',\n",
      "       'bookingClassCode_X', 'bookingClassCode_Y'],\n",
      "      dtype='object')\n"
     ]
    }
   ],
   "source": [
    "print(\"Kept features in final linear regression model:\\n\", X_train_filtered_3.columns)"
   ]
  },
  {
   "cell_type": "code",
   "execution_count": 21,
   "metadata": {
    "cell_id": "600eb14e3e854ecb8c4b8bd585e0363e",
    "deepnote_cell_type": "code",
    "execution_context_id": "5e196466-4669-4eeb-abfe-723616e59df1",
    "execution_millis": 0,
    "execution_start": 1733958344620,
    "source_hash": "6af1775d"
   },
   "outputs": [
    {
     "name": "stdout",
     "output_type": "stream",
     "text": [
      "Features removed in final linear regression model:\n",
      " ['seatsRemaining', 'arrivalDayOfWeek', 'arrivalHour', 'destinationAirport_ATL', 'destinationAirport_BOS', 'destinationAirport_DEN', 'destinationAirport_DFW', 'destinationAirport_EWR', 'destinationAirport_IAD', 'destinationAirport_MIA', 'destinationAirport_PHL', 'segmentsArrivalAirportCode_ATL', 'segmentsArrivalAirportCode_BOS', 'segmentsArrivalAirportCode_DAL', 'segmentsArrivalAirportCode_DFW', 'segmentsArrivalAirportCode_EWR', 'segmentsArrivalAirportCode_IAD', 'segmentsArrivalAirportCode_MIA', 'segmentsArrivalAirportCode_PHL', 'segmentsAirlineCode_B6', 'segmentsEquipmentDescription_AIRBUS INDUSTRIE A321 SHARKLETS', 'segmentsEquipmentDescription_Airbus A319-321', 'segmentsEquipmentDescription_Airbus A320', 'segmentsEquipmentDescription_Airbus A321', 'segmentsEquipmentDescription_BOEING 777-300ER', 'segmentsEquipmentDescription_Boeing 737 MAX 8', 'segmentsEquipmentDescription_Boeing 737-800', 'segmentsEquipmentDescription_Boeing 757-300', 'segmentsEquipmentDescription_Boeing 767', 'segmentsEquipmentDescription_Boeing 767-300', 'segmentsEquipmentDescription_Boeing 777-200', 'segmentsEquipmentDescription_Embraer 175', 'segmentsCabinCode_premium coach', 'bookingClassCode_K', 'bookingClassCode_P', 'bookingClassCode_R', 'bookingClassCode_Z', 'segmentsAirlineCode_F9']\n"
     ]
    }
   ],
   "source": [
    "print(\"Features removed in final linear regression model:\\n\", features_to_remove_1+features_to_remove_2+features_to_remove_3)"
   ]
  }
 ],
 "metadata": {
  "deepnote_notebook_id": "7e463d88bfeb40cfb2dc4131b36a9d07",
  "kernelspec": {
   "display_name": "Python 3",
   "language": "python",
   "name": "python3"
  },
  "language_info": {
   "codemirror_mode": {
    "name": "ipython",
    "version": 3
   },
   "file_extension": ".py",
   "mimetype": "text/x-python",
   "name": "python",
   "nbconvert_exporter": "python",
   "pygments_lexer": "ipython3",
   "version": "3.7.3"
  }
 },
 "nbformat": 4,
 "nbformat_minor": 0
}
