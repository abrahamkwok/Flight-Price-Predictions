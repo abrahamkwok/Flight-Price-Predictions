{
 "cells": [
  {
   "cell_type": "markdown",
   "metadata": {
    "cell_id": "b8ea46b37560471f8f4bbd005f34a692",
    "deepnote_cell_type": "markdown"
   },
   "source": [
    "# Lasso Regression Model"
   ]
  },
  {
   "cell_type": "markdown",
   "metadata": {
    "cell_id": "00c23d8b625f44fca68098fea04325ba",
    "deepnote_cell_type": "markdown"
   },
   "source": [
    "## Depedencies + Loading in Data"
   ]
  },
  {
   "cell_type": "code",
   "execution_count": 1,
   "metadata": {
    "cell_id": "17b31650e5e149c281344923204e3c0c",
    "deepnote_cell_type": "code",
    "execution_context_id": "2d853662-138a-4e4d-abac-fe83ae86f265",
    "execution_millis": 4237,
    "execution_start": 1733788920116,
    "source_hash": "93c2ef0e"
   },
   "outputs": [],
   "source": [
    "import numpy as np\n",
    "import pandas as pd\n",
    "import matplotlib.pyplot as plt\n",
    "import statsmodels.api as sm\n",
    "import statsmodels.formula.api as smf\n",
    "from statsmodels.stats.outliers_influence import variance_inflation_factor\n",
    "from sklearn.metrics import confusion_matrix\n",
    "from sklearn.metrics import roc_curve, auc\n",
    "from sklearn.model_selection import GridSearchCV\n",
    "from sklearn.tree import DecisionTreeClassifier\n",
    "from sklearn.ensemble import RandomForestClassifier\n",
    "from sklearn.metrics import accuracy_score\n",
    "from sklearn.preprocessing import OneHotEncoder\n",
    "from sklearn.discriminant_analysis import LinearDiscriminantAnalysis\n",
    "from sklearn.model_selection import KFold\n",
    "from sklearn.ensemble import GradientBoostingClassifier\n",
    "from sklearn.model_selection import train_test_split\n"
   ]
  },
  {
   "cell_type": "code",
   "execution_count": 2,
   "metadata": {
    "cell_id": "9e76eab34051425890c3e636f22385c9",
    "deepnote_cell_type": "code",
    "execution_context_id": "2d853662-138a-4e4d-abac-fe83ae86f265",
    "execution_millis": 760,
    "execution_start": 1733788924408,
    "source_hash": "f88d049b"
   },
   "outputs": [
    {
     "data": {
      "application/vnd.deepnote.dataframe.v3+json": {
       "column_count": 23,
       "columns": [
        {
         "dtype": "object",
         "name": "startingAirport",
         "stats": {
          "categories": [
           {
            "count": 5,
            "name": "LAX"
           }
          ],
          "nan_count": 0,
          "unique_count": 1
         }
        },
        {
         "dtype": "object",
         "name": "destinationAirport",
         "stats": {
          "categories": [
           {
            "count": 4,
            "name": "ORD"
           },
           {
            "count": 1,
            "name": "DFW"
           }
          ],
          "nan_count": 0,
          "unique_count": 2
         }
        },
        {
         "dtype": "int64",
         "name": "elapsedDays",
         "stats": {
          "histogram": [
           {
            "bin_end": 0.1,
            "bin_start": 0,
            "count": 4
           },
           {
            "bin_end": 0.2,
            "bin_start": 0.1,
            "count": 0
           },
           {
            "bin_end": 0.30000000000000004,
            "bin_start": 0.2,
            "count": 0
           },
           {
            "bin_end": 0.4,
            "bin_start": 0.30000000000000004,
            "count": 0
           },
           {
            "bin_end": 0.5,
            "bin_start": 0.4,
            "count": 0
           },
           {
            "bin_end": 0.6000000000000001,
            "bin_start": 0.5,
            "count": 0
           },
           {
            "bin_end": 0.7000000000000001,
            "bin_start": 0.6000000000000001,
            "count": 0
           },
           {
            "bin_end": 0.8,
            "bin_start": 0.7000000000000001,
            "count": 0
           },
           {
            "bin_end": 0.9,
            "bin_start": 0.8,
            "count": 0
           },
           {
            "bin_end": 1,
            "bin_start": 0.9,
            "count": 1
           }
          ],
          "max": "1",
          "min": "0",
          "nan_count": 0,
          "unique_count": 2
         }
        },
        {
         "dtype": "bool",
         "name": "isBasicEconomy",
         "stats": {
          "categories": [
           {
            "count": 5,
            "name": "False"
           }
          ],
          "nan_count": 0,
          "unique_count": 1
         }
        },
        {
         "dtype": "bool",
         "name": "isRefundable",
         "stats": {
          "categories": [
           {
            "count": 5,
            "name": "False"
           }
          ],
          "nan_count": 0,
          "unique_count": 1
         }
        },
        {
         "dtype": "bool",
         "name": "isNonStop",
         "stats": {
          "categories": [
           {
            "count": 5,
            "name": "True"
           }
          ],
          "nan_count": 0,
          "unique_count": 1
         }
        },
        {
         "dtype": "float64",
         "name": "baseFare",
         "stats": {
          "histogram": [
           {
            "bin_end": 258.605,
            "bin_start": 236.28,
            "count": 2
           },
           {
            "bin_end": 280.93,
            "bin_start": 258.605,
            "count": 0
           },
           {
            "bin_end": 303.255,
            "bin_start": 280.93,
            "count": 0
           },
           {
            "bin_end": 325.58,
            "bin_start": 303.255,
            "count": 2
           },
           {
            "bin_end": 347.905,
            "bin_start": 325.58,
            "count": 0
           },
           {
            "bin_end": 370.23,
            "bin_start": 347.905,
            "count": 0
           },
           {
            "bin_end": 392.55499999999995,
            "bin_start": 370.23,
            "count": 0
           },
           {
            "bin_end": 414.88,
            "bin_start": 392.55499999999995,
            "count": 0
           },
           {
            "bin_end": 437.2049999999999,
            "bin_start": 414.88,
            "count": 0
           },
           {
            "bin_end": 459.53,
            "bin_start": 437.2049999999999,
            "count": 1
           }
          ],
          "max": "459.53",
          "min": "236.28",
          "nan_count": 0,
          "unique_count": 5
         }
        },
        {
         "dtype": "int64",
         "name": "seatsRemaining",
         "stats": {
          "histogram": [
           {
            "bin_end": 5.4,
            "bin_start": 5,
            "count": 1
           },
           {
            "bin_end": 5.8,
            "bin_start": 5.4,
            "count": 0
           },
           {
            "bin_end": 6.2,
            "bin_start": 5.8,
            "count": 1
           },
           {
            "bin_end": 6.6,
            "bin_start": 6.2,
            "count": 0
           },
           {
            "bin_end": 7,
            "bin_start": 6.6,
            "count": 0
           },
           {
            "bin_end": 7.4,
            "bin_start": 7,
            "count": 2
           },
           {
            "bin_end": 7.800000000000001,
            "bin_start": 7.4,
            "count": 0
           },
           {
            "bin_end": 8.2,
            "bin_start": 7.800000000000001,
            "count": 0
           },
           {
            "bin_end": 8.6,
            "bin_start": 8.2,
            "count": 0
           },
           {
            "bin_end": 9,
            "bin_start": 8.6,
            "count": 1
           }
          ],
          "max": "9",
          "min": "5",
          "nan_count": 0,
          "unique_count": 4
         }
        },
        {
         "dtype": "float64",
         "name": "totalTravelDistance",
         "stats": {
          "histogram": [
           {
            "bin_end": 1288.7,
            "bin_start": 1238,
            "count": 1
           },
           {
            "bin_end": 1339.4,
            "bin_start": 1288.7,
            "count": 0
           },
           {
            "bin_end": 1390.1,
            "bin_start": 1339.4,
            "count": 0
           },
           {
            "bin_end": 1440.8,
            "bin_start": 1390.1,
            "count": 0
           },
           {
            "bin_end": 1491.5,
            "bin_start": 1440.8,
            "count": 0
           },
           {
            "bin_end": 1542.2,
            "bin_start": 1491.5,
            "count": 0
           },
           {
            "bin_end": 1592.9,
            "bin_start": 1542.2,
            "count": 0
           },
           {
            "bin_end": 1643.6,
            "bin_start": 1592.9,
            "count": 0
           },
           {
            "bin_end": 1694.3,
            "bin_start": 1643.6,
            "count": 0
           },
           {
            "bin_end": 1745,
            "bin_start": 1694.3,
            "count": 4
           }
          ],
          "max": "1745.0",
          "min": "1238.0",
          "nan_count": 0,
          "unique_count": 2
         }
        },
        {
         "dtype": "object",
         "name": "segmentsArrivalAirportCode",
         "stats": {
          "categories": [
           {
            "count": 4,
            "name": "ORD"
           },
           {
            "count": 1,
            "name": "DFW"
           }
          ],
          "nan_count": 0,
          "unique_count": 2
         }
        },
        {
         "dtype": "object",
         "name": "segmentsDepartureAirportCode",
         "stats": {
          "categories": [
           {
            "count": 5,
            "name": "LAX"
           }
          ],
          "nan_count": 0,
          "unique_count": 1
         }
        },
        {
         "dtype": "object",
         "name": "segmentsAirlineName",
         "stats": {
          "categories": [
           {
            "count": 3,
            "name": "American Airlines"
           },
           {
            "count": 2,
            "name": "United"
           }
          ],
          "nan_count": 0,
          "unique_count": 2
         }
        },
        {
         "dtype": "object",
         "name": "segmentsAirlineCode",
         "stats": {
          "categories": [
           {
            "count": 3,
            "name": "AA"
           },
           {
            "count": 2,
            "name": "UA"
           }
          ],
          "nan_count": 0,
          "unique_count": 2
         }
        },
        {
         "dtype": "object",
         "name": "segmentsEquipmentDescription",
         "stats": {
          "categories": [
           {
            "count": 2,
            "name": "Boeing 737-800"
           },
           {
            "count": 1,
            "name": "Boeing 737-900"
           },
           {
            "count": 2,
            "name": "2 others"
           }
          ],
          "nan_count": 0,
          "unique_count": 4
         }
        },
        {
         "dtype": "int64",
         "name": "segmentsDurationInSeconds",
         "stats": {
          "histogram": [
           {
            "bin_end": 11262,
            "bin_start": 10860,
            "count": 1
           },
           {
            "bin_end": 11664,
            "bin_start": 11262,
            "count": 0
           },
           {
            "bin_end": 12066,
            "bin_start": 11664,
            "count": 0
           },
           {
            "bin_end": 12468,
            "bin_start": 12066,
            "count": 0
           },
           {
            "bin_end": 12870,
            "bin_start": 12468,
            "count": 0
           },
           {
            "bin_end": 13272,
            "bin_start": 12870,
            "count": 0
           },
           {
            "bin_end": 13674,
            "bin_start": 13272,
            "count": 0
           },
           {
            "bin_end": 14076,
            "bin_start": 13674,
            "count": 0
           },
           {
            "bin_end": 14478,
            "bin_start": 14076,
            "count": 0
           },
           {
            "bin_end": 14880,
            "bin_start": 14478,
            "count": 4
           }
          ],
          "max": "14880",
          "min": "10860",
          "nan_count": 0,
          "unique_count": 4
         }
        },
        {
         "dtype": "int64",
         "name": "segmentsDistance",
         "stats": {
          "histogram": [
           {
            "bin_end": 1288.7,
            "bin_start": 1238,
            "count": 1
           },
           {
            "bin_end": 1339.4,
            "bin_start": 1288.7,
            "count": 0
           },
           {
            "bin_end": 1390.1,
            "bin_start": 1339.4,
            "count": 0
           },
           {
            "bin_end": 1440.8,
            "bin_start": 1390.1,
            "count": 0
           },
           {
            "bin_end": 1491.5,
            "bin_start": 1440.8,
            "count": 0
           },
           {
            "bin_end": 1542.2,
            "bin_start": 1491.5,
            "count": 0
           },
           {
            "bin_end": 1592.9,
            "bin_start": 1542.2,
            "count": 0
           },
           {
            "bin_end": 1643.6,
            "bin_start": 1592.9,
            "count": 0
           },
           {
            "bin_end": 1694.3,
            "bin_start": 1643.6,
            "count": 0
           },
           {
            "bin_end": 1745,
            "bin_start": 1694.3,
            "count": 4
           }
          ],
          "max": "1745",
          "min": "1238",
          "nan_count": 0,
          "unique_count": 2
         }
        },
        {
         "dtype": "object",
         "name": "segmentsCabinCode",
         "stats": {
          "categories": [
           {
            "count": 5,
            "name": "coach"
           }
          ],
          "nan_count": 0,
          "unique_count": 1
         }
        },
        {
         "dtype": "object",
         "name": "bookingClassCode",
         "stats": {
          "categories": [
           {
            "count": 1,
            "name": "W"
           },
           {
            "count": 1,
            "name": "Q"
           },
           {
            "count": 3,
            "name": "3 others"
           }
          ],
          "nan_count": 0,
          "unique_count": 5
         }
        },
        {
         "dtype": "int64",
         "name": "daysTillFlight",
         "stats": {
          "histogram": [
           {
            "bin_end": 3.6,
            "bin_start": 1,
            "count": 2
           },
           {
            "bin_end": 6.2,
            "bin_start": 3.6,
            "count": 1
           },
           {
            "bin_end": 8.8,
            "bin_start": 6.2,
            "count": 1
           },
           {
            "bin_end": 11.4,
            "bin_start": 8.8,
            "count": 0
           },
           {
            "bin_end": 14,
            "bin_start": 11.4,
            "count": 0
           },
           {
            "bin_end": 16.6,
            "bin_start": 14,
            "count": 0
           },
           {
            "bin_end": 19.2,
            "bin_start": 16.6,
            "count": 0
           },
           {
            "bin_end": 21.8,
            "bin_start": 19.2,
            "count": 0
           },
           {
            "bin_end": 24.400000000000002,
            "bin_start": 21.8,
            "count": 0
           },
           {
            "bin_end": 27,
            "bin_start": 24.400000000000002,
            "count": 1
           }
          ],
          "max": "27",
          "min": "1",
          "nan_count": 0,
          "unique_count": 5
         }
        },
        {
         "dtype": "int64",
         "name": "departureDayOfWeek",
         "stats": {
          "histogram": [
           {
            "bin_end": 0.5,
            "bin_start": 0,
            "count": 1
           },
           {
            "bin_end": 1,
            "bin_start": 0.5,
            "count": 0
           },
           {
            "bin_end": 1.5,
            "bin_start": 1,
            "count": 2
           },
           {
            "bin_end": 2,
            "bin_start": 1.5,
            "count": 0
           },
           {
            "bin_end": 2.5,
            "bin_start": 2,
            "count": 0
           },
           {
            "bin_end": 3,
            "bin_start": 2.5,
            "count": 0
           },
           {
            "bin_end": 3.5,
            "bin_start": 3,
            "count": 0
           },
           {
            "bin_end": 4,
            "bin_start": 3.5,
            "count": 0
           },
           {
            "bin_end": 4.5,
            "bin_start": 4,
            "count": 0
           },
           {
            "bin_end": 5,
            "bin_start": 4.5,
            "count": 2
           }
          ],
          "max": "5",
          "min": "0",
          "nan_count": 0,
          "unique_count": 3
         }
        },
        {
         "dtype": "int64",
         "name": "departureHour",
         "stats": {
          "histogram": [
           {
            "bin_end": 8.6,
            "bin_start": 7,
            "count": 1
           },
           {
            "bin_end": 10.2,
            "bin_start": 8.6,
            "count": 1
           },
           {
            "bin_end": 11.8,
            "bin_start": 10.2,
            "count": 0
           },
           {
            "bin_end": 13.4,
            "bin_start": 11.8,
            "count": 1
           },
           {
            "bin_end": 15,
            "bin_start": 13.4,
            "count": 0
           },
           {
            "bin_end": 16.6,
            "bin_start": 15,
            "count": 0
           },
           {
            "bin_end": 18.200000000000003,
            "bin_start": 16.6,
            "count": 1
           },
           {
            "bin_end": 19.8,
            "bin_start": 18.200000000000003,
            "count": 0
           },
           {
            "bin_end": 21.4,
            "bin_start": 19.8,
            "count": 0
           },
           {
            "bin_end": 23,
            "bin_start": 21.4,
            "count": 1
           }
          ],
          "max": "23",
          "min": "7",
          "nan_count": 0,
          "unique_count": 5
         }
        },
        {
         "dtype": "int64",
         "name": "arrivalDayOfWeek",
         "stats": {
          "histogram": [
           {
            "bin_end": 0.6,
            "bin_start": 0,
            "count": 1
           },
           {
            "bin_end": 1.2,
            "bin_start": 0.6,
            "count": 2
           },
           {
            "bin_end": 1.7999999999999998,
            "bin_start": 1.2,
            "count": 0
           },
           {
            "bin_end": 2.4,
            "bin_start": 1.7999999999999998,
            "count": 0
           },
           {
            "bin_end": 3,
            "bin_start": 2.4,
            "count": 0
           },
           {
            "bin_end": 3.5999999999999996,
            "bin_start": 3,
            "count": 0
           },
           {
            "bin_end": 4.2,
            "bin_start": 3.5999999999999996,
            "count": 0
           },
           {
            "bin_end": 4.8,
            "bin_start": 4.2,
            "count": 0
           },
           {
            "bin_end": 5.3999999999999995,
            "bin_start": 4.8,
            "count": 1
           },
           {
            "bin_end": 6,
            "bin_start": 5.3999999999999995,
            "count": 1
           }
          ],
          "max": "6",
          "min": "0",
          "nan_count": 0,
          "unique_count": 4
         }
        },
        {
         "dtype": "int64",
         "name": "arrivalHour",
         "stats": {
          "histogram": [
           {
            "bin_end": 7.7,
            "bin_start": 6,
            "count": 1
           },
           {
            "bin_end": 9.4,
            "bin_start": 7.7,
            "count": 0
           },
           {
            "bin_end": 11.1,
            "bin_start": 9.4,
            "count": 0
           },
           {
            "bin_end": 12.8,
            "bin_start": 11.1,
            "count": 0
           },
           {
            "bin_end": 14.5,
            "bin_start": 12.8,
            "count": 1
           },
           {
            "bin_end": 16.2,
            "bin_start": 14.5,
            "count": 1
           },
           {
            "bin_end": 17.9,
            "bin_start": 16.2,
            "count": 0
           },
           {
            "bin_end": 19.6,
            "bin_start": 17.9,
            "count": 1
           },
           {
            "bin_end": 21.299999999999997,
            "bin_start": 19.6,
            "count": 0
           },
           {
            "bin_end": 23,
            "bin_start": 21.299999999999997,
            "count": 1
           }
          ],
          "max": "23",
          "min": "6",
          "nan_count": 0,
          "unique_count": 5
         }
        },
        {
         "dtype": "int64",
         "name": "_deepnote_index_column"
        }
       ],
       "row_count": 5,
       "rows": [
        {
         "_deepnote_index_column": 0,
         "arrivalDayOfWeek": 6,
         "arrivalHour": 6,
         "baseFare": 236.28,
         "bookingClassCode": "W",
         "daysTillFlight": 27,
         "departureDayOfWeek": 5,
         "departureHour": 23,
         "destinationAirport": "ORD",
         "elapsedDays": 1,
         "isBasicEconomy": "False",
         "isNonStop": "True",
         "isRefundable": "False",
         "seatsRemaining": 9,
         "segmentsAirlineCode": "UA",
         "segmentsAirlineName": "United",
         "segmentsArrivalAirportCode": "ORD",
         "segmentsCabinCode": "coach",
         "segmentsDepartureAirportCode": "LAX",
         "segmentsDistance": 1745,
         "segmentsDurationInSeconds": 14640,
         "segmentsEquipmentDescription": "Boeing 737-900",
         "startingAirport": "LAX",
         "totalTravelDistance": 1745
        },
        {
         "_deepnote_index_column": 1,
         "arrivalDayOfWeek": 1,
         "arrivalHour": 16,
         "baseFare": 305.12,
         "bookingClassCode": "Q",
         "daysTillFlight": 3,
         "departureDayOfWeek": 1,
         "departureHour": 10,
         "destinationAirport": "ORD",
         "elapsedDays": 0,
         "isBasicEconomy": "False",
         "isNonStop": "True",
         "isRefundable": "False",
         "seatsRemaining": 6,
         "segmentsAirlineCode": "UA",
         "segmentsAirlineName": "United",
         "segmentsArrivalAirportCode": "ORD",
         "segmentsCabinCode": "coach",
         "segmentsDepartureAirportCode": "LAX",
         "segmentsDistance": 1745,
         "segmentsDurationInSeconds": 14880,
         "segmentsEquipmentDescription": "Boeing 757-300",
         "startingAirport": "LAX",
         "totalTravelDistance": 1745
        },
        {
         "_deepnote_index_column": 2,
         "arrivalDayOfWeek": 1,
         "arrivalHour": 19,
         "baseFare": 322.79,
         "bookingClassCode": "M",
         "daysTillFlight": 1,
         "departureDayOfWeek": 1,
         "departureHour": 13,
         "destinationAirport": "ORD",
         "elapsedDays": 0,
         "isBasicEconomy": "False",
         "isNonStop": "True",
         "isRefundable": "False",
         "seatsRemaining": 5,
         "segmentsAirlineCode": "AA",
         "segmentsAirlineName": "American Airlines",
         "segmentsArrivalAirportCode": "ORD",
         "segmentsCabinCode": "coach",
         "segmentsDepartureAirportCode": "LAX",
         "segmentsDistance": 1745,
         "segmentsDurationInSeconds": 14700,
         "segmentsEquipmentDescription": "Boeing 737-800",
         "startingAirport": "LAX",
         "totalTravelDistance": 1745
        },
        {
         "_deepnote_index_column": 3,
         "arrivalDayOfWeek": 0,
         "arrivalHour": 13,
         "baseFare": 459.53,
         "bookingClassCode": "H",
         "daysTillFlight": 8,
         "departureDayOfWeek": 0,
         "departureHour": 7,
         "destinationAirport": "ORD",
         "elapsedDays": 0,
         "isBasicEconomy": "False",
         "isNonStop": "True",
         "isRefundable": "False",
         "seatsRemaining": 7,
         "segmentsAirlineCode": "AA",
         "segmentsAirlineName": "American Airlines",
         "segmentsArrivalAirportCode": "ORD",
         "segmentsCabinCode": "coach",
         "segmentsDepartureAirportCode": "LAX",
         "segmentsDistance": 1745,
         "segmentsDurationInSeconds": 14640,
         "segmentsEquipmentDescription": "Boeing 737-800",
         "startingAirport": "LAX",
         "totalTravelDistance": 1745
        },
        {
         "_deepnote_index_column": 4,
         "arrivalDayOfWeek": 5,
         "arrivalHour": 23,
         "baseFare": 252.09,
         "bookingClassCode": "L",
         "daysTillFlight": 5,
         "departureDayOfWeek": 5,
         "departureHour": 18,
         "destinationAirport": "DFW",
         "elapsedDays": 0,
         "isBasicEconomy": "False",
         "isNonStop": "True",
         "isRefundable": "False",
         "seatsRemaining": 7,
         "segmentsAirlineCode": "AA",
         "segmentsAirlineName": "American Airlines",
         "segmentsArrivalAirportCode": "DFW",
         "segmentsCabinCode": "coach",
         "segmentsDepartureAirportCode": "LAX",
         "segmentsDistance": 1238,
         "segmentsDurationInSeconds": 10860,
         "segmentsEquipmentDescription": "Airbus A321",
         "startingAirport": "LAX",
         "totalTravelDistance": 1238
        }
       ]
      },
      "text/html": [
       "<div>\n",
       "<style scoped>\n",
       "    .dataframe tbody tr th:only-of-type {\n",
       "        vertical-align: middle;\n",
       "    }\n",
       "\n",
       "    .dataframe tbody tr th {\n",
       "        vertical-align: top;\n",
       "    }\n",
       "\n",
       "    .dataframe thead th {\n",
       "        text-align: right;\n",
       "    }\n",
       "</style>\n",
       "<table border=\"1\" class=\"dataframe\">\n",
       "  <thead>\n",
       "    <tr style=\"text-align: right;\">\n",
       "      <th></th>\n",
       "      <th>startingAirport</th>\n",
       "      <th>destinationAirport</th>\n",
       "      <th>elapsedDays</th>\n",
       "      <th>isBasicEconomy</th>\n",
       "      <th>isRefundable</th>\n",
       "      <th>isNonStop</th>\n",
       "      <th>baseFare</th>\n",
       "      <th>seatsRemaining</th>\n",
       "      <th>totalTravelDistance</th>\n",
       "      <th>segmentsArrivalAirportCode</th>\n",
       "      <th>...</th>\n",
       "      <th>segmentsEquipmentDescription</th>\n",
       "      <th>segmentsDurationInSeconds</th>\n",
       "      <th>segmentsDistance</th>\n",
       "      <th>segmentsCabinCode</th>\n",
       "      <th>bookingClassCode</th>\n",
       "      <th>daysTillFlight</th>\n",
       "      <th>departureDayOfWeek</th>\n",
       "      <th>departureHour</th>\n",
       "      <th>arrivalDayOfWeek</th>\n",
       "      <th>arrivalHour</th>\n",
       "    </tr>\n",
       "  </thead>\n",
       "  <tbody>\n",
       "    <tr>\n",
       "      <th>0</th>\n",
       "      <td>LAX</td>\n",
       "      <td>ORD</td>\n",
       "      <td>1</td>\n",
       "      <td>False</td>\n",
       "      <td>False</td>\n",
       "      <td>True</td>\n",
       "      <td>236.28</td>\n",
       "      <td>9</td>\n",
       "      <td>1745.0</td>\n",
       "      <td>ORD</td>\n",
       "      <td>...</td>\n",
       "      <td>Boeing 737-900</td>\n",
       "      <td>14640</td>\n",
       "      <td>1745</td>\n",
       "      <td>coach</td>\n",
       "      <td>W</td>\n",
       "      <td>27</td>\n",
       "      <td>5</td>\n",
       "      <td>23</td>\n",
       "      <td>6</td>\n",
       "      <td>6</td>\n",
       "    </tr>\n",
       "    <tr>\n",
       "      <th>1</th>\n",
       "      <td>LAX</td>\n",
       "      <td>ORD</td>\n",
       "      <td>0</td>\n",
       "      <td>False</td>\n",
       "      <td>False</td>\n",
       "      <td>True</td>\n",
       "      <td>305.12</td>\n",
       "      <td>6</td>\n",
       "      <td>1745.0</td>\n",
       "      <td>ORD</td>\n",
       "      <td>...</td>\n",
       "      <td>Boeing 757-300</td>\n",
       "      <td>14880</td>\n",
       "      <td>1745</td>\n",
       "      <td>coach</td>\n",
       "      <td>Q</td>\n",
       "      <td>3</td>\n",
       "      <td>1</td>\n",
       "      <td>10</td>\n",
       "      <td>1</td>\n",
       "      <td>16</td>\n",
       "    </tr>\n",
       "    <tr>\n",
       "      <th>2</th>\n",
       "      <td>LAX</td>\n",
       "      <td>ORD</td>\n",
       "      <td>0</td>\n",
       "      <td>False</td>\n",
       "      <td>False</td>\n",
       "      <td>True</td>\n",
       "      <td>322.79</td>\n",
       "      <td>5</td>\n",
       "      <td>1745.0</td>\n",
       "      <td>ORD</td>\n",
       "      <td>...</td>\n",
       "      <td>Boeing 737-800</td>\n",
       "      <td>14700</td>\n",
       "      <td>1745</td>\n",
       "      <td>coach</td>\n",
       "      <td>M</td>\n",
       "      <td>1</td>\n",
       "      <td>1</td>\n",
       "      <td>13</td>\n",
       "      <td>1</td>\n",
       "      <td>19</td>\n",
       "    </tr>\n",
       "    <tr>\n",
       "      <th>3</th>\n",
       "      <td>LAX</td>\n",
       "      <td>ORD</td>\n",
       "      <td>0</td>\n",
       "      <td>False</td>\n",
       "      <td>False</td>\n",
       "      <td>True</td>\n",
       "      <td>459.53</td>\n",
       "      <td>7</td>\n",
       "      <td>1745.0</td>\n",
       "      <td>ORD</td>\n",
       "      <td>...</td>\n",
       "      <td>Boeing 737-800</td>\n",
       "      <td>14640</td>\n",
       "      <td>1745</td>\n",
       "      <td>coach</td>\n",
       "      <td>H</td>\n",
       "      <td>8</td>\n",
       "      <td>0</td>\n",
       "      <td>7</td>\n",
       "      <td>0</td>\n",
       "      <td>13</td>\n",
       "    </tr>\n",
       "    <tr>\n",
       "      <th>4</th>\n",
       "      <td>LAX</td>\n",
       "      <td>DFW</td>\n",
       "      <td>0</td>\n",
       "      <td>False</td>\n",
       "      <td>False</td>\n",
       "      <td>True</td>\n",
       "      <td>252.09</td>\n",
       "      <td>7</td>\n",
       "      <td>1238.0</td>\n",
       "      <td>DFW</td>\n",
       "      <td>...</td>\n",
       "      <td>Airbus A321</td>\n",
       "      <td>10860</td>\n",
       "      <td>1238</td>\n",
       "      <td>coach</td>\n",
       "      <td>L</td>\n",
       "      <td>5</td>\n",
       "      <td>5</td>\n",
       "      <td>18</td>\n",
       "      <td>5</td>\n",
       "      <td>23</td>\n",
       "    </tr>\n",
       "  </tbody>\n",
       "</table>\n",
       "<p>5 rows × 23 columns</p>\n",
       "</div>"
      ],
      "text/plain": [
       "  startingAirport destinationAirport  elapsedDays  isBasicEconomy  \\\n",
       "0             LAX                ORD            1           False   \n",
       "1             LAX                ORD            0           False   \n",
       "2             LAX                ORD            0           False   \n",
       "3             LAX                ORD            0           False   \n",
       "4             LAX                DFW            0           False   \n",
       "\n",
       "   isRefundable  isNonStop  baseFare  seatsRemaining  totalTravelDistance  \\\n",
       "0         False       True    236.28               9               1745.0   \n",
       "1         False       True    305.12               6               1745.0   \n",
       "2         False       True    322.79               5               1745.0   \n",
       "3         False       True    459.53               7               1745.0   \n",
       "4         False       True    252.09               7               1238.0   \n",
       "\n",
       "  segmentsArrivalAirportCode  ... segmentsEquipmentDescription  \\\n",
       "0                        ORD  ...               Boeing 737-900   \n",
       "1                        ORD  ...               Boeing 757-300   \n",
       "2                        ORD  ...               Boeing 737-800   \n",
       "3                        ORD  ...               Boeing 737-800   \n",
       "4                        DFW  ...                  Airbus A321   \n",
       "\n",
       "  segmentsDurationInSeconds segmentsDistance segmentsCabinCode  \\\n",
       "0                     14640             1745             coach   \n",
       "1                     14880             1745             coach   \n",
       "2                     14700             1745             coach   \n",
       "3                     14640             1745             coach   \n",
       "4                     10860             1238             coach   \n",
       "\n",
       "   bookingClassCode  daysTillFlight departureDayOfWeek departureHour  \\\n",
       "0                 W              27                  5            23   \n",
       "1                 Q               3                  1            10   \n",
       "2                 M               1                  1            13   \n",
       "3                 H               8                  0             7   \n",
       "4                 L               5                  5            18   \n",
       "\n",
       "   arrivalDayOfWeek  arrivalHour  \n",
       "0                 6            6  \n",
       "1                 1           16  \n",
       "2                 1           19  \n",
       "3                 0           13  \n",
       "4                 5           23  \n",
       "\n",
       "[5 rows x 23 columns]"
      ]
     },
     "execution_count": 2,
     "metadata": {},
     "output_type": "execute_result"
    }
   ],
   "source": [
    "# Load in pre-cleaned data set (see the Data Cleaning notebook)\n",
    "data = pd.read_csv(\"/work/filtered_data.csv\")\n",
    "data.head()"
   ]
  },
  {
   "cell_type": "markdown",
   "metadata": {
    "cell_id": "898667fcb4854e57ae060eef3214ac42",
    "deepnote_cell_type": "markdown"
   },
   "source": [
    "## Dummy Encoding Data + Train/Test Split"
   ]
  },
  {
   "cell_type": "code",
   "execution_count": 3,
   "metadata": {
    "cell_id": "bd0e9596e9544b548b3fc59382cf4bed",
    "deepnote_cell_type": "code",
    "execution_context_id": "062251c2-ef56-42de-bf12-c5c3f0928f2a",
    "execution_millis": 264,
    "execution_start": 1733788925216,
    "source_hash": "4f33c699"
   },
   "outputs": [],
   "source": [
    "# Dummy encoding data + train/test split\n",
    "df_encoded = pd.get_dummies(data)\n",
    "df_encoded = df_encoded.dropna()\n",
    "df_encoded = df_encoded.astype('float64')\n",
    "X = df_encoded.drop('baseFare', axis=1)\n",
    "y = df_encoded['baseFare']\n",
    "X_train, X_test, y_train, y_test = train_test_split(X, y, test_size=0.3, random_state=142)"
   ]
  },
  {
   "cell_type": "markdown",
   "metadata": {
    "cell_id": "50cdd94221604495a9daa7c5f7bc910b",
    "deepnote_cell_type": "markdown"
   },
   "source": [
    "## Basic Lasso Model"
   ]
  },
  {
   "cell_type": "code",
   "execution_count": 4,
   "metadata": {
    "cell_id": "77616c49a7314407b151e8e07111547e",
    "deepnote_cell_type": "code",
    "execution_context_id": "2d853662-138a-4e4d-abac-fe83ae86f265",
    "execution_millis": 220315,
    "execution_start": 1733788925540,
    "source_hash": "aeff03de"
   },
   "outputs": [
    {
     "name": "stderr",
     "output_type": "stream",
     "text": [
      "/root/venv/lib/python3.9/site-packages/sklearn/linear_model/_coordinate_descent.py:648: ConvergenceWarning: Objective did not converge. You might want to increase the number of iterations, check the scale of the features or consider increasing regularisation. Duality gap: 3.550e+07, tolerance: 3.628e+04\n",
      "  model = cd_fast.enet_coordinate_descent(\n"
     ]
    }
   ],
   "source": [
    "# Lasso with arbitrarily chosen alpha as 0.1 => corresponds to 0.80 R2 accuracy\n",
    "\n",
    "from sklearn.linear_model import Lasso\n",
    "\n",
    "lasso_model = Lasso(alpha=0.1)\n",
    "lasso_model.fit(X_train, y_train)\n",
    "y_pred = lasso_model.predict(X_test)"
   ]
  },
  {
   "cell_type": "code",
   "execution_count": 5,
   "metadata": {
    "cell_id": "953cfc29beee4b3ca37f7d1725d8d932",
    "deepnote_cell_type": "code",
    "execution_context_id": "062251c2-ef56-42de-bf12-c5c3f0928f2a",
    "execution_millis": 0,
    "execution_start": 1733789145904,
    "source_hash": "cbc1218f"
   },
   "outputs": [
    {
     "name": "stdout",
     "output_type": "stream",
     "text": [
      "R² Score: 0.8105480182933995\n"
     ]
    }
   ],
   "source": [
    "# Calculating R2 of Lasso model\n",
    "from sklearn.metrics import r2_score\n",
    "r2 = r2_score(y_test, y_pred)\n",
    "print(f\"R² Score: {r2}\")"
   ]
  },
  {
   "cell_type": "markdown",
   "metadata": {
    "cell_id": "0ceb43b33c184ea889a9af8417a52788",
    "deepnote_cell_type": "markdown"
   },
   "source": [
    "## Cross-Validated Lasso Model"
   ]
  },
  {
   "cell_type": "code",
   "execution_count": 6,
   "metadata": {
    "cell_id": "cf8830af2dc44c1e9ed5ac22a00f903f",
    "deepnote_cell_type": "code",
    "execution_context_id": "2d853662-138a-4e4d-abac-fe83ae86f265",
    "execution_millis": 83573,
    "execution_start": 1733789146016,
    "source_hash": "c74cde57"
   },
   "outputs": [
    {
     "name": "stdout",
     "output_type": "stream",
     "text": [
      "Optimal Alpha (scaled): 0.05671289954355441\n"
     ]
    }
   ],
   "source": [
    "# Performing cross-validation with the Lasso Model\n",
    "from sklearn.preprocessing import StandardScaler\n",
    "from sklearn.linear_model import LassoCV\n",
    "\n",
    "scaler = StandardScaler()\n",
    "X_train_scaled = scaler.fit_transform(X_train)\n",
    "X_test_scaled = scaler.transform(X_test)\n",
    "\n",
    "# Fit LassoCV again on the scaled data\n",
    "lasso_cv = LassoCV(cv=5, random_state=42).fit(X_train_scaled, y_train)\n",
    "print(\"Optimal Alpha (scaled):\", lasso_cv.alpha_)"
   ]
  },
  {
   "cell_type": "code",
   "execution_count": 7,
   "metadata": {
    "cell_id": "225d3a81f2cd43fd9451792022d019f1",
    "deepnote_cell_type": "code",
    "execution_context_id": "2d853662-138a-4e4d-abac-fe83ae86f265",
    "execution_millis": 225403,
    "execution_start": 1733789229689,
    "source_hash": "85755f60"
   },
   "outputs": [
    {
     "name": "stderr",
     "output_type": "stream",
     "text": [
      "/root/venv/lib/python3.9/site-packages/sklearn/linear_model/_coordinate_descent.py:648: ConvergenceWarning: Objective did not converge. You might want to increase the number of iterations, check the scale of the features or consider increasing regularisation. Duality gap: 3.270e+07, tolerance: 3.628e+04\n",
      "  model = cd_fast.enet_coordinate_descent(\n",
      "R² Score: 0.8143844526404496\n"
     ]
    }
   ],
   "source": [
    "# Seems like CV-selected alpha achieves the same R² score as the original model with randomly choosing 0.1 as the alpha\n",
    "\n",
    "lasso_model_CV_alpha = Lasso(alpha=0.05668193869844624)\n",
    "lasso_model_CV_alpha.fit(X_train, y_train)\n",
    "y_pred_CV_alpha = lasso_model_CV_alpha.predict(X_test)\n",
    "r2_CV_alpha = r2_score(y_test, y_pred_CV_alpha)\n",
    "print(f\"R² Score: {r2_CV_alpha}\")"
   ]
  },
  {
   "cell_type": "markdown",
   "metadata": {
    "cell_id": "c55fe2b008aa4bb9b767e6d353200214",
    "deepnote_cell_type": "markdown"
   },
   "source": [
    "## Performance Metrics + Analysis"
   ]
  },
  {
   "cell_type": "code",
   "execution_count": 13,
   "metadata": {
    "cell_id": "04058c65911046beb3763da75eebe089",
    "deepnote_cell_type": "code",
    "execution_context_id": "2d853662-138a-4e4d-abac-fe83ae86f265",
    "execution_millis": 0,
    "execution_start": 1733790935896,
    "source_hash": "de803790"
   },
   "outputs": [
    {
     "name": "stdout",
     "output_type": "stream",
     "text": [
      "OSR²: 0.8143970285952638\n"
     ]
    }
   ],
   "source": [
    "SSE = np.sum((y_test - y_pred_CV_alpha) ** 2)\n",
    "\n",
    "# Calculate SST (using the mean of y_train)\n",
    "SST = np.sum((y_test - np.mean(y_train)) ** 2)\n",
    "\n",
    "# Compute OSR^2\n",
    "OSR2 = 1 - SSE / SST\n",
    "\n",
    "print(f\"OSR²: {OSR2}\")"
   ]
  },
  {
   "cell_type": "code",
   "execution_count": 14,
   "metadata": {
    "cell_id": "2b42dfd06c404b5d95daac85a75f1c85",
    "deepnote_cell_type": "code",
    "execution_context_id": "2d853662-138a-4e4d-abac-fe83ae86f265",
    "execution_millis": 0,
    "execution_start": 1733791029484,
    "source_hash": "aaf5a1ad"
   },
   "outputs": [
    {
     "name": "stdout",
     "output_type": "stream",
     "text": [
      "RMSE: 62.94605030724557\n"
     ]
    }
   ],
   "source": [
    "rmse = np.sqrt(np.mean((y_test - y_pred_CV_alpha) ** 2))\n",
    "print(\"RMSE:\", rmse)"
   ]
  },
  {
   "cell_type": "code",
   "execution_count": 8,
   "metadata": {
    "cell_id": "e8818e68e35044aebc51550e9ab395e0",
    "deepnote_cell_type": "code",
    "execution_context_id": "bca24796-29f1-4c84-aff5-53ec408a1455",
    "execution_millis": 0,
    "execution_start": 1733789455184,
    "source_hash": "f1433887"
   },
   "outputs": [],
   "source": [
    "features = X_train.columns\n",
    "coefficients = lasso_model.coef_"
   ]
  },
  {
   "cell_type": "code",
   "execution_count": 9,
   "metadata": {
    "cell_id": "3a8eb2820e5f4ac9ae2b31b89233573d",
    "deepnote_cell_type": "code",
    "execution_context_id": "bca24796-29f1-4c84-aff5-53ec408a1455",
    "execution_millis": 1,
    "execution_start": 1733789455288,
    "source_hash": "302c3384"
   },
   "outputs": [
    {
     "name": "stdout",
     "output_type": "stream",
     "text": [
      "Dropped Features:\n",
      "                                              Feature  Coefficient\n",
      "0                                         elapsedDays         -0.0\n",
      "2                                        isRefundable          0.0\n",
      "3                                           isNonStop          0.0\n",
      "13                                startingAirport_LAX         -0.0\n",
      "14                                startingAirport_SFO          0.0\n",
      "15                             destinationAirport_ATL         -0.0\n",
      "16                             destinationAirport_BOS         -0.0\n",
      "17                             destinationAirport_CLT          0.0\n",
      "18                             destinationAirport_DEN          0.0\n",
      "20                             destinationAirport_DTW          0.0\n",
      "21                             destinationAirport_EWR         -0.0\n",
      "22                             destinationAirport_IAD          0.0\n",
      "23                             destinationAirport_JFK         -0.0\n",
      "24                             destinationAirport_MIA          0.0\n",
      "25                             destinationAirport_ORD          0.0\n",
      "26                             destinationAirport_PHL          0.0\n",
      "27                     segmentsArrivalAirportCode_ATL         -0.0\n",
      "28                     segmentsArrivalAirportCode_BOS         -0.0\n",
      "29                     segmentsArrivalAirportCode_CLT          0.0\n",
      "31                     segmentsArrivalAirportCode_DFW          0.0\n",
      "32                     segmentsArrivalAirportCode_DTW          0.0\n",
      "33                     segmentsArrivalAirportCode_EWR         -0.0\n",
      "34                     segmentsArrivalAirportCode_IAD          0.0\n",
      "35                     segmentsArrivalAirportCode_JFK         -0.0\n",
      "36                     segmentsArrivalAirportCode_MIA          0.0\n",
      "37                     segmentsArrivalAirportCode_ORD          0.0\n",
      "38                     segmentsArrivalAirportCode_PHL          0.0\n",
      "41                   segmentsDepartureAirportCode_SFO          0.0\n",
      "42                segmentsAirlineName_Alaska Airlines         -0.0\n",
      "44                          segmentsAirlineName_Delta          0.0\n",
      "46                segmentsAirlineName_JetBlue Airways         -0.0\n",
      "49                             segmentsAirlineCode_AS         -0.0\n",
      "50                             segmentsAirlineCode_B6         -0.0\n",
      "51                             segmentsAirlineCode_DL          0.0\n",
      "54  segmentsEquipmentDescription_AIRBUS INDUSTRIE ...          0.0\n",
      "56       segmentsEquipmentDescription_Airbus A319-321         -0.0\n",
      "57           segmentsEquipmentDescription_Airbus A320          0.0\n",
      "58           segmentsEquipmentDescription_Airbus A321          0.0\n",
      "59      segmentsEquipmentDescription_BOEING 777-300ER         -0.0\n",
      "61      segmentsEquipmentDescription_Boeing 737 MAX 8          0.0\n",
      "63        segmentsEquipmentDescription_Boeing 737-800         -0.0\n",
      "64        segmentsEquipmentDescription_Boeing 737-900         -0.0\n",
      "65        segmentsEquipmentDescription_Boeing 757-200          0.0\n",
      "67            segmentsEquipmentDescription_Boeing 767          0.0\n",
      "68        segmentsEquipmentDescription_Boeing 767-300          0.0\n",
      "70        segmentsEquipmentDescription_Boeing 777-200         -0.0\n",
      "72           segmentsEquipmentDescription_Embraer 175          0.0\n",
      "73                         segmentsCabinCode_business          0.0\n",
      "76                    segmentsCabinCode_premium coach         -0.0\n",
      "78                                 bookingClassCode_C          0.0\n",
      "79                                 bookingClassCode_D         -0.0\n",
      "89                                 bookingClassCode_P         -0.0\n",
      "90                                 bookingClassCode_Q          0.0\n",
      "91                                 bookingClassCode_R          0.0\n",
      "97                                 bookingClassCode_X         -0.0\n",
      "99                                 bookingClassCode_Z         -0.0\n",
      "\n",
      "Retained Features:\n",
      "                                          Feature  Coefficient\n",
      "1                                  isBasicEconomy   -63.670477\n",
      "4                                  seatsRemaining     0.396049\n",
      "5                             totalTravelDistance     0.051759\n",
      "6                       segmentsDurationInSeconds     0.047635\n",
      "7                                segmentsDistance    -0.333930\n",
      "8                                  daysTillFlight    -0.354749\n",
      "9                              departureDayOfWeek     2.268106\n",
      "10                                  departureHour    -0.602513\n",
      "11                               arrivalDayOfWeek     0.026203\n",
      "12                                    arrivalHour     0.770306\n",
      "19                         destinationAirport_DFW   -23.444668\n",
      "30                 segmentsArrivalAirportCode_DAL    -6.262564\n",
      "39               segmentsDepartureAirportCode_LAX   -40.109741\n",
      "40               segmentsDepartureAirportCode_ONT     6.277616\n",
      "43          segmentsAirlineName_American Airlines    47.046915\n",
      "45          segmentsAirlineName_Frontier Airlines  -160.096972\n",
      "47                     segmentsAirlineName_United    23.351497\n",
      "48                         segmentsAirlineCode_AA     9.233505\n",
      "52                         segmentsAirlineCode_F9    -0.000609\n",
      "53                         segmentsAirlineCode_UA     8.346732\n",
      "55       segmentsEquipmentDescription_Airbus A319   -27.307230\n",
      "60      segmentsEquipmentDescription_BOEING 787-9    39.084828\n",
      "62  segmentsEquipmentDescription_Boeing 737 MAX 9   -11.622944\n",
      "66    segmentsEquipmentDescription_Boeing 757-300     2.693622\n",
      "69        segmentsEquipmentDescription_Boeing 777   -13.301874\n",
      "71      segmentsEquipmentDescription_Boeing 787-8    23.627559\n",
      "74                        segmentsCabinCode_coach  -373.087257\n",
      "75                        segmentsCabinCode_first   642.593552\n",
      "77                             bookingClassCode_B   269.432496\n",
      "80                             bookingClassCode_E   187.656869\n",
      "81                             bookingClassCode_G   -51.384859\n",
      "82                             bookingClassCode_H   104.822954\n",
      "83                             bookingClassCode_J   162.669728\n",
      "84                             bookingClassCode_K    90.641712\n",
      "85                             bookingClassCode_L    -6.302276\n",
      "86                             bookingClassCode_M    96.869333\n",
      "87                             bookingClassCode_N  -106.835325\n",
      "88                             bookingClassCode_O   -92.762947\n",
      "92                             bookingClassCode_S   -87.862476\n",
      "93                             bookingClassCode_T   -81.904027\n",
      "94                             bookingClassCode_U   104.546808\n",
      "95                             bookingClassCode_V   -26.289061\n",
      "96                             bookingClassCode_W   -58.490122\n",
      "98                             bookingClassCode_Y   732.475276\n"
     ]
    }
   ],
   "source": [
    "feature_importance = pd.DataFrame({\n",
    "    'Feature': features,\n",
    "    'Coefficient': coefficients\n",
    "})\n",
    "\n",
    "# Filter dropped features (coefficients that are zero)\n",
    "dropped_features = feature_importance[feature_importance['Coefficient'] == 0]\n",
    "print(\"Dropped Features:\")\n",
    "print(dropped_features)\n",
    "\n",
    "# Features retained\n",
    "retained_features = feature_importance[feature_importance['Coefficient'] != 0]\n",
    "print(\"\\nRetained Features:\")\n",
    "print(retained_features)"
   ]
  }
 ],
 "metadata": {
  "deepnote_notebook_id": "171be89b09934b419d10093da51f2791",
  "deepnote_persisted_session": {
   "createdAt": "2024-12-06T05:18:21.418Z"
  },
  "language_info": {
   "name": "python"
  }
 },
 "nbformat": 4,
 "nbformat_minor": 0
}
